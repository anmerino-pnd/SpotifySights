{
 "cells": [
  {
   "cell_type": "markdown",
   "metadata": {},
   "source": [
    "# SpotifySights"
   ]
  },
  {
   "cell_type": "code",
   "execution_count": 201,
   "metadata": {},
   "outputs": [],
   "source": [
    "# Libraries needed for the project\n",
    "import spotipy                                              # type: ignore\n",
    "import requests\n",
    "import pandas as pd\n",
    "import plotly.express as px\n",
    "from spotipy.oauth2 import SpotifyOAuth"
   ]
  },
  {
   "cell_type": "markdown",
   "metadata": {},
   "source": [
    "Since this is private information, remember to fill your credentials in the `credentials.txt` and then run the code. Also, remember that these credentials are from the [developer spotify dashboard](https://developer.spotify.com/dashboard)."
   ]
  },
  {
   "cell_type": "code",
   "execution_count": 2,
   "metadata": {},
   "outputs": [],
   "source": [
    "# Open the file in read mode\n",
    "with open('credentials.txt', 'r') as file:\n",
    "    # Read all lines from the file\n",
    "    lines = file.readlines()\n",
    "\n",
    "# Initialize variables to store credentials\n",
    "client_id = None\n",
    "client_secret = None\n",
    "\n",
    "# Iterate over the lines to find the credentials\n",
    "for line in lines:\n",
    "    # Split the line into parts using the equal sign as a separator\n",
    "    parts = line.split('=')\n",
    "\n",
    "    # Check if the line has at least two parts (variable name and value)\n",
    "    if len(parts) == 2:\n",
    "        # Get the variable name and value by removing whitespace\n",
    "        variable_name = parts[0].strip()\n",
    "        value = parts[1].strip()\n",
    "\n",
    "        # Compare the variable name and store the corresponding value\n",
    "        if variable_name == 'client_id':\n",
    "            client_id = value.strip('\"')\n",
    "        elif variable_name == 'client_secret':\n",
    "            client_secret = value.strip('\"')"
   ]
  },
  {
   "cell_type": "code",
   "execution_count": 3,
   "metadata": {},
   "outputs": [],
   "source": [
    "# Function to get the Spotify API token\n",
    "def spotify(client_id:str, client_secret:str, scope:str=None):\n",
    "    sp = spotipy.Spotify(auth_manager=SpotifyOAuth(client_id= client_id,\n",
    "                                                client_secret=client_secret,\n",
    "                                                redirect_uri=\"http://localhost:8888/callback\",\n",
    "                                                scope=scope))\n",
    "    return sp"
   ]
  },
  {
   "cell_type": "markdown",
   "metadata": {},
   "source": [
    "Check if the code below runs well, sometimes there might be issues with token, and might be a little too complicated to work with this API. But don't worry, you can get all the help you need either in [stackoverflow](https://stackoverflow.com/questions/tagged/spotify) or [medium](https://medium.com/search?q=spotify+api+python) (this one is the best in my opinion)."
   ]
  },
  {
   "cell_type": "code",
   "execution_count": 4,
   "metadata": {},
   "outputs": [
    {
     "data": {
      "text/plain": [
       "{'display_name': 'Angel Panda',\n",
       " 'external_urls': {'spotify': 'https://open.spotify.com/user/12165545125'},\n",
       " 'href': 'https://api.spotify.com/v1/users/12165545125',\n",
       " 'id': '12165545125',\n",
       " 'images': [{'url': 'https://scontent-ord5-1.xx.fbcdn.net/v/t39.30808-1/367459657_2338569392993162_3452082202277657577_n.jpg?stp=c6.0.50.50a_cp0_dst-jpg_p50x50&_nc_cat=106&ccb=1-7&_nc_sid=5f2048&_nc_ohc=wgMcNbiqeQQAX97Rebp&_nc_ht=scontent-ord5-1.xx&edm=AP4hL3IEAAAA&oh=00_AfDrjSXVQB0RiM8gfJX5cwiQ7FaIyEW8E4t5BiEWI4vi2Q&oe=655A9D7F',\n",
       "   'height': 64,\n",
       "   'width': 64},\n",
       "  {'url': 'https://scontent-ord5-1.xx.fbcdn.net/v/t39.30808-1/367459657_2338569392993162_3452082202277657577_n.jpg?stp=c36.0.320.320a_dst-jpg_p320x320&_nc_cat=106&ccb=1-7&_nc_sid=5f2048&_nc_ohc=wgMcNbiqeQQAX97Rebp&_nc_ht=scontent-ord5-1.xx&edm=AP4hL3IEAAAA&oh=00_AfBTdMYcF2Dl4aA1NVGzWqFS1wgjHQrZz5GB-DGEQuwanA&oe=655A9D7F',\n",
       "   'height': 300,\n",
       "   'width': 300}],\n",
       " 'type': 'user',\n",
       " 'uri': 'spotify:user:12165545125',\n",
       " 'followers': {'href': None, 'total': 37}}"
      ]
     },
     "execution_count": 4,
     "metadata": {},
     "output_type": "execute_result"
    }
   ],
   "source": [
    "sp = spotify(client_id, client_secret)\n",
    "sp.me()"
   ]
  },
  {
   "cell_type": "code",
   "execution_count": 99,
   "metadata": {},
   "outputs": [],
   "source": [
    "# This scope shows you the last 20 tracks you've saved\n",
    "scope = \"user-library-read\"\n",
    "\n",
    "sp = spotify(client_id, client_secret, scope)\n",
    "\n",
    "results = sp.current_user_saved_tracks()\n",
    "\n",
    "# Extract track information into a DataFrame\n",
    "tracks_data = []\n",
    "for idx, item in enumerate(results['items']):\n",
    "    track = item['track']\n",
    "    track_data = {\n",
    "        'Artist': track['artists'][0]['name'],\n",
    "        'Track': track['name']\n",
    "    }\n",
    "    tracks_data.append(track_data)\n",
    "\n",
    "# Create DataFrame\n",
    "tracks = pd.DataFrame(tracks_data)"
   ]
  },
  {
   "cell_type": "code",
   "execution_count": 238,
   "metadata": {},
   "outputs": [
    {
     "data": {
      "application/vnd.plotly.v1+json": {
       "config": {
        "plotlyServerURL": "https://plot.ly"
       },
       "data": [
        {
         "branchvalues": "total",
         "domain": {
          "x": [
           0,
           1
          ],
          "y": [
           0,
           1
          ]
         },
         "hovertemplate": "labels=%{label}<br>count=%{value}<br>parent=%{parent}<br>id=%{id}<extra></extra>",
         "ids": [
          "My Saved Tracks/Arctic Monkeys/D Is for Dangerous",
          "My Saved Tracks/Snoh Aalegra/DO 4 LOVE",
          "My Saved Tracks/King Gnu/Don't Stop the Clocks",
          "My Saved Tracks/Joe Hisaishi/Evening Wind",
          "My Saved Tracks/IVYSON/Girassol - Acústico",
          "My Saved Tracks/Frank Ocean/In My Room",
          "My Saved Tracks/JKRS/It's a Fine Day",
          "My Saved Tracks/MoonMoon/L'oiseau bleu",
          "My Saved Tracks/Pedro Mizutani/Melhor Se Acostumar",
          "My Saved Tracks/KAROL G/OKI DOKI",
          "My Saved Tracks/Little Simz/Phases",
          "My Saved Tracks/Shikki/Sans toi",
          "My Saved Tracks/Shikki/Sous le ciel de Paris",
          "My Saved Tracks/Cesária Evora/Sódade",
          "My Saved Tracks/rum.gold/Thicker Than Water",
          "My Saved Tracks/rum.gold/Waiting For (feat. Jamila Woods)",
          "My Saved Tracks/Junior H/Y LLORO",
          "My Saved Tracks/Colde/Your Dog Loves You (Feat. Crush)",
          "My Saved Tracks/Elijah Who/i'm tired of feeling this way",
          "My Saved Tracks/Yaya Bey/mama loves her son",
          "My Saved Tracks/Arctic Monkeys",
          "My Saved Tracks/Cesária Evora",
          "My Saved Tracks/Colde",
          "My Saved Tracks/Elijah Who",
          "My Saved Tracks/Frank Ocean",
          "My Saved Tracks/IVYSON",
          "My Saved Tracks/JKRS",
          "My Saved Tracks/Joe Hisaishi",
          "My Saved Tracks/Junior H",
          "My Saved Tracks/KAROL G",
          "My Saved Tracks/King Gnu",
          "My Saved Tracks/Little Simz",
          "My Saved Tracks/MoonMoon",
          "My Saved Tracks/Pedro Mizutani",
          "My Saved Tracks/Shikki",
          "My Saved Tracks/Snoh Aalegra",
          "My Saved Tracks/Yaya Bey",
          "My Saved Tracks/rum.gold",
          "My Saved Tracks"
         ],
         "insidetextfont": {
          "size": 14
         },
         "labels": [
          "D Is for Dangerous",
          "DO 4 LOVE",
          "Don't Stop the Clocks",
          "Evening Wind",
          "Girassol - Acústico",
          "In My Room",
          "It's a Fine Day",
          "L'oiseau bleu",
          "Melhor Se Acostumar",
          "OKI DOKI",
          "Phases",
          "Sans toi",
          "Sous le ciel de Paris",
          "Sódade",
          "Thicker Than Water",
          "Waiting For (feat. Jamila Woods)",
          "Y LLORO",
          "Your Dog Loves You (Feat. Crush)",
          "i'm tired of feeling this way",
          "mama loves her son",
          "Arctic Monkeys",
          "Cesária Evora",
          "Colde",
          "Elijah Who",
          "Frank Ocean",
          "IVYSON",
          "JKRS",
          "Joe Hisaishi",
          "Junior H",
          "KAROL G",
          "King Gnu",
          "Little Simz",
          "MoonMoon",
          "Pedro Mizutani",
          "Shikki",
          "Snoh Aalegra",
          "Yaya Bey",
          "rum.gold",
          "My Saved Tracks"
         ],
         "name": "",
         "parents": [
          "My Saved Tracks/Arctic Monkeys",
          "My Saved Tracks/Snoh Aalegra",
          "My Saved Tracks/King Gnu",
          "My Saved Tracks/Joe Hisaishi",
          "My Saved Tracks/IVYSON",
          "My Saved Tracks/Frank Ocean",
          "My Saved Tracks/JKRS",
          "My Saved Tracks/MoonMoon",
          "My Saved Tracks/Pedro Mizutani",
          "My Saved Tracks/KAROL G",
          "My Saved Tracks/Little Simz",
          "My Saved Tracks/Shikki",
          "My Saved Tracks/Shikki",
          "My Saved Tracks/Cesária Evora",
          "My Saved Tracks/rum.gold",
          "My Saved Tracks/rum.gold",
          "My Saved Tracks/Junior H",
          "My Saved Tracks/Colde",
          "My Saved Tracks/Elijah Who",
          "My Saved Tracks/Yaya Bey",
          "My Saved Tracks",
          "My Saved Tracks",
          "My Saved Tracks",
          "My Saved Tracks",
          "My Saved Tracks",
          "My Saved Tracks",
          "My Saved Tracks",
          "My Saved Tracks",
          "My Saved Tracks",
          "My Saved Tracks",
          "My Saved Tracks",
          "My Saved Tracks",
          "My Saved Tracks",
          "My Saved Tracks",
          "My Saved Tracks",
          "My Saved Tracks",
          "My Saved Tracks",
          "My Saved Tracks",
          ""
         ],
         "root": {
          "color": "#ffffff"
         },
         "textposition": "middle center",
         "type": "treemap",
         "values": [
          1,
          1,
          1,
          1,
          1,
          1,
          1,
          1,
          1,
          1,
          1,
          1,
          1,
          1,
          1,
          1,
          1,
          1,
          1,
          1,
          1,
          1,
          1,
          1,
          1,
          1,
          1,
          1,
          1,
          1,
          1,
          1,
          1,
          1,
          2,
          1,
          1,
          2,
          20
         ]
        }
       ],
       "layout": {
        "colorway": [
         "#f6b520",
         "#f0cc80",
         "#0c8c4c",
         "#3f8c44",
         "#eae9e5",
         "#424236"
        ],
        "legend": {
         "tracegroupgap": 0
        },
        "margin": {
         "b": 0,
         "l": 0,
         "r": 0,
         "t": 0
        },
        "template": {
         "data": {
          "bar": [
           {
            "error_x": {
             "color": "#2a3f5f"
            },
            "error_y": {
             "color": "#2a3f5f"
            },
            "marker": {
             "line": {
              "color": "#E5ECF6",
              "width": 0.5
             },
             "pattern": {
              "fillmode": "overlay",
              "size": 10,
              "solidity": 0.2
             }
            },
            "type": "bar"
           }
          ],
          "barpolar": [
           {
            "marker": {
             "line": {
              "color": "#E5ECF6",
              "width": 0.5
             },
             "pattern": {
              "fillmode": "overlay",
              "size": 10,
              "solidity": 0.2
             }
            },
            "type": "barpolar"
           }
          ],
          "carpet": [
           {
            "aaxis": {
             "endlinecolor": "#2a3f5f",
             "gridcolor": "white",
             "linecolor": "white",
             "minorgridcolor": "white",
             "startlinecolor": "#2a3f5f"
            },
            "baxis": {
             "endlinecolor": "#2a3f5f",
             "gridcolor": "white",
             "linecolor": "white",
             "minorgridcolor": "white",
             "startlinecolor": "#2a3f5f"
            },
            "type": "carpet"
           }
          ],
          "choropleth": [
           {
            "colorbar": {
             "outlinewidth": 0,
             "ticks": ""
            },
            "type": "choropleth"
           }
          ],
          "contour": [
           {
            "colorbar": {
             "outlinewidth": 0,
             "ticks": ""
            },
            "colorscale": [
             [
              0,
              "#0d0887"
             ],
             [
              0.1111111111111111,
              "#46039f"
             ],
             [
              0.2222222222222222,
              "#7201a8"
             ],
             [
              0.3333333333333333,
              "#9c179e"
             ],
             [
              0.4444444444444444,
              "#bd3786"
             ],
             [
              0.5555555555555556,
              "#d8576b"
             ],
             [
              0.6666666666666666,
              "#ed7953"
             ],
             [
              0.7777777777777778,
              "#fb9f3a"
             ],
             [
              0.8888888888888888,
              "#fdca26"
             ],
             [
              1,
              "#f0f921"
             ]
            ],
            "type": "contour"
           }
          ],
          "contourcarpet": [
           {
            "colorbar": {
             "outlinewidth": 0,
             "ticks": ""
            },
            "type": "contourcarpet"
           }
          ],
          "heatmap": [
           {
            "colorbar": {
             "outlinewidth": 0,
             "ticks": ""
            },
            "colorscale": [
             [
              0,
              "#0d0887"
             ],
             [
              0.1111111111111111,
              "#46039f"
             ],
             [
              0.2222222222222222,
              "#7201a8"
             ],
             [
              0.3333333333333333,
              "#9c179e"
             ],
             [
              0.4444444444444444,
              "#bd3786"
             ],
             [
              0.5555555555555556,
              "#d8576b"
             ],
             [
              0.6666666666666666,
              "#ed7953"
             ],
             [
              0.7777777777777778,
              "#fb9f3a"
             ],
             [
              0.8888888888888888,
              "#fdca26"
             ],
             [
              1,
              "#f0f921"
             ]
            ],
            "type": "heatmap"
           }
          ],
          "heatmapgl": [
           {
            "colorbar": {
             "outlinewidth": 0,
             "ticks": ""
            },
            "colorscale": [
             [
              0,
              "#0d0887"
             ],
             [
              0.1111111111111111,
              "#46039f"
             ],
             [
              0.2222222222222222,
              "#7201a8"
             ],
             [
              0.3333333333333333,
              "#9c179e"
             ],
             [
              0.4444444444444444,
              "#bd3786"
             ],
             [
              0.5555555555555556,
              "#d8576b"
             ],
             [
              0.6666666666666666,
              "#ed7953"
             ],
             [
              0.7777777777777778,
              "#fb9f3a"
             ],
             [
              0.8888888888888888,
              "#fdca26"
             ],
             [
              1,
              "#f0f921"
             ]
            ],
            "type": "heatmapgl"
           }
          ],
          "histogram": [
           {
            "marker": {
             "pattern": {
              "fillmode": "overlay",
              "size": 10,
              "solidity": 0.2
             }
            },
            "type": "histogram"
           }
          ],
          "histogram2d": [
           {
            "colorbar": {
             "outlinewidth": 0,
             "ticks": ""
            },
            "colorscale": [
             [
              0,
              "#0d0887"
             ],
             [
              0.1111111111111111,
              "#46039f"
             ],
             [
              0.2222222222222222,
              "#7201a8"
             ],
             [
              0.3333333333333333,
              "#9c179e"
             ],
             [
              0.4444444444444444,
              "#bd3786"
             ],
             [
              0.5555555555555556,
              "#d8576b"
             ],
             [
              0.6666666666666666,
              "#ed7953"
             ],
             [
              0.7777777777777778,
              "#fb9f3a"
             ],
             [
              0.8888888888888888,
              "#fdca26"
             ],
             [
              1,
              "#f0f921"
             ]
            ],
            "type": "histogram2d"
           }
          ],
          "histogram2dcontour": [
           {
            "colorbar": {
             "outlinewidth": 0,
             "ticks": ""
            },
            "colorscale": [
             [
              0,
              "#0d0887"
             ],
             [
              0.1111111111111111,
              "#46039f"
             ],
             [
              0.2222222222222222,
              "#7201a8"
             ],
             [
              0.3333333333333333,
              "#9c179e"
             ],
             [
              0.4444444444444444,
              "#bd3786"
             ],
             [
              0.5555555555555556,
              "#d8576b"
             ],
             [
              0.6666666666666666,
              "#ed7953"
             ],
             [
              0.7777777777777778,
              "#fb9f3a"
             ],
             [
              0.8888888888888888,
              "#fdca26"
             ],
             [
              1,
              "#f0f921"
             ]
            ],
            "type": "histogram2dcontour"
           }
          ],
          "mesh3d": [
           {
            "colorbar": {
             "outlinewidth": 0,
             "ticks": ""
            },
            "type": "mesh3d"
           }
          ],
          "parcoords": [
           {
            "line": {
             "colorbar": {
              "outlinewidth": 0,
              "ticks": ""
             }
            },
            "type": "parcoords"
           }
          ],
          "pie": [
           {
            "automargin": true,
            "type": "pie"
           }
          ],
          "scatter": [
           {
            "fillpattern": {
             "fillmode": "overlay",
             "size": 10,
             "solidity": 0.2
            },
            "type": "scatter"
           }
          ],
          "scatter3d": [
           {
            "line": {
             "colorbar": {
              "outlinewidth": 0,
              "ticks": ""
             }
            },
            "marker": {
             "colorbar": {
              "outlinewidth": 0,
              "ticks": ""
             }
            },
            "type": "scatter3d"
           }
          ],
          "scattercarpet": [
           {
            "marker": {
             "colorbar": {
              "outlinewidth": 0,
              "ticks": ""
             }
            },
            "type": "scattercarpet"
           }
          ],
          "scattergeo": [
           {
            "marker": {
             "colorbar": {
              "outlinewidth": 0,
              "ticks": ""
             }
            },
            "type": "scattergeo"
           }
          ],
          "scattergl": [
           {
            "marker": {
             "colorbar": {
              "outlinewidth": 0,
              "ticks": ""
             }
            },
            "type": "scattergl"
           }
          ],
          "scattermapbox": [
           {
            "marker": {
             "colorbar": {
              "outlinewidth": 0,
              "ticks": ""
             }
            },
            "type": "scattermapbox"
           }
          ],
          "scatterpolar": [
           {
            "marker": {
             "colorbar": {
              "outlinewidth": 0,
              "ticks": ""
             }
            },
            "type": "scatterpolar"
           }
          ],
          "scatterpolargl": [
           {
            "marker": {
             "colorbar": {
              "outlinewidth": 0,
              "ticks": ""
             }
            },
            "type": "scatterpolargl"
           }
          ],
          "scatterternary": [
           {
            "marker": {
             "colorbar": {
              "outlinewidth": 0,
              "ticks": ""
             }
            },
            "type": "scatterternary"
           }
          ],
          "surface": [
           {
            "colorbar": {
             "outlinewidth": 0,
             "ticks": ""
            },
            "colorscale": [
             [
              0,
              "#0d0887"
             ],
             [
              0.1111111111111111,
              "#46039f"
             ],
             [
              0.2222222222222222,
              "#7201a8"
             ],
             [
              0.3333333333333333,
              "#9c179e"
             ],
             [
              0.4444444444444444,
              "#bd3786"
             ],
             [
              0.5555555555555556,
              "#d8576b"
             ],
             [
              0.6666666666666666,
              "#ed7953"
             ],
             [
              0.7777777777777778,
              "#fb9f3a"
             ],
             [
              0.8888888888888888,
              "#fdca26"
             ],
             [
              1,
              "#f0f921"
             ]
            ],
            "type": "surface"
           }
          ],
          "table": [
           {
            "cells": {
             "fill": {
              "color": "#EBF0F8"
             },
             "line": {
              "color": "white"
             }
            },
            "header": {
             "fill": {
              "color": "#C8D4E3"
             },
             "line": {
              "color": "white"
             }
            },
            "type": "table"
           }
          ]
         },
         "layout": {
          "annotationdefaults": {
           "arrowcolor": "#2a3f5f",
           "arrowhead": 0,
           "arrowwidth": 1
          },
          "autotypenumbers": "strict",
          "coloraxis": {
           "colorbar": {
            "outlinewidth": 0,
            "ticks": ""
           }
          },
          "colorscale": {
           "diverging": [
            [
             0,
             "#8e0152"
            ],
            [
             0.1,
             "#c51b7d"
            ],
            [
             0.2,
             "#de77ae"
            ],
            [
             0.3,
             "#f1b6da"
            ],
            [
             0.4,
             "#fde0ef"
            ],
            [
             0.5,
             "#f7f7f7"
            ],
            [
             0.6,
             "#e6f5d0"
            ],
            [
             0.7,
             "#b8e186"
            ],
            [
             0.8,
             "#7fbc41"
            ],
            [
             0.9,
             "#4d9221"
            ],
            [
             1,
             "#276419"
            ]
           ],
           "sequential": [
            [
             0,
             "#0d0887"
            ],
            [
             0.1111111111111111,
             "#46039f"
            ],
            [
             0.2222222222222222,
             "#7201a8"
            ],
            [
             0.3333333333333333,
             "#9c179e"
            ],
            [
             0.4444444444444444,
             "#bd3786"
            ],
            [
             0.5555555555555556,
             "#d8576b"
            ],
            [
             0.6666666666666666,
             "#ed7953"
            ],
            [
             0.7777777777777778,
             "#fb9f3a"
            ],
            [
             0.8888888888888888,
             "#fdca26"
            ],
            [
             1,
             "#f0f921"
            ]
           ],
           "sequentialminus": [
            [
             0,
             "#0d0887"
            ],
            [
             0.1111111111111111,
             "#46039f"
            ],
            [
             0.2222222222222222,
             "#7201a8"
            ],
            [
             0.3333333333333333,
             "#9c179e"
            ],
            [
             0.4444444444444444,
             "#bd3786"
            ],
            [
             0.5555555555555556,
             "#d8576b"
            ],
            [
             0.6666666666666666,
             "#ed7953"
            ],
            [
             0.7777777777777778,
             "#fb9f3a"
            ],
            [
             0.8888888888888888,
             "#fdca26"
            ],
            [
             1,
             "#f0f921"
            ]
           ]
          },
          "colorway": [
           "#636efa",
           "#EF553B",
           "#00cc96",
           "#ab63fa",
           "#FFA15A",
           "#19d3f3",
           "#FF6692",
           "#B6E880",
           "#FF97FF",
           "#FECB52"
          ],
          "font": {
           "color": "#2a3f5f"
          },
          "geo": {
           "bgcolor": "white",
           "lakecolor": "white",
           "landcolor": "#E5ECF6",
           "showlakes": true,
           "showland": true,
           "subunitcolor": "white"
          },
          "hoverlabel": {
           "align": "left"
          },
          "hovermode": "closest",
          "mapbox": {
           "style": "light"
          },
          "paper_bgcolor": "white",
          "plot_bgcolor": "#E5ECF6",
          "polar": {
           "angularaxis": {
            "gridcolor": "white",
            "linecolor": "white",
            "ticks": ""
           },
           "bgcolor": "#E5ECF6",
           "radialaxis": {
            "gridcolor": "white",
            "linecolor": "white",
            "ticks": ""
           }
          },
          "scene": {
           "xaxis": {
            "backgroundcolor": "#E5ECF6",
            "gridcolor": "white",
            "gridwidth": 2,
            "linecolor": "white",
            "showbackground": true,
            "ticks": "",
            "zerolinecolor": "white"
           },
           "yaxis": {
            "backgroundcolor": "#E5ECF6",
            "gridcolor": "white",
            "gridwidth": 2,
            "linecolor": "white",
            "showbackground": true,
            "ticks": "",
            "zerolinecolor": "white"
           },
           "zaxis": {
            "backgroundcolor": "#E5ECF6",
            "gridcolor": "white",
            "gridwidth": 2,
            "linecolor": "white",
            "showbackground": true,
            "ticks": "",
            "zerolinecolor": "white"
           }
          },
          "shapedefaults": {
           "line": {
            "color": "#2a3f5f"
           }
          },
          "ternary": {
           "aaxis": {
            "gridcolor": "white",
            "linecolor": "white",
            "ticks": ""
           },
           "baxis": {
            "gridcolor": "white",
            "linecolor": "white",
            "ticks": ""
           },
           "bgcolor": "#E5ECF6",
           "caxis": {
            "gridcolor": "white",
            "linecolor": "white",
            "ticks": ""
           }
          },
          "title": {
           "x": 0.05
          },
          "xaxis": {
           "automargin": true,
           "gridcolor": "white",
           "linecolor": "white",
           "ticks": "",
           "title": {
            "standoff": 15
           },
           "zerolinecolor": "white",
           "zerolinewidth": 2
          },
          "yaxis": {
           "automargin": true,
           "gridcolor": "white",
           "linecolor": "white",
           "ticks": "",
           "title": {
            "standoff": 15
           },
           "zerolinecolor": "white",
           "zerolinewidth": 2
          }
         }
        }
       }
      }
     },
     "metadata": {},
     "output_type": "display_data"
    }
   ],
   "source": [
    "fig = px.treemap(tracks, path=[px.Constant('My Saved Tracks'),'Artist','Track'])\n",
    "fig.update_traces(root_color=\"#ffffff\",\n",
    "                  insidetextfont=dict(size=14),\n",
    "                  textposition='middle center')\n",
    "fig.update_layout(colorway=['#f6b520', '#f0cc80', '#0c8c4c', '#3f8c44', '#eae9e5', '#424236'],\n",
    "                  margin=dict(t=0, l=0, r=0, b=0))\n",
    "fig.show()"
   ]
  },
  {
   "cell_type": "code",
   "execution_count": 176,
   "metadata": {},
   "outputs": [],
   "source": [
    "# This scope shows you the top 50 artists you've listened depending on the time range\n",
    "scope = 'user-top-read'\n",
    "ranges = ['short_term', 'medium_term', 'long_term']\n",
    "\n",
    "sp = spotify(client_id, client_secret, scope)\n",
    "\n",
    "# Initialize an empty list to store top artists data\n",
    "top_artists_data = []\n",
    "\n",
    "# Retrieve and display top artists for different time ranges\n",
    "for sp_range in ['short_term', 'medium_term', 'long_term']:\n",
    "\n",
    "    # Retrieve top artists for the specified time range\n",
    "    results = sp.current_user_top_artists(time_range=sp_range, limit=50)\n",
    "\n",
    "    # Extract and append artist information to the list\n",
    "    for i, item in enumerate(results['items']):\n",
    "        artist_data = {\n",
    "            'Time_Range': sp_range,\n",
    "            'Artist': item['name'],\n",
    "            'Genres': item['genres']\n",
    "        }\n",
    "        top_artists_data.append(artist_data)\n",
    "\n",
    "# Create a DataFrame from the list of top artists data\n",
    "top_artists = pd.DataFrame(top_artists_data)"
   ]
  },
  {
   "cell_type": "code",
   "execution_count": 234,
   "metadata": {},
   "outputs": [
    {
     "data": {
      "application/vnd.plotly.v1+json": {
       "config": {
        "plotlyServerURL": "https://plot.ly"
       },
       "data": [
        {
         "branchvalues": "total",
         "domain": {
          "x": [
           0,
           1
          ],
          "y": [
           0,
           1
          ]
         },
         "hovertemplate": "labels=%{label}<br>count=%{value}<br>parent=%{parent}<br>id=%{id}<extra></extra>",
         "ids": [
          "My Top Artists/long_term/Arctic Monkeys",
          "My Top Artists/medium_term/Arctic Monkeys",
          "My Top Artists/long_term/BROCKHAMPTON",
          "My Top Artists/long_term/Bad Bunny",
          "My Top Artists/medium_term/Bad Bunny",
          "My Top Artists/short_term/Bad Bunny",
          "My Top Artists/long_term/Gesu No Kiwami Otome",
          "My Top Artists/short_term/Guitarricadelafuente",
          "My Top Artists/long_term/Jaden",
          "My Top Artists/medium_term/Jaden",
          "My Top Artists/short_term/Jaden",
          "My Top Artists/long_term/Joe Hisaishi",
          "My Top Artists/medium_term/Joe Hisaishi",
          "My Top Artists/short_term/Joe Hisaishi",
          "My Top Artists/long_term/Junior H",
          "My Top Artists/medium_term/Junior H",
          "My Top Artists/short_term/Junior H",
          "My Top Artists/short_term/Kaky",
          "My Top Artists/short_term/Little Simz",
          "My Top Artists/medium_term/Luidji",
          "My Top Artists/medium_term/Metro Boomin",
          "My Top Artists/long_term/Mora",
          "My Top Artists/medium_term/Mora",
          "My Top Artists/short_term/Natanael Cano",
          "My Top Artists/long_term/Tainy",
          "My Top Artists/medium_term/Tainy",
          "My Top Artists/long_term/indigo la End",
          "My Top Artists/medium_term/indigo la End",
          "My Top Artists/short_term/indigo la End",
          "My Top Artists/short_term/rum.gold",
          "My Top Artists/long_term",
          "My Top Artists/medium_term",
          "My Top Artists/short_term",
          "My Top Artists"
         ],
         "insidetextfont": {
          "size": 14
         },
         "labels": [
          "Arctic Monkeys",
          "Arctic Monkeys",
          "BROCKHAMPTON",
          "Bad Bunny",
          "Bad Bunny",
          "Bad Bunny",
          "Gesu No Kiwami Otome",
          "Guitarricadelafuente",
          "Jaden",
          "Jaden",
          "Jaden",
          "Joe Hisaishi",
          "Joe Hisaishi",
          "Joe Hisaishi",
          "Junior H",
          "Junior H",
          "Junior H",
          "Kaky",
          "Little Simz",
          "Luidji",
          "Metro Boomin",
          "Mora",
          "Mora",
          "Natanael Cano",
          "Tainy",
          "Tainy",
          "indigo la End",
          "indigo la End",
          "indigo la End",
          "rum.gold",
          "long_term",
          "medium_term",
          "short_term",
          "My Top Artists"
         ],
         "name": "",
         "parents": [
          "My Top Artists/long_term",
          "My Top Artists/medium_term",
          "My Top Artists/long_term",
          "My Top Artists/long_term",
          "My Top Artists/medium_term",
          "My Top Artists/short_term",
          "My Top Artists/long_term",
          "My Top Artists/short_term",
          "My Top Artists/long_term",
          "My Top Artists/medium_term",
          "My Top Artists/short_term",
          "My Top Artists/long_term",
          "My Top Artists/medium_term",
          "My Top Artists/short_term",
          "My Top Artists/long_term",
          "My Top Artists/medium_term",
          "My Top Artists/short_term",
          "My Top Artists/short_term",
          "My Top Artists/short_term",
          "My Top Artists/medium_term",
          "My Top Artists/medium_term",
          "My Top Artists/long_term",
          "My Top Artists/medium_term",
          "My Top Artists/short_term",
          "My Top Artists/long_term",
          "My Top Artists/medium_term",
          "My Top Artists/long_term",
          "My Top Artists/medium_term",
          "My Top Artists/short_term",
          "My Top Artists/short_term",
          "My Top Artists",
          "My Top Artists",
          "My Top Artists",
          ""
         ],
         "root": {
          "color": "#BD8A3E"
         },
         "textposition": "middle center",
         "type": "treemap",
         "values": [
          1,
          1,
          1,
          1,
          1,
          1,
          1,
          1,
          1,
          1,
          1,
          1,
          1,
          1,
          1,
          1,
          1,
          1,
          1,
          1,
          1,
          1,
          1,
          1,
          1,
          1,
          1,
          1,
          1,
          1,
          10,
          10,
          10,
          30
         ]
        }
       ],
       "layout": {
        "colorway": [
         "#f6b520",
         "#f0cc80",
         "#0c8c4c",
         "#3f8c44",
         "#eae9e5",
         "#424236"
        ],
        "legend": {
         "tracegroupgap": 0
        },
        "margin": {
         "b": 0,
         "l": 0,
         "r": 0,
         "t": 0
        },
        "template": {
         "data": {
          "bar": [
           {
            "error_x": {
             "color": "#2a3f5f"
            },
            "error_y": {
             "color": "#2a3f5f"
            },
            "marker": {
             "line": {
              "color": "#E5ECF6",
              "width": 0.5
             },
             "pattern": {
              "fillmode": "overlay",
              "size": 10,
              "solidity": 0.2
             }
            },
            "type": "bar"
           }
          ],
          "barpolar": [
           {
            "marker": {
             "line": {
              "color": "#E5ECF6",
              "width": 0.5
             },
             "pattern": {
              "fillmode": "overlay",
              "size": 10,
              "solidity": 0.2
             }
            },
            "type": "barpolar"
           }
          ],
          "carpet": [
           {
            "aaxis": {
             "endlinecolor": "#2a3f5f",
             "gridcolor": "white",
             "linecolor": "white",
             "minorgridcolor": "white",
             "startlinecolor": "#2a3f5f"
            },
            "baxis": {
             "endlinecolor": "#2a3f5f",
             "gridcolor": "white",
             "linecolor": "white",
             "minorgridcolor": "white",
             "startlinecolor": "#2a3f5f"
            },
            "type": "carpet"
           }
          ],
          "choropleth": [
           {
            "colorbar": {
             "outlinewidth": 0,
             "ticks": ""
            },
            "type": "choropleth"
           }
          ],
          "contour": [
           {
            "colorbar": {
             "outlinewidth": 0,
             "ticks": ""
            },
            "colorscale": [
             [
              0,
              "#0d0887"
             ],
             [
              0.1111111111111111,
              "#46039f"
             ],
             [
              0.2222222222222222,
              "#7201a8"
             ],
             [
              0.3333333333333333,
              "#9c179e"
             ],
             [
              0.4444444444444444,
              "#bd3786"
             ],
             [
              0.5555555555555556,
              "#d8576b"
             ],
             [
              0.6666666666666666,
              "#ed7953"
             ],
             [
              0.7777777777777778,
              "#fb9f3a"
             ],
             [
              0.8888888888888888,
              "#fdca26"
             ],
             [
              1,
              "#f0f921"
             ]
            ],
            "type": "contour"
           }
          ],
          "contourcarpet": [
           {
            "colorbar": {
             "outlinewidth": 0,
             "ticks": ""
            },
            "type": "contourcarpet"
           }
          ],
          "heatmap": [
           {
            "colorbar": {
             "outlinewidth": 0,
             "ticks": ""
            },
            "colorscale": [
             [
              0,
              "#0d0887"
             ],
             [
              0.1111111111111111,
              "#46039f"
             ],
             [
              0.2222222222222222,
              "#7201a8"
             ],
             [
              0.3333333333333333,
              "#9c179e"
             ],
             [
              0.4444444444444444,
              "#bd3786"
             ],
             [
              0.5555555555555556,
              "#d8576b"
             ],
             [
              0.6666666666666666,
              "#ed7953"
             ],
             [
              0.7777777777777778,
              "#fb9f3a"
             ],
             [
              0.8888888888888888,
              "#fdca26"
             ],
             [
              1,
              "#f0f921"
             ]
            ],
            "type": "heatmap"
           }
          ],
          "heatmapgl": [
           {
            "colorbar": {
             "outlinewidth": 0,
             "ticks": ""
            },
            "colorscale": [
             [
              0,
              "#0d0887"
             ],
             [
              0.1111111111111111,
              "#46039f"
             ],
             [
              0.2222222222222222,
              "#7201a8"
             ],
             [
              0.3333333333333333,
              "#9c179e"
             ],
             [
              0.4444444444444444,
              "#bd3786"
             ],
             [
              0.5555555555555556,
              "#d8576b"
             ],
             [
              0.6666666666666666,
              "#ed7953"
             ],
             [
              0.7777777777777778,
              "#fb9f3a"
             ],
             [
              0.8888888888888888,
              "#fdca26"
             ],
             [
              1,
              "#f0f921"
             ]
            ],
            "type": "heatmapgl"
           }
          ],
          "histogram": [
           {
            "marker": {
             "pattern": {
              "fillmode": "overlay",
              "size": 10,
              "solidity": 0.2
             }
            },
            "type": "histogram"
           }
          ],
          "histogram2d": [
           {
            "colorbar": {
             "outlinewidth": 0,
             "ticks": ""
            },
            "colorscale": [
             [
              0,
              "#0d0887"
             ],
             [
              0.1111111111111111,
              "#46039f"
             ],
             [
              0.2222222222222222,
              "#7201a8"
             ],
             [
              0.3333333333333333,
              "#9c179e"
             ],
             [
              0.4444444444444444,
              "#bd3786"
             ],
             [
              0.5555555555555556,
              "#d8576b"
             ],
             [
              0.6666666666666666,
              "#ed7953"
             ],
             [
              0.7777777777777778,
              "#fb9f3a"
             ],
             [
              0.8888888888888888,
              "#fdca26"
             ],
             [
              1,
              "#f0f921"
             ]
            ],
            "type": "histogram2d"
           }
          ],
          "histogram2dcontour": [
           {
            "colorbar": {
             "outlinewidth": 0,
             "ticks": ""
            },
            "colorscale": [
             [
              0,
              "#0d0887"
             ],
             [
              0.1111111111111111,
              "#46039f"
             ],
             [
              0.2222222222222222,
              "#7201a8"
             ],
             [
              0.3333333333333333,
              "#9c179e"
             ],
             [
              0.4444444444444444,
              "#bd3786"
             ],
             [
              0.5555555555555556,
              "#d8576b"
             ],
             [
              0.6666666666666666,
              "#ed7953"
             ],
             [
              0.7777777777777778,
              "#fb9f3a"
             ],
             [
              0.8888888888888888,
              "#fdca26"
             ],
             [
              1,
              "#f0f921"
             ]
            ],
            "type": "histogram2dcontour"
           }
          ],
          "mesh3d": [
           {
            "colorbar": {
             "outlinewidth": 0,
             "ticks": ""
            },
            "type": "mesh3d"
           }
          ],
          "parcoords": [
           {
            "line": {
             "colorbar": {
              "outlinewidth": 0,
              "ticks": ""
             }
            },
            "type": "parcoords"
           }
          ],
          "pie": [
           {
            "automargin": true,
            "type": "pie"
           }
          ],
          "scatter": [
           {
            "fillpattern": {
             "fillmode": "overlay",
             "size": 10,
             "solidity": 0.2
            },
            "type": "scatter"
           }
          ],
          "scatter3d": [
           {
            "line": {
             "colorbar": {
              "outlinewidth": 0,
              "ticks": ""
             }
            },
            "marker": {
             "colorbar": {
              "outlinewidth": 0,
              "ticks": ""
             }
            },
            "type": "scatter3d"
           }
          ],
          "scattercarpet": [
           {
            "marker": {
             "colorbar": {
              "outlinewidth": 0,
              "ticks": ""
             }
            },
            "type": "scattercarpet"
           }
          ],
          "scattergeo": [
           {
            "marker": {
             "colorbar": {
              "outlinewidth": 0,
              "ticks": ""
             }
            },
            "type": "scattergeo"
           }
          ],
          "scattergl": [
           {
            "marker": {
             "colorbar": {
              "outlinewidth": 0,
              "ticks": ""
             }
            },
            "type": "scattergl"
           }
          ],
          "scattermapbox": [
           {
            "marker": {
             "colorbar": {
              "outlinewidth": 0,
              "ticks": ""
             }
            },
            "type": "scattermapbox"
           }
          ],
          "scatterpolar": [
           {
            "marker": {
             "colorbar": {
              "outlinewidth": 0,
              "ticks": ""
             }
            },
            "type": "scatterpolar"
           }
          ],
          "scatterpolargl": [
           {
            "marker": {
             "colorbar": {
              "outlinewidth": 0,
              "ticks": ""
             }
            },
            "type": "scatterpolargl"
           }
          ],
          "scatterternary": [
           {
            "marker": {
             "colorbar": {
              "outlinewidth": 0,
              "ticks": ""
             }
            },
            "type": "scatterternary"
           }
          ],
          "surface": [
           {
            "colorbar": {
             "outlinewidth": 0,
             "ticks": ""
            },
            "colorscale": [
             [
              0,
              "#0d0887"
             ],
             [
              0.1111111111111111,
              "#46039f"
             ],
             [
              0.2222222222222222,
              "#7201a8"
             ],
             [
              0.3333333333333333,
              "#9c179e"
             ],
             [
              0.4444444444444444,
              "#bd3786"
             ],
             [
              0.5555555555555556,
              "#d8576b"
             ],
             [
              0.6666666666666666,
              "#ed7953"
             ],
             [
              0.7777777777777778,
              "#fb9f3a"
             ],
             [
              0.8888888888888888,
              "#fdca26"
             ],
             [
              1,
              "#f0f921"
             ]
            ],
            "type": "surface"
           }
          ],
          "table": [
           {
            "cells": {
             "fill": {
              "color": "#EBF0F8"
             },
             "line": {
              "color": "white"
             }
            },
            "header": {
             "fill": {
              "color": "#C8D4E3"
             },
             "line": {
              "color": "white"
             }
            },
            "type": "table"
           }
          ]
         },
         "layout": {
          "annotationdefaults": {
           "arrowcolor": "#2a3f5f",
           "arrowhead": 0,
           "arrowwidth": 1
          },
          "autotypenumbers": "strict",
          "coloraxis": {
           "colorbar": {
            "outlinewidth": 0,
            "ticks": ""
           }
          },
          "colorscale": {
           "diverging": [
            [
             0,
             "#8e0152"
            ],
            [
             0.1,
             "#c51b7d"
            ],
            [
             0.2,
             "#de77ae"
            ],
            [
             0.3,
             "#f1b6da"
            ],
            [
             0.4,
             "#fde0ef"
            ],
            [
             0.5,
             "#f7f7f7"
            ],
            [
             0.6,
             "#e6f5d0"
            ],
            [
             0.7,
             "#b8e186"
            ],
            [
             0.8,
             "#7fbc41"
            ],
            [
             0.9,
             "#4d9221"
            ],
            [
             1,
             "#276419"
            ]
           ],
           "sequential": [
            [
             0,
             "#0d0887"
            ],
            [
             0.1111111111111111,
             "#46039f"
            ],
            [
             0.2222222222222222,
             "#7201a8"
            ],
            [
             0.3333333333333333,
             "#9c179e"
            ],
            [
             0.4444444444444444,
             "#bd3786"
            ],
            [
             0.5555555555555556,
             "#d8576b"
            ],
            [
             0.6666666666666666,
             "#ed7953"
            ],
            [
             0.7777777777777778,
             "#fb9f3a"
            ],
            [
             0.8888888888888888,
             "#fdca26"
            ],
            [
             1,
             "#f0f921"
            ]
           ],
           "sequentialminus": [
            [
             0,
             "#0d0887"
            ],
            [
             0.1111111111111111,
             "#46039f"
            ],
            [
             0.2222222222222222,
             "#7201a8"
            ],
            [
             0.3333333333333333,
             "#9c179e"
            ],
            [
             0.4444444444444444,
             "#bd3786"
            ],
            [
             0.5555555555555556,
             "#d8576b"
            ],
            [
             0.6666666666666666,
             "#ed7953"
            ],
            [
             0.7777777777777778,
             "#fb9f3a"
            ],
            [
             0.8888888888888888,
             "#fdca26"
            ],
            [
             1,
             "#f0f921"
            ]
           ]
          },
          "colorway": [
           "#636efa",
           "#EF553B",
           "#00cc96",
           "#ab63fa",
           "#FFA15A",
           "#19d3f3",
           "#FF6692",
           "#B6E880",
           "#FF97FF",
           "#FECB52"
          ],
          "font": {
           "color": "#2a3f5f"
          },
          "geo": {
           "bgcolor": "white",
           "lakecolor": "white",
           "landcolor": "#E5ECF6",
           "showlakes": true,
           "showland": true,
           "subunitcolor": "white"
          },
          "hoverlabel": {
           "align": "left"
          },
          "hovermode": "closest",
          "mapbox": {
           "style": "light"
          },
          "paper_bgcolor": "white",
          "plot_bgcolor": "#E5ECF6",
          "polar": {
           "angularaxis": {
            "gridcolor": "white",
            "linecolor": "white",
            "ticks": ""
           },
           "bgcolor": "#E5ECF6",
           "radialaxis": {
            "gridcolor": "white",
            "linecolor": "white",
            "ticks": ""
           }
          },
          "scene": {
           "xaxis": {
            "backgroundcolor": "#E5ECF6",
            "gridcolor": "white",
            "gridwidth": 2,
            "linecolor": "white",
            "showbackground": true,
            "ticks": "",
            "zerolinecolor": "white"
           },
           "yaxis": {
            "backgroundcolor": "#E5ECF6",
            "gridcolor": "white",
            "gridwidth": 2,
            "linecolor": "white",
            "showbackground": true,
            "ticks": "",
            "zerolinecolor": "white"
           },
           "zaxis": {
            "backgroundcolor": "#E5ECF6",
            "gridcolor": "white",
            "gridwidth": 2,
            "linecolor": "white",
            "showbackground": true,
            "ticks": "",
            "zerolinecolor": "white"
           }
          },
          "shapedefaults": {
           "line": {
            "color": "#2a3f5f"
           }
          },
          "ternary": {
           "aaxis": {
            "gridcolor": "white",
            "linecolor": "white",
            "ticks": ""
           },
           "baxis": {
            "gridcolor": "white",
            "linecolor": "white",
            "ticks": ""
           },
           "bgcolor": "#E5ECF6",
           "caxis": {
            "gridcolor": "white",
            "linecolor": "white",
            "ticks": ""
           }
          },
          "title": {
           "x": 0.05
          },
          "xaxis": {
           "automargin": true,
           "gridcolor": "white",
           "linecolor": "white",
           "ticks": "",
           "title": {
            "standoff": 15
           },
           "zerolinecolor": "white",
           "zerolinewidth": 2
          },
          "yaxis": {
           "automargin": true,
           "gridcolor": "white",
           "linecolor": "white",
           "ticks": "",
           "title": {
            "standoff": 15
           },
           "zerolinecolor": "white",
           "zerolinewidth": 2
          }
         }
        }
       }
      }
     },
     "metadata": {},
     "output_type": "display_data"
    }
   ],
   "source": [
    "# Display the top artists DataFrame\n",
    "fig = px.treemap(top_artists.groupby('Time_Range').head(10), path=[px.Constant('My Top Artists'),'Time_Range', 'Artist'])\n",
    "fig.update_traces(root_color=\"#BD8A3E\",\n",
    "                  insidetextfont=dict(size=14),\n",
    "                  textposition='middle center')\n",
    "fig.update_layout(colorway=['#f6b520', '#f0cc80', '#0c8c4c', '#3f8c44', '#eae9e5', '#424236'],\n",
    "                  margin=dict(t=0, l=0, r=0, b=0))\n",
    "fig.show()"
   ]
  },
  {
   "cell_type": "code",
   "execution_count": 241,
   "metadata": {},
   "outputs": [
    {
     "data": {
      "application/vnd.plotly.v1+json": {
       "config": {
        "plotlyServerURL": "https://plot.ly"
       },
       "data": [
        {
         "alignmentgroup": "True",
         "hovertemplate": "index=%{x}<br>Genres=%{y}<extra></extra>",
         "legendgroup": "",
         "marker": {
          "color": "#636efa",
          "pattern": {
           "shape": ""
          }
         },
         "name": "",
         "offsetgroup": "",
         "orientation": "v",
         "showlegend": false,
         "textposition": "auto",
         "type": "bar",
         "x": [
          "trap latino",
          "urbano latino",
          "reggaeton",
          "rap",
          "anime score",
          "corridos tumbados",
          "sad sierreno",
          "japanese soundtrack",
          "corrido",
          "sierreno",
          "j-rock",
          "latin alternative",
          "hip hop",
          "mexican rock",
          "alternative r&b",
          "cloud rap francais",
          "mexican indie",
          "pop reggaeton",
          "latin rock",
          "musica mexicana",
          "japanese classical",
          "indie rock mexicano",
          "rock",
          "modern rock",
          "anime",
          "orchestral soundtrack",
          "colombian pop",
          "j-pop",
          "japanese piano",
          "french hip hop",
          "spanish rock",
          "spanish pop",
          "french pop",
          "japanese indie pop",
          "pop rap",
          "ranchera",
          "reggaeton colombiano",
          "guadalajara indie",
          "bolero mexicano",
          "bolero",
          "japanese soul",
          "trap queen",
          "escape room",
          "chicago rap",
          "japanese vgm",
          "japanese alternative rock",
          "puerto rican pop",
          "garage rock",
          "permanent wave",
          "sheffield indie",
          "pov: indie",
          "argentine hip hop",
          "boy band",
          "soundtrack",
          "british soundtrack",
          "anime rock",
          "german indie",
          "mariachi",
          "reggae peruano",
          "peruvian rock",
          "german pop",
          "pop punk",
          "k-indie",
          "japanese shoegaze",
          "german rock",
          "indie r&b",
          "emo",
          "j-ambient",
          "japanese r&b",
          "pop venezolano",
          "trap argentino",
          "conscious hip hop",
          "west coast rap",
          "nova mpb",
          "afrofuturism",
          "canadian contemporary r&b",
          "spanish indie pop",
          "latin hip hop",
          "puerto rican rock",
          "rap conciencia",
          "rock en espanol",
          "nova musica maranhense",
          "cantautor",
          "latin arena pop",
          "pop",
          "mpb",
          "rap politico",
          "rap latina",
          "post-teen pop",
          "samba",
          "bossa nova",
          "brazilian jazz",
          "latin afrobeat",
          "urbano espanol",
          "japanese contemporary classical",
          "jazz mexicano",
          "japanese indie folk",
          "scandinavian r&b",
          "swedish soul",
          "experimental r&b",
          "yaoi",
          "anime piano",
          "compositional ambient",
          "ambient lo-fi",
          "rap calme",
          "j-pixie",
          "rap liegeois",
          "japanese alternative pop",
          "boom bap brasileiro",
          "brazilian hip hop",
          "rap mineiro",
          "rap conscient",
          "city pop",
          "spanish hip hop"
         ],
         "xaxis": "x",
         "y": [
          20,
          20,
          16,
          16,
          13,
          10,
          10,
          9,
          9,
          9,
          9,
          8,
          8,
          7,
          7,
          7,
          7,
          6,
          6,
          6,
          6,
          5,
          5,
          5,
          5,
          5,
          4,
          4,
          4,
          4,
          4,
          4,
          3,
          3,
          3,
          3,
          3,
          3,
          3,
          3,
          3,
          3,
          3,
          3,
          3,
          3,
          3,
          3,
          3,
          3,
          3,
          3,
          2,
          2,
          2,
          2,
          2,
          2,
          2,
          2,
          2,
          2,
          2,
          2,
          2,
          2,
          2,
          2,
          2,
          2,
          2,
          2,
          2,
          2,
          2,
          2,
          1,
          1,
          1,
          1,
          1,
          1,
          1,
          1,
          1,
          1,
          1,
          1,
          1,
          1,
          1,
          1,
          1,
          1,
          1,
          1,
          1,
          1,
          1,
          1,
          1,
          1,
          1,
          1,
          1,
          1,
          1,
          1,
          1,
          1,
          1,
          1,
          1,
          1
         ],
         "yaxis": "y"
        }
       ],
       "layout": {
        "barmode": "relative",
        "legend": {
         "tracegroupgap": 0
        },
        "margin": {
         "t": 60
        },
        "template": {
         "data": {
          "bar": [
           {
            "error_x": {
             "color": "#2a3f5f"
            },
            "error_y": {
             "color": "#2a3f5f"
            },
            "marker": {
             "line": {
              "color": "#E5ECF6",
              "width": 0.5
             },
             "pattern": {
              "fillmode": "overlay",
              "size": 10,
              "solidity": 0.2
             }
            },
            "type": "bar"
           }
          ],
          "barpolar": [
           {
            "marker": {
             "line": {
              "color": "#E5ECF6",
              "width": 0.5
             },
             "pattern": {
              "fillmode": "overlay",
              "size": 10,
              "solidity": 0.2
             }
            },
            "type": "barpolar"
           }
          ],
          "carpet": [
           {
            "aaxis": {
             "endlinecolor": "#2a3f5f",
             "gridcolor": "white",
             "linecolor": "white",
             "minorgridcolor": "white",
             "startlinecolor": "#2a3f5f"
            },
            "baxis": {
             "endlinecolor": "#2a3f5f",
             "gridcolor": "white",
             "linecolor": "white",
             "minorgridcolor": "white",
             "startlinecolor": "#2a3f5f"
            },
            "type": "carpet"
           }
          ],
          "choropleth": [
           {
            "colorbar": {
             "outlinewidth": 0,
             "ticks": ""
            },
            "type": "choropleth"
           }
          ],
          "contour": [
           {
            "colorbar": {
             "outlinewidth": 0,
             "ticks": ""
            },
            "colorscale": [
             [
              0,
              "#0d0887"
             ],
             [
              0.1111111111111111,
              "#46039f"
             ],
             [
              0.2222222222222222,
              "#7201a8"
             ],
             [
              0.3333333333333333,
              "#9c179e"
             ],
             [
              0.4444444444444444,
              "#bd3786"
             ],
             [
              0.5555555555555556,
              "#d8576b"
             ],
             [
              0.6666666666666666,
              "#ed7953"
             ],
             [
              0.7777777777777778,
              "#fb9f3a"
             ],
             [
              0.8888888888888888,
              "#fdca26"
             ],
             [
              1,
              "#f0f921"
             ]
            ],
            "type": "contour"
           }
          ],
          "contourcarpet": [
           {
            "colorbar": {
             "outlinewidth": 0,
             "ticks": ""
            },
            "type": "contourcarpet"
           }
          ],
          "heatmap": [
           {
            "colorbar": {
             "outlinewidth": 0,
             "ticks": ""
            },
            "colorscale": [
             [
              0,
              "#0d0887"
             ],
             [
              0.1111111111111111,
              "#46039f"
             ],
             [
              0.2222222222222222,
              "#7201a8"
             ],
             [
              0.3333333333333333,
              "#9c179e"
             ],
             [
              0.4444444444444444,
              "#bd3786"
             ],
             [
              0.5555555555555556,
              "#d8576b"
             ],
             [
              0.6666666666666666,
              "#ed7953"
             ],
             [
              0.7777777777777778,
              "#fb9f3a"
             ],
             [
              0.8888888888888888,
              "#fdca26"
             ],
             [
              1,
              "#f0f921"
             ]
            ],
            "type": "heatmap"
           }
          ],
          "heatmapgl": [
           {
            "colorbar": {
             "outlinewidth": 0,
             "ticks": ""
            },
            "colorscale": [
             [
              0,
              "#0d0887"
             ],
             [
              0.1111111111111111,
              "#46039f"
             ],
             [
              0.2222222222222222,
              "#7201a8"
             ],
             [
              0.3333333333333333,
              "#9c179e"
             ],
             [
              0.4444444444444444,
              "#bd3786"
             ],
             [
              0.5555555555555556,
              "#d8576b"
             ],
             [
              0.6666666666666666,
              "#ed7953"
             ],
             [
              0.7777777777777778,
              "#fb9f3a"
             ],
             [
              0.8888888888888888,
              "#fdca26"
             ],
             [
              1,
              "#f0f921"
             ]
            ],
            "type": "heatmapgl"
           }
          ],
          "histogram": [
           {
            "marker": {
             "pattern": {
              "fillmode": "overlay",
              "size": 10,
              "solidity": 0.2
             }
            },
            "type": "histogram"
           }
          ],
          "histogram2d": [
           {
            "colorbar": {
             "outlinewidth": 0,
             "ticks": ""
            },
            "colorscale": [
             [
              0,
              "#0d0887"
             ],
             [
              0.1111111111111111,
              "#46039f"
             ],
             [
              0.2222222222222222,
              "#7201a8"
             ],
             [
              0.3333333333333333,
              "#9c179e"
             ],
             [
              0.4444444444444444,
              "#bd3786"
             ],
             [
              0.5555555555555556,
              "#d8576b"
             ],
             [
              0.6666666666666666,
              "#ed7953"
             ],
             [
              0.7777777777777778,
              "#fb9f3a"
             ],
             [
              0.8888888888888888,
              "#fdca26"
             ],
             [
              1,
              "#f0f921"
             ]
            ],
            "type": "histogram2d"
           }
          ],
          "histogram2dcontour": [
           {
            "colorbar": {
             "outlinewidth": 0,
             "ticks": ""
            },
            "colorscale": [
             [
              0,
              "#0d0887"
             ],
             [
              0.1111111111111111,
              "#46039f"
             ],
             [
              0.2222222222222222,
              "#7201a8"
             ],
             [
              0.3333333333333333,
              "#9c179e"
             ],
             [
              0.4444444444444444,
              "#bd3786"
             ],
             [
              0.5555555555555556,
              "#d8576b"
             ],
             [
              0.6666666666666666,
              "#ed7953"
             ],
             [
              0.7777777777777778,
              "#fb9f3a"
             ],
             [
              0.8888888888888888,
              "#fdca26"
             ],
             [
              1,
              "#f0f921"
             ]
            ],
            "type": "histogram2dcontour"
           }
          ],
          "mesh3d": [
           {
            "colorbar": {
             "outlinewidth": 0,
             "ticks": ""
            },
            "type": "mesh3d"
           }
          ],
          "parcoords": [
           {
            "line": {
             "colorbar": {
              "outlinewidth": 0,
              "ticks": ""
             }
            },
            "type": "parcoords"
           }
          ],
          "pie": [
           {
            "automargin": true,
            "type": "pie"
           }
          ],
          "scatter": [
           {
            "fillpattern": {
             "fillmode": "overlay",
             "size": 10,
             "solidity": 0.2
            },
            "type": "scatter"
           }
          ],
          "scatter3d": [
           {
            "line": {
             "colorbar": {
              "outlinewidth": 0,
              "ticks": ""
             }
            },
            "marker": {
             "colorbar": {
              "outlinewidth": 0,
              "ticks": ""
             }
            },
            "type": "scatter3d"
           }
          ],
          "scattercarpet": [
           {
            "marker": {
             "colorbar": {
              "outlinewidth": 0,
              "ticks": ""
             }
            },
            "type": "scattercarpet"
           }
          ],
          "scattergeo": [
           {
            "marker": {
             "colorbar": {
              "outlinewidth": 0,
              "ticks": ""
             }
            },
            "type": "scattergeo"
           }
          ],
          "scattergl": [
           {
            "marker": {
             "colorbar": {
              "outlinewidth": 0,
              "ticks": ""
             }
            },
            "type": "scattergl"
           }
          ],
          "scattermapbox": [
           {
            "marker": {
             "colorbar": {
              "outlinewidth": 0,
              "ticks": ""
             }
            },
            "type": "scattermapbox"
           }
          ],
          "scatterpolar": [
           {
            "marker": {
             "colorbar": {
              "outlinewidth": 0,
              "ticks": ""
             }
            },
            "type": "scatterpolar"
           }
          ],
          "scatterpolargl": [
           {
            "marker": {
             "colorbar": {
              "outlinewidth": 0,
              "ticks": ""
             }
            },
            "type": "scatterpolargl"
           }
          ],
          "scatterternary": [
           {
            "marker": {
             "colorbar": {
              "outlinewidth": 0,
              "ticks": ""
             }
            },
            "type": "scatterternary"
           }
          ],
          "surface": [
           {
            "colorbar": {
             "outlinewidth": 0,
             "ticks": ""
            },
            "colorscale": [
             [
              0,
              "#0d0887"
             ],
             [
              0.1111111111111111,
              "#46039f"
             ],
             [
              0.2222222222222222,
              "#7201a8"
             ],
             [
              0.3333333333333333,
              "#9c179e"
             ],
             [
              0.4444444444444444,
              "#bd3786"
             ],
             [
              0.5555555555555556,
              "#d8576b"
             ],
             [
              0.6666666666666666,
              "#ed7953"
             ],
             [
              0.7777777777777778,
              "#fb9f3a"
             ],
             [
              0.8888888888888888,
              "#fdca26"
             ],
             [
              1,
              "#f0f921"
             ]
            ],
            "type": "surface"
           }
          ],
          "table": [
           {
            "cells": {
             "fill": {
              "color": "#EBF0F8"
             },
             "line": {
              "color": "white"
             }
            },
            "header": {
             "fill": {
              "color": "#C8D4E3"
             },
             "line": {
              "color": "white"
             }
            },
            "type": "table"
           }
          ]
         },
         "layout": {
          "annotationdefaults": {
           "arrowcolor": "#2a3f5f",
           "arrowhead": 0,
           "arrowwidth": 1
          },
          "autotypenumbers": "strict",
          "coloraxis": {
           "colorbar": {
            "outlinewidth": 0,
            "ticks": ""
           }
          },
          "colorscale": {
           "diverging": [
            [
             0,
             "#8e0152"
            ],
            [
             0.1,
             "#c51b7d"
            ],
            [
             0.2,
             "#de77ae"
            ],
            [
             0.3,
             "#f1b6da"
            ],
            [
             0.4,
             "#fde0ef"
            ],
            [
             0.5,
             "#f7f7f7"
            ],
            [
             0.6,
             "#e6f5d0"
            ],
            [
             0.7,
             "#b8e186"
            ],
            [
             0.8,
             "#7fbc41"
            ],
            [
             0.9,
             "#4d9221"
            ],
            [
             1,
             "#276419"
            ]
           ],
           "sequential": [
            [
             0,
             "#0d0887"
            ],
            [
             0.1111111111111111,
             "#46039f"
            ],
            [
             0.2222222222222222,
             "#7201a8"
            ],
            [
             0.3333333333333333,
             "#9c179e"
            ],
            [
             0.4444444444444444,
             "#bd3786"
            ],
            [
             0.5555555555555556,
             "#d8576b"
            ],
            [
             0.6666666666666666,
             "#ed7953"
            ],
            [
             0.7777777777777778,
             "#fb9f3a"
            ],
            [
             0.8888888888888888,
             "#fdca26"
            ],
            [
             1,
             "#f0f921"
            ]
           ],
           "sequentialminus": [
            [
             0,
             "#0d0887"
            ],
            [
             0.1111111111111111,
             "#46039f"
            ],
            [
             0.2222222222222222,
             "#7201a8"
            ],
            [
             0.3333333333333333,
             "#9c179e"
            ],
            [
             0.4444444444444444,
             "#bd3786"
            ],
            [
             0.5555555555555556,
             "#d8576b"
            ],
            [
             0.6666666666666666,
             "#ed7953"
            ],
            [
             0.7777777777777778,
             "#fb9f3a"
            ],
            [
             0.8888888888888888,
             "#fdca26"
            ],
            [
             1,
             "#f0f921"
            ]
           ]
          },
          "colorway": [
           "#636efa",
           "#EF553B",
           "#00cc96",
           "#ab63fa",
           "#FFA15A",
           "#19d3f3",
           "#FF6692",
           "#B6E880",
           "#FF97FF",
           "#FECB52"
          ],
          "font": {
           "color": "#2a3f5f"
          },
          "geo": {
           "bgcolor": "white",
           "lakecolor": "white",
           "landcolor": "#E5ECF6",
           "showlakes": true,
           "showland": true,
           "subunitcolor": "white"
          },
          "hoverlabel": {
           "align": "left"
          },
          "hovermode": "closest",
          "mapbox": {
           "style": "light"
          },
          "paper_bgcolor": "white",
          "plot_bgcolor": "#E5ECF6",
          "polar": {
           "angularaxis": {
            "gridcolor": "white",
            "linecolor": "white",
            "ticks": ""
           },
           "bgcolor": "#E5ECF6",
           "radialaxis": {
            "gridcolor": "white",
            "linecolor": "white",
            "ticks": ""
           }
          },
          "scene": {
           "xaxis": {
            "backgroundcolor": "#E5ECF6",
            "gridcolor": "white",
            "gridwidth": 2,
            "linecolor": "white",
            "showbackground": true,
            "ticks": "",
            "zerolinecolor": "white"
           },
           "yaxis": {
            "backgroundcolor": "#E5ECF6",
            "gridcolor": "white",
            "gridwidth": 2,
            "linecolor": "white",
            "showbackground": true,
            "ticks": "",
            "zerolinecolor": "white"
           },
           "zaxis": {
            "backgroundcolor": "#E5ECF6",
            "gridcolor": "white",
            "gridwidth": 2,
            "linecolor": "white",
            "showbackground": true,
            "ticks": "",
            "zerolinecolor": "white"
           }
          },
          "shapedefaults": {
           "line": {
            "color": "#2a3f5f"
           }
          },
          "ternary": {
           "aaxis": {
            "gridcolor": "white",
            "linecolor": "white",
            "ticks": ""
           },
           "baxis": {
            "gridcolor": "white",
            "linecolor": "white",
            "ticks": ""
           },
           "bgcolor": "#E5ECF6",
           "caxis": {
            "gridcolor": "white",
            "linecolor": "white",
            "ticks": ""
           }
          },
          "title": {
           "x": 0.05
          },
          "xaxis": {
           "automargin": true,
           "gridcolor": "white",
           "linecolor": "white",
           "ticks": "",
           "title": {
            "standoff": 15
           },
           "zerolinecolor": "white",
           "zerolinewidth": 2
          },
          "yaxis": {
           "automargin": true,
           "gridcolor": "white",
           "linecolor": "white",
           "ticks": "",
           "title": {
            "standoff": 15
           },
           "zerolinecolor": "white",
           "zerolinewidth": 2
          }
         }
        },
        "title": {
         "text": "Top Genres"
        },
        "xaxis": {
         "anchor": "y",
         "domain": [
          0,
          1
         ],
         "title": {
          "text": "index"
         }
        },
        "yaxis": {
         "anchor": "x",
         "domain": [
          0,
          1
         ],
         "title": {
          "text": "Genres"
         }
        }
       }
      }
     },
     "metadata": {},
     "output_type": "display_data"
    }
   ],
   "source": [
    "# Display the top genres DataFrame\n",
    "Genres = top_artists['Genres'].explode().value_counts().to_frame().reset_index()\n",
    "fig = px.bar(Genres, x='index', y='Genres')\n",
    "fig.update_layout(title=\"Top Genres\")\n",
    "fig.show()"
   ]
  },
  {
   "cell_type": "code",
   "execution_count": 20,
   "metadata": {},
   "outputs": [],
   "source": [
    "# This scope shows you the current user's top tracks\n",
    "scope = 'user-top-read'\n",
    "ranges = ['short_term', 'medium_term', 'long_term']\n",
    "\n",
    "sp = spotify(client_id, client_secret, scope)\n",
    "\n",
    "# Initialize an empty list to store top tracks data\n",
    "top_tracks_data = []\n",
    "\n",
    "# Retrieve and display top tracks for different time ranges\n",
    "for sp_range in ['short_term', 'medium_term', 'long_term']:\n",
    "\n",
    "    # Retrieve top tracks for the specified time range\n",
    "    results = sp.current_user_top_tracks(time_range=sp_range, limit=50)\n",
    "\n",
    "    # Extract and append track information to the list\n",
    "    for i, item in enumerate(results['items']):\n",
    "        track_data = {\n",
    "            'Time Range': sp_range,\n",
    "            'Track': item['name'],\n",
    "            'Artist': item['artists'][0]['name']\n",
    "        }\n",
    "        top_tracks_data.append(track_data)\n",
    "\n",
    "# Create a DataFrame from the list of top tracks data\n",
    "top_tracks = pd.DataFrame(top_tracks_data)\n"
   ]
  },
  {
   "cell_type": "code",
   "execution_count": 235,
   "metadata": {},
   "outputs": [
    {
     "data": {
      "application/vnd.plotly.v1+json": {
       "config": {
        "plotlyServerURL": "https://plot.ly"
       },
       "data": [
        {
         "branchvalues": "total",
         "domain": {
          "x": [
           0,
           1
          ],
          "y": [
           0,
           1
          ]
         },
         "hovertemplate": "labels=%{label}<br>count=%{value}<br>parent=%{parent}<br>id=%{id}<extra></extra>",
         "ids": [
          "My Top Tracks/medium_term/Tainy/11 Y ONCE",
          "My Top Tracks/short_term/Junior H/A TU NOMBRE",
          "My Top Tracks/long_term/Luidji/ALEXIS",
          "My Top Tracks/medium_term/Luidji/ALEXIS",
          "My Top Tracks/long_term/Metro Boomin/Annihilate (Spider-Man: Across the Spider-Verse) (Metro Boomin & Swae Lee, Lil Wayne, Offset)",
          "My Top Tracks/medium_term/Metro Boomin/Annihilate (Spider-Man: Across the Spider-Verse) (Metro Boomin & Swae Lee, Lil Wayne, Offset)",
          "My Top Tracks/short_term/Junior H/EN LA PEDA",
          "My Top Tracks/short_term/Junior H/ENTRE NOSOTROS",
          "My Top Tracks/short_term/Junior H/LOKERON X AMOR",
          "My Top Tracks/long_term/Kaky/La tête pleine",
          "My Top Tracks/medium_term/Mora/MEDIA LUNA",
          "My Top Tracks/short_term/Junior H/MIENTRAS DUERMES",
          "My Top Tracks/short_term/Junior H/MILES DE ROSAS",
          "My Top Tracks/long_term/Tainy/MOJABI GHOST",
          "My Top Tracks/medium_term/Tainy/MOJABI GHOST",
          "My Top Tracks/long_term/Guitarricadelafuente/Mil y una noches",
          "My Top Tracks/long_term/Porter/Murciélago",
          "My Top Tracks/short_term/Junior H/OTRO AMOR",
          "My Top Tracks/short_term/Junior H/PARIS",
          "My Top Tracks/medium_term/Tainy/PASIEMPRE",
          "My Top Tracks/short_term/Junior H/PIÉNSALO",
          "My Top Tracks/medium_term/Tainy/Sci-Fi",
          "My Top Tracks/short_term/Junior H/TRES BOTELLAS",
          "My Top Tracks/long_term/Kraftklub/Teil dieser Band",
          "My Top Tracks/medium_term/Tainy/Todavía",
          "My Top Tracks/long_term/Tainy/mañana",
          "My Top Tracks/medium_term/Tainy/mañana",
          "My Top Tracks/long_term/Tainy/obstáculo",
          "My Top Tracks/medium_term/Tainy/obstáculo",
          "My Top Tracks/long_term/indigo la End/想いきり",
          "My Top Tracks/long_term/Guitarricadelafuente",
          "My Top Tracks/short_term/Junior H",
          "My Top Tracks/long_term/Kaky",
          "My Top Tracks/long_term/Kraftklub",
          "My Top Tracks/long_term/Luidji",
          "My Top Tracks/medium_term/Luidji",
          "My Top Tracks/long_term/Metro Boomin",
          "My Top Tracks/medium_term/Metro Boomin",
          "My Top Tracks/medium_term/Mora",
          "My Top Tracks/long_term/Porter",
          "My Top Tracks/long_term/Tainy",
          "My Top Tracks/medium_term/Tainy",
          "My Top Tracks/long_term/indigo la End",
          "My Top Tracks/long_term",
          "My Top Tracks/medium_term",
          "My Top Tracks/short_term",
          "My Top Tracks"
         ],
         "insidetextfont": {
          "size": 14
         },
         "labels": [
          "11 Y ONCE",
          "A TU NOMBRE",
          "ALEXIS",
          "ALEXIS",
          "Annihilate (Spider-Man: Across the Spider-Verse) (Metro Boomin & Swae Lee, Lil Wayne, Offset)",
          "Annihilate (Spider-Man: Across the Spider-Verse) (Metro Boomin & Swae Lee, Lil Wayne, Offset)",
          "EN LA PEDA",
          "ENTRE NOSOTROS",
          "LOKERON X AMOR",
          "La tête pleine",
          "MEDIA LUNA",
          "MIENTRAS DUERMES",
          "MILES DE ROSAS",
          "MOJABI GHOST",
          "MOJABI GHOST",
          "Mil y una noches",
          "Murciélago",
          "OTRO AMOR",
          "PARIS",
          "PASIEMPRE",
          "PIÉNSALO",
          "Sci-Fi",
          "TRES BOTELLAS",
          "Teil dieser Band",
          "Todavía",
          "mañana",
          "mañana",
          "obstáculo",
          "obstáculo",
          "想いきり",
          "Guitarricadelafuente",
          "Junior H",
          "Kaky",
          "Kraftklub",
          "Luidji",
          "Luidji",
          "Metro Boomin",
          "Metro Boomin",
          "Mora",
          "Porter",
          "Tainy",
          "Tainy",
          "indigo la End",
          "long_term",
          "medium_term",
          "short_term",
          "My Top Tracks"
         ],
         "name": "",
         "parents": [
          "My Top Tracks/medium_term/Tainy",
          "My Top Tracks/short_term/Junior H",
          "My Top Tracks/long_term/Luidji",
          "My Top Tracks/medium_term/Luidji",
          "My Top Tracks/long_term/Metro Boomin",
          "My Top Tracks/medium_term/Metro Boomin",
          "My Top Tracks/short_term/Junior H",
          "My Top Tracks/short_term/Junior H",
          "My Top Tracks/short_term/Junior H",
          "My Top Tracks/long_term/Kaky",
          "My Top Tracks/medium_term/Mora",
          "My Top Tracks/short_term/Junior H",
          "My Top Tracks/short_term/Junior H",
          "My Top Tracks/long_term/Tainy",
          "My Top Tracks/medium_term/Tainy",
          "My Top Tracks/long_term/Guitarricadelafuente",
          "My Top Tracks/long_term/Porter",
          "My Top Tracks/short_term/Junior H",
          "My Top Tracks/short_term/Junior H",
          "My Top Tracks/medium_term/Tainy",
          "My Top Tracks/short_term/Junior H",
          "My Top Tracks/medium_term/Tainy",
          "My Top Tracks/short_term/Junior H",
          "My Top Tracks/long_term/Kraftklub",
          "My Top Tracks/medium_term/Tainy",
          "My Top Tracks/long_term/Tainy",
          "My Top Tracks/medium_term/Tainy",
          "My Top Tracks/long_term/Tainy",
          "My Top Tracks/medium_term/Tainy",
          "My Top Tracks/long_term/indigo la End",
          "My Top Tracks/long_term",
          "My Top Tracks/short_term",
          "My Top Tracks/long_term",
          "My Top Tracks/long_term",
          "My Top Tracks/long_term",
          "My Top Tracks/medium_term",
          "My Top Tracks/long_term",
          "My Top Tracks/medium_term",
          "My Top Tracks/medium_term",
          "My Top Tracks/long_term",
          "My Top Tracks/long_term",
          "My Top Tracks/medium_term",
          "My Top Tracks/long_term",
          "My Top Tracks",
          "My Top Tracks",
          "My Top Tracks",
          ""
         ],
         "root": {
          "color": "#BD8A3E"
         },
         "textposition": "middle center",
         "type": "treemap",
         "values": [
          1,
          1,
          1,
          1,
          1,
          1,
          1,
          1,
          1,
          1,
          1,
          1,
          1,
          1,
          1,
          1,
          1,
          1,
          1,
          1,
          1,
          1,
          1,
          1,
          1,
          1,
          1,
          1,
          1,
          1,
          1,
          10,
          1,
          1,
          1,
          1,
          1,
          1,
          1,
          1,
          3,
          7,
          1,
          10,
          10,
          10,
          30
         ]
        }
       ],
       "layout": {
        "colorway": [
         "#f6b520",
         "#f0cc80",
         "#0c8c4c",
         "#3f8c44",
         "#eae9e5",
         "#424236"
        ],
        "legend": {
         "tracegroupgap": 0
        },
        "margin": {
         "b": 0,
         "l": 0,
         "r": 0,
         "t": 0
        },
        "template": {
         "data": {
          "bar": [
           {
            "error_x": {
             "color": "#2a3f5f"
            },
            "error_y": {
             "color": "#2a3f5f"
            },
            "marker": {
             "line": {
              "color": "#E5ECF6",
              "width": 0.5
             },
             "pattern": {
              "fillmode": "overlay",
              "size": 10,
              "solidity": 0.2
             }
            },
            "type": "bar"
           }
          ],
          "barpolar": [
           {
            "marker": {
             "line": {
              "color": "#E5ECF6",
              "width": 0.5
             },
             "pattern": {
              "fillmode": "overlay",
              "size": 10,
              "solidity": 0.2
             }
            },
            "type": "barpolar"
           }
          ],
          "carpet": [
           {
            "aaxis": {
             "endlinecolor": "#2a3f5f",
             "gridcolor": "white",
             "linecolor": "white",
             "minorgridcolor": "white",
             "startlinecolor": "#2a3f5f"
            },
            "baxis": {
             "endlinecolor": "#2a3f5f",
             "gridcolor": "white",
             "linecolor": "white",
             "minorgridcolor": "white",
             "startlinecolor": "#2a3f5f"
            },
            "type": "carpet"
           }
          ],
          "choropleth": [
           {
            "colorbar": {
             "outlinewidth": 0,
             "ticks": ""
            },
            "type": "choropleth"
           }
          ],
          "contour": [
           {
            "colorbar": {
             "outlinewidth": 0,
             "ticks": ""
            },
            "colorscale": [
             [
              0,
              "#0d0887"
             ],
             [
              0.1111111111111111,
              "#46039f"
             ],
             [
              0.2222222222222222,
              "#7201a8"
             ],
             [
              0.3333333333333333,
              "#9c179e"
             ],
             [
              0.4444444444444444,
              "#bd3786"
             ],
             [
              0.5555555555555556,
              "#d8576b"
             ],
             [
              0.6666666666666666,
              "#ed7953"
             ],
             [
              0.7777777777777778,
              "#fb9f3a"
             ],
             [
              0.8888888888888888,
              "#fdca26"
             ],
             [
              1,
              "#f0f921"
             ]
            ],
            "type": "contour"
           }
          ],
          "contourcarpet": [
           {
            "colorbar": {
             "outlinewidth": 0,
             "ticks": ""
            },
            "type": "contourcarpet"
           }
          ],
          "heatmap": [
           {
            "colorbar": {
             "outlinewidth": 0,
             "ticks": ""
            },
            "colorscale": [
             [
              0,
              "#0d0887"
             ],
             [
              0.1111111111111111,
              "#46039f"
             ],
             [
              0.2222222222222222,
              "#7201a8"
             ],
             [
              0.3333333333333333,
              "#9c179e"
             ],
             [
              0.4444444444444444,
              "#bd3786"
             ],
             [
              0.5555555555555556,
              "#d8576b"
             ],
             [
              0.6666666666666666,
              "#ed7953"
             ],
             [
              0.7777777777777778,
              "#fb9f3a"
             ],
             [
              0.8888888888888888,
              "#fdca26"
             ],
             [
              1,
              "#f0f921"
             ]
            ],
            "type": "heatmap"
           }
          ],
          "heatmapgl": [
           {
            "colorbar": {
             "outlinewidth": 0,
             "ticks": ""
            },
            "colorscale": [
             [
              0,
              "#0d0887"
             ],
             [
              0.1111111111111111,
              "#46039f"
             ],
             [
              0.2222222222222222,
              "#7201a8"
             ],
             [
              0.3333333333333333,
              "#9c179e"
             ],
             [
              0.4444444444444444,
              "#bd3786"
             ],
             [
              0.5555555555555556,
              "#d8576b"
             ],
             [
              0.6666666666666666,
              "#ed7953"
             ],
             [
              0.7777777777777778,
              "#fb9f3a"
             ],
             [
              0.8888888888888888,
              "#fdca26"
             ],
             [
              1,
              "#f0f921"
             ]
            ],
            "type": "heatmapgl"
           }
          ],
          "histogram": [
           {
            "marker": {
             "pattern": {
              "fillmode": "overlay",
              "size": 10,
              "solidity": 0.2
             }
            },
            "type": "histogram"
           }
          ],
          "histogram2d": [
           {
            "colorbar": {
             "outlinewidth": 0,
             "ticks": ""
            },
            "colorscale": [
             [
              0,
              "#0d0887"
             ],
             [
              0.1111111111111111,
              "#46039f"
             ],
             [
              0.2222222222222222,
              "#7201a8"
             ],
             [
              0.3333333333333333,
              "#9c179e"
             ],
             [
              0.4444444444444444,
              "#bd3786"
             ],
             [
              0.5555555555555556,
              "#d8576b"
             ],
             [
              0.6666666666666666,
              "#ed7953"
             ],
             [
              0.7777777777777778,
              "#fb9f3a"
             ],
             [
              0.8888888888888888,
              "#fdca26"
             ],
             [
              1,
              "#f0f921"
             ]
            ],
            "type": "histogram2d"
           }
          ],
          "histogram2dcontour": [
           {
            "colorbar": {
             "outlinewidth": 0,
             "ticks": ""
            },
            "colorscale": [
             [
              0,
              "#0d0887"
             ],
             [
              0.1111111111111111,
              "#46039f"
             ],
             [
              0.2222222222222222,
              "#7201a8"
             ],
             [
              0.3333333333333333,
              "#9c179e"
             ],
             [
              0.4444444444444444,
              "#bd3786"
             ],
             [
              0.5555555555555556,
              "#d8576b"
             ],
             [
              0.6666666666666666,
              "#ed7953"
             ],
             [
              0.7777777777777778,
              "#fb9f3a"
             ],
             [
              0.8888888888888888,
              "#fdca26"
             ],
             [
              1,
              "#f0f921"
             ]
            ],
            "type": "histogram2dcontour"
           }
          ],
          "mesh3d": [
           {
            "colorbar": {
             "outlinewidth": 0,
             "ticks": ""
            },
            "type": "mesh3d"
           }
          ],
          "parcoords": [
           {
            "line": {
             "colorbar": {
              "outlinewidth": 0,
              "ticks": ""
             }
            },
            "type": "parcoords"
           }
          ],
          "pie": [
           {
            "automargin": true,
            "type": "pie"
           }
          ],
          "scatter": [
           {
            "fillpattern": {
             "fillmode": "overlay",
             "size": 10,
             "solidity": 0.2
            },
            "type": "scatter"
           }
          ],
          "scatter3d": [
           {
            "line": {
             "colorbar": {
              "outlinewidth": 0,
              "ticks": ""
             }
            },
            "marker": {
             "colorbar": {
              "outlinewidth": 0,
              "ticks": ""
             }
            },
            "type": "scatter3d"
           }
          ],
          "scattercarpet": [
           {
            "marker": {
             "colorbar": {
              "outlinewidth": 0,
              "ticks": ""
             }
            },
            "type": "scattercarpet"
           }
          ],
          "scattergeo": [
           {
            "marker": {
             "colorbar": {
              "outlinewidth": 0,
              "ticks": ""
             }
            },
            "type": "scattergeo"
           }
          ],
          "scattergl": [
           {
            "marker": {
             "colorbar": {
              "outlinewidth": 0,
              "ticks": ""
             }
            },
            "type": "scattergl"
           }
          ],
          "scattermapbox": [
           {
            "marker": {
             "colorbar": {
              "outlinewidth": 0,
              "ticks": ""
             }
            },
            "type": "scattermapbox"
           }
          ],
          "scatterpolar": [
           {
            "marker": {
             "colorbar": {
              "outlinewidth": 0,
              "ticks": ""
             }
            },
            "type": "scatterpolar"
           }
          ],
          "scatterpolargl": [
           {
            "marker": {
             "colorbar": {
              "outlinewidth": 0,
              "ticks": ""
             }
            },
            "type": "scatterpolargl"
           }
          ],
          "scatterternary": [
           {
            "marker": {
             "colorbar": {
              "outlinewidth": 0,
              "ticks": ""
             }
            },
            "type": "scatterternary"
           }
          ],
          "surface": [
           {
            "colorbar": {
             "outlinewidth": 0,
             "ticks": ""
            },
            "colorscale": [
             [
              0,
              "#0d0887"
             ],
             [
              0.1111111111111111,
              "#46039f"
             ],
             [
              0.2222222222222222,
              "#7201a8"
             ],
             [
              0.3333333333333333,
              "#9c179e"
             ],
             [
              0.4444444444444444,
              "#bd3786"
             ],
             [
              0.5555555555555556,
              "#d8576b"
             ],
             [
              0.6666666666666666,
              "#ed7953"
             ],
             [
              0.7777777777777778,
              "#fb9f3a"
             ],
             [
              0.8888888888888888,
              "#fdca26"
             ],
             [
              1,
              "#f0f921"
             ]
            ],
            "type": "surface"
           }
          ],
          "table": [
           {
            "cells": {
             "fill": {
              "color": "#EBF0F8"
             },
             "line": {
              "color": "white"
             }
            },
            "header": {
             "fill": {
              "color": "#C8D4E3"
             },
             "line": {
              "color": "white"
             }
            },
            "type": "table"
           }
          ]
         },
         "layout": {
          "annotationdefaults": {
           "arrowcolor": "#2a3f5f",
           "arrowhead": 0,
           "arrowwidth": 1
          },
          "autotypenumbers": "strict",
          "coloraxis": {
           "colorbar": {
            "outlinewidth": 0,
            "ticks": ""
           }
          },
          "colorscale": {
           "diverging": [
            [
             0,
             "#8e0152"
            ],
            [
             0.1,
             "#c51b7d"
            ],
            [
             0.2,
             "#de77ae"
            ],
            [
             0.3,
             "#f1b6da"
            ],
            [
             0.4,
             "#fde0ef"
            ],
            [
             0.5,
             "#f7f7f7"
            ],
            [
             0.6,
             "#e6f5d0"
            ],
            [
             0.7,
             "#b8e186"
            ],
            [
             0.8,
             "#7fbc41"
            ],
            [
             0.9,
             "#4d9221"
            ],
            [
             1,
             "#276419"
            ]
           ],
           "sequential": [
            [
             0,
             "#0d0887"
            ],
            [
             0.1111111111111111,
             "#46039f"
            ],
            [
             0.2222222222222222,
             "#7201a8"
            ],
            [
             0.3333333333333333,
             "#9c179e"
            ],
            [
             0.4444444444444444,
             "#bd3786"
            ],
            [
             0.5555555555555556,
             "#d8576b"
            ],
            [
             0.6666666666666666,
             "#ed7953"
            ],
            [
             0.7777777777777778,
             "#fb9f3a"
            ],
            [
             0.8888888888888888,
             "#fdca26"
            ],
            [
             1,
             "#f0f921"
            ]
           ],
           "sequentialminus": [
            [
             0,
             "#0d0887"
            ],
            [
             0.1111111111111111,
             "#46039f"
            ],
            [
             0.2222222222222222,
             "#7201a8"
            ],
            [
             0.3333333333333333,
             "#9c179e"
            ],
            [
             0.4444444444444444,
             "#bd3786"
            ],
            [
             0.5555555555555556,
             "#d8576b"
            ],
            [
             0.6666666666666666,
             "#ed7953"
            ],
            [
             0.7777777777777778,
             "#fb9f3a"
            ],
            [
             0.8888888888888888,
             "#fdca26"
            ],
            [
             1,
             "#f0f921"
            ]
           ]
          },
          "colorway": [
           "#636efa",
           "#EF553B",
           "#00cc96",
           "#ab63fa",
           "#FFA15A",
           "#19d3f3",
           "#FF6692",
           "#B6E880",
           "#FF97FF",
           "#FECB52"
          ],
          "font": {
           "color": "#2a3f5f"
          },
          "geo": {
           "bgcolor": "white",
           "lakecolor": "white",
           "landcolor": "#E5ECF6",
           "showlakes": true,
           "showland": true,
           "subunitcolor": "white"
          },
          "hoverlabel": {
           "align": "left"
          },
          "hovermode": "closest",
          "mapbox": {
           "style": "light"
          },
          "paper_bgcolor": "white",
          "plot_bgcolor": "#E5ECF6",
          "polar": {
           "angularaxis": {
            "gridcolor": "white",
            "linecolor": "white",
            "ticks": ""
           },
           "bgcolor": "#E5ECF6",
           "radialaxis": {
            "gridcolor": "white",
            "linecolor": "white",
            "ticks": ""
           }
          },
          "scene": {
           "xaxis": {
            "backgroundcolor": "#E5ECF6",
            "gridcolor": "white",
            "gridwidth": 2,
            "linecolor": "white",
            "showbackground": true,
            "ticks": "",
            "zerolinecolor": "white"
           },
           "yaxis": {
            "backgroundcolor": "#E5ECF6",
            "gridcolor": "white",
            "gridwidth": 2,
            "linecolor": "white",
            "showbackground": true,
            "ticks": "",
            "zerolinecolor": "white"
           },
           "zaxis": {
            "backgroundcolor": "#E5ECF6",
            "gridcolor": "white",
            "gridwidth": 2,
            "linecolor": "white",
            "showbackground": true,
            "ticks": "",
            "zerolinecolor": "white"
           }
          },
          "shapedefaults": {
           "line": {
            "color": "#2a3f5f"
           }
          },
          "ternary": {
           "aaxis": {
            "gridcolor": "white",
            "linecolor": "white",
            "ticks": ""
           },
           "baxis": {
            "gridcolor": "white",
            "linecolor": "white",
            "ticks": ""
           },
           "bgcolor": "#E5ECF6",
           "caxis": {
            "gridcolor": "white",
            "linecolor": "white",
            "ticks": ""
           }
          },
          "title": {
           "x": 0.05
          },
          "xaxis": {
           "automargin": true,
           "gridcolor": "white",
           "linecolor": "white",
           "ticks": "",
           "title": {
            "standoff": 15
           },
           "zerolinecolor": "white",
           "zerolinewidth": 2
          },
          "yaxis": {
           "automargin": true,
           "gridcolor": "white",
           "linecolor": "white",
           "ticks": "",
           "title": {
            "standoff": 15
           },
           "zerolinecolor": "white",
           "zerolinewidth": 2
          }
         }
        }
       }
      }
     },
     "metadata": {},
     "output_type": "display_data"
    }
   ],
   "source": [
    "# Display the top tracks DataFrame\n",
    "fig = px.treemap(top_tracks.groupby('Time Range').head(10), path=[px.Constant('My Top Tracks'), 'Time Range', 'Artist', 'Track'])\n",
    "fig.update_traces(root_color=\"#BD8A3E\",\n",
    "                  insidetextfont=dict(size=14),\n",
    "                  textposition='middle center')\n",
    "fig.update_layout(colorway=['#f6b520', '#f0cc80', '#0c8c4c', '#3f8c44', '#eae9e5', '#424236'],\n",
    "                  margin=dict(t=0, l=0, r=0, b=0))\n",
    "fig.show()"
   ]
  },
  {
   "cell_type": "code",
   "execution_count": 202,
   "metadata": {},
   "outputs": [],
   "source": [
    "# This function takes a playlist id and returns a dataframe with the tracks and their audio features\n",
    "def call_playlist(playlist_id, cid, secret):\n",
    "    # generating the access token for the spotify api\n",
    "    # authentication base url\n",
    "    auth_url = 'https://accounts.spotify.com/api/token'\n",
    "    auth_response = requests.post(auth_url, {'grant_type': 'client_credentials',\n",
    "                                             'client_id': cid,\n",
    "                                             'client_secret': secret})\n",
    "    auth_response_data = auth_response.json()\n",
    "    # save the access token from the response data\n",
    "    access_token = auth_response_data['access_token']\n",
    "    \n",
    "    # defining headers used for authenticating all api calls\n",
    "    headers = {'Authorization': 'Bearer {token}'.format(token = access_token)}\n",
    "    \n",
    "    # setting the base url for the api call\n",
    "    base_url = 'https://api.spotify.com/v1/'\n",
    "    \n",
    "    # calling the api to get the tracks on the playlist\n",
    "    playlist_request = requests.get(base_url + 'playlists/' + playlist_id + '/tracks', headers = headers)\n",
    "    playlist = playlist_request.json()\n",
    "    # resetting playlist variable to parse out only the items (no additional playlist metadata)\n",
    "    playlist = playlist['items']\n",
    "    \n",
    "    # creating an empty list to append the primary data for each track to\n",
    "    tracks = []\n",
    "    \n",
    "    # iterating through each item and pulling out primary data\n",
    "    for track in playlist:\n",
    "        track_name = track['track']['name']\n",
    "        track_id = track['track']['id']\n",
    "        # parsing out the dictionary of song artists, iterating through each dict item, and appending each artist to an empty list\n",
    "        # this will ensure all artists associated with the song are provided the proper credit\n",
    "        artists = track['track']['artists']\n",
    "        track_artists = []\n",
    "        for artist in artists:\n",
    "            artist_name = artist['name']\n",
    "            track_artists.append(artist_name)\n",
    "        # pulling the rest of the data items that are available in this get request\n",
    "        popularity = track['track']['popularity']\n",
    "        explicit = track['track']['explicit']\n",
    "        # appending the defined variables to the empty tracks list - this will create a list of lists to turn into a dataframe\n",
    "        tracks.append([track_name, track_id, track_artists, popularity, explicit])\n",
    "    \n",
    "    # creating the tracks dataframe\n",
    "    tracks_columns = ['track_name', 'track_id', 'track_artists', 'popularity', 'explicit']\n",
    "    tracks_df = pd.DataFrame(tracks, columns = tracks_columns)\n",
    "    \n",
    "    # creating a list of track ids to retrieve features for using the spotify api\n",
    "    all_track_ids = tracks_df['track_id'].to_list()\n",
    "    track_ids = []\n",
    "\n",
    "    for t_id in all_track_ids:\n",
    "        if t_id != None:\n",
    "            track_ids.append(t_id)\n",
    "    \n",
    "    # creating an empty list to append the audio features for each song to\n",
    "    features = []\n",
    "    \n",
    "    # iterating through each track id and calling the api to pull the audio features for the track\n",
    "    for t_id in track_ids:\n",
    "        features_request = requests.get(base_url + 'audio-features/' + t_id, headers = headers)\n",
    "        audio_features = features_request.json()\n",
    "        features.append(audio_features)\n",
    "    \n",
    "    # creating a df and appending select data values for each set of audio features\n",
    "    features_columns = ['id', 'danceability', 'energy', 'key', 'loudness', 'mode', 'speechiness',\n",
    "                        'acousticness', 'instrumentalness', 'liveness', 'valence', 'tempo', 'duration_ms', 'time_signature']\n",
    "    features_df = pd.DataFrame(features, columns = features_columns)\n",
    "    \n",
    "    # joining the two dfs on the track id\n",
    "    playlist_df = tracks_df.merge(features_df, how = 'outer', left_on = 'track_id', right_on = 'id')\n",
    "    \n",
    "    # return playlist for viewing\n",
    "    return playlist_df"
   ]
  },
  {
   "cell_type": "code",
   "execution_count": 203,
   "metadata": {},
   "outputs": [
    {
     "data": {
      "text/html": [
       "<div>\n",
       "<style scoped>\n",
       "    .dataframe tbody tr th:only-of-type {\n",
       "        vertical-align: middle;\n",
       "    }\n",
       "\n",
       "    .dataframe tbody tr th {\n",
       "        vertical-align: top;\n",
       "    }\n",
       "\n",
       "    .dataframe thead th {\n",
       "        text-align: right;\n",
       "    }\n",
       "</style>\n",
       "<table border=\"1\" class=\"dataframe\">\n",
       "  <thead>\n",
       "    <tr style=\"text-align: right;\">\n",
       "      <th></th>\n",
       "      <th>track_name</th>\n",
       "      <th>track_id</th>\n",
       "      <th>track_artists</th>\n",
       "      <th>popularity</th>\n",
       "      <th>explicit</th>\n",
       "      <th>id</th>\n",
       "      <th>danceability</th>\n",
       "      <th>energy</th>\n",
       "      <th>key</th>\n",
       "      <th>loudness</th>\n",
       "      <th>mode</th>\n",
       "      <th>speechiness</th>\n",
       "      <th>acousticness</th>\n",
       "      <th>instrumentalness</th>\n",
       "      <th>liveness</th>\n",
       "      <th>valence</th>\n",
       "      <th>tempo</th>\n",
       "      <th>duration_ms</th>\n",
       "      <th>time_signature</th>\n",
       "    </tr>\n",
       "  </thead>\n",
       "  <tbody>\n",
       "    <tr>\n",
       "      <th>0</th>\n",
       "      <td>Un Poquito</td>\n",
       "      <td>1nU4sOQqqhFUqS0TiRlD0V</td>\n",
       "      <td>[Alejo, Young Miko]</td>\n",
       "      <td>71</td>\n",
       "      <td>True</td>\n",
       "      <td>1nU4sOQqqhFUqS0TiRlD0V</td>\n",
       "      <td>0.823</td>\n",
       "      <td>0.758</td>\n",
       "      <td>11</td>\n",
       "      <td>-5.027</td>\n",
       "      <td>0</td>\n",
       "      <td>0.0689</td>\n",
       "      <td>0.2030</td>\n",
       "      <td>0.000102</td>\n",
       "      <td>0.0938</td>\n",
       "      <td>0.470</td>\n",
       "      <td>92.877</td>\n",
       "      <td>166050</td>\n",
       "      <td>4</td>\n",
       "    </tr>\n",
       "    <tr>\n",
       "      <th>1</th>\n",
       "      <td>Te Conoci Perriando</td>\n",
       "      <td>68UxtmtQa5wiUa0sbpPvgd</td>\n",
       "      <td>[Mora]</td>\n",
       "      <td>72</td>\n",
       "      <td>True</td>\n",
       "      <td>68UxtmtQa5wiUa0sbpPvgd</td>\n",
       "      <td>0.478</td>\n",
       "      <td>0.701</td>\n",
       "      <td>11</td>\n",
       "      <td>-5.009</td>\n",
       "      <td>0</td>\n",
       "      <td>0.2320</td>\n",
       "      <td>0.5660</td>\n",
       "      <td>0.000000</td>\n",
       "      <td>0.1560</td>\n",
       "      <td>0.255</td>\n",
       "      <td>87.105</td>\n",
       "      <td>190107</td>\n",
       "      <td>4</td>\n",
       "    </tr>\n",
       "    <tr>\n",
       "      <th>2</th>\n",
       "      <td>FINA</td>\n",
       "      <td>3nNmRE0DxHC6ZaKkrpUumS</td>\n",
       "      <td>[Bad Bunny, Young Miko]</td>\n",
       "      <td>93</td>\n",
       "      <td>True</td>\n",
       "      <td>3nNmRE0DxHC6ZaKkrpUumS</td>\n",
       "      <td>0.847</td>\n",
       "      <td>0.724</td>\n",
       "      <td>1</td>\n",
       "      <td>-5.410</td>\n",
       "      <td>1</td>\n",
       "      <td>0.2980</td>\n",
       "      <td>0.0869</td>\n",
       "      <td>0.000001</td>\n",
       "      <td>0.1180</td>\n",
       "      <td>0.396</td>\n",
       "      <td>94.601</td>\n",
       "      <td>216328</td>\n",
       "      <td>4</td>\n",
       "    </tr>\n",
       "    <tr>\n",
       "      <th>3</th>\n",
       "      <td>Suelta</td>\n",
       "      <td>5LitdykQszEnuzIrtGhwPs</td>\n",
       "      <td>[Jay Wheeler, Mora]</td>\n",
       "      <td>71</td>\n",
       "      <td>False</td>\n",
       "      <td>5LitdykQszEnuzIrtGhwPs</td>\n",
       "      <td>0.859</td>\n",
       "      <td>0.553</td>\n",
       "      <td>9</td>\n",
       "      <td>-5.726</td>\n",
       "      <td>0</td>\n",
       "      <td>0.0456</td>\n",
       "      <td>0.6280</td>\n",
       "      <td>0.000110</td>\n",
       "      <td>0.1090</td>\n",
       "      <td>0.338</td>\n",
       "      <td>122.048</td>\n",
       "      <td>243934</td>\n",
       "      <td>4</td>\n",
       "    </tr>\n",
       "    <tr>\n",
       "      <th>4</th>\n",
       "      <td>Desenfocao'</td>\n",
       "      <td>2CEf2gU5ZJamLXa3NrgAvA</td>\n",
       "      <td>[Rauw Alejandro]</td>\n",
       "      <td>73</td>\n",
       "      <td>False</td>\n",
       "      <td>2CEf2gU5ZJamLXa3NrgAvA</td>\n",
       "      <td>0.706</td>\n",
       "      <td>0.649</td>\n",
       "      <td>8</td>\n",
       "      <td>-3.911</td>\n",
       "      <td>1</td>\n",
       "      <td>0.0353</td>\n",
       "      <td>0.1520</td>\n",
       "      <td>0.000000</td>\n",
       "      <td>0.1610</td>\n",
       "      <td>0.271</td>\n",
       "      <td>139.976</td>\n",
       "      <td>170536</td>\n",
       "      <td>4</td>\n",
       "    </tr>\n",
       "  </tbody>\n",
       "</table>\n",
       "</div>"
      ],
      "text/plain": [
       "            track_name                track_id            track_artists  \\\n",
       "0           Un Poquito  1nU4sOQqqhFUqS0TiRlD0V      [Alejo, Young Miko]   \n",
       "1  Te Conoci Perriando  68UxtmtQa5wiUa0sbpPvgd                   [Mora]   \n",
       "2                 FINA  3nNmRE0DxHC6ZaKkrpUumS  [Bad Bunny, Young Miko]   \n",
       "3               Suelta  5LitdykQszEnuzIrtGhwPs      [Jay Wheeler, Mora]   \n",
       "4          Desenfocao'  2CEf2gU5ZJamLXa3NrgAvA         [Rauw Alejandro]   \n",
       "\n",
       "   popularity  explicit                      id  danceability  energy  key  \\\n",
       "0          71      True  1nU4sOQqqhFUqS0TiRlD0V         0.823   0.758   11   \n",
       "1          72      True  68UxtmtQa5wiUa0sbpPvgd         0.478   0.701   11   \n",
       "2          93      True  3nNmRE0DxHC6ZaKkrpUumS         0.847   0.724    1   \n",
       "3          71     False  5LitdykQszEnuzIrtGhwPs         0.859   0.553    9   \n",
       "4          73     False  2CEf2gU5ZJamLXa3NrgAvA         0.706   0.649    8   \n",
       "\n",
       "   loudness  mode  speechiness  acousticness  instrumentalness  liveness  \\\n",
       "0    -5.027     0       0.0689        0.2030          0.000102    0.0938   \n",
       "1    -5.009     0       0.2320        0.5660          0.000000    0.1560   \n",
       "2    -5.410     1       0.2980        0.0869          0.000001    0.1180   \n",
       "3    -5.726     0       0.0456        0.6280          0.000110    0.1090   \n",
       "4    -3.911     1       0.0353        0.1520          0.000000    0.1610   \n",
       "\n",
       "   valence    tempo  duration_ms  time_signature  \n",
       "0    0.470   92.877       166050               4  \n",
       "1    0.255   87.105       190107               4  \n",
       "2    0.396   94.601       216328               4  \n",
       "3    0.338  122.048       243934               4  \n",
       "4    0.271  139.976       170536               4  "
      ]
     },
     "execution_count": 203,
     "metadata": {},
     "output_type": "execute_result"
    }
   ],
   "source": [
    "# Example of the function\n",
    "playlist_id = '05wi7cd3ZWrVnxhfHk8SlF'\n",
    "\n",
    "playlist = call_playlist(playlist_id, client_id, client_secret)\n",
    "playlist.head(5)"
   ]
  },
  {
   "cell_type": "markdown",
   "metadata": {},
   "source": [
    "> I added this last function because I think this would be cool to analyze a playlist and try to see how effective it can be in a party. If we use a model and analyze its features, then we could be able to determine how this would guarantee that the music will have a positive effect in the people."
   ]
  },
  {
   "cell_type": "markdown",
   "metadata": {},
   "source": [
    "### References:\n",
    "- spotipy-dev/spotipy: A light weight Python library for the Spotify Web API. (2023, October 31). GitHub. https://github.com/spotipy-dev/spotipy.\n",
    "- Freidenburg, M. (2023, October 21). A Data Art Project: the Spotify July Top 50 | Medium. Medium; Medium. https://medium.com/@miafreidenburg/spotify-top-50-689a37c90b7c\n"
   ]
  }
 ],
 "metadata": {
  "kernelspec": {
   "display_name": "Python 3",
   "language": "python",
   "name": "python3"
  },
  "language_info": {
   "codemirror_mode": {
    "name": "ipython",
    "version": 3
   },
   "file_extension": ".py",
   "mimetype": "text/x-python",
   "name": "python",
   "nbconvert_exporter": "python",
   "pygments_lexer": "ipython3",
   "version": "3.10.11"
  }
 },
 "nbformat": 4,
 "nbformat_minor": 2
}
