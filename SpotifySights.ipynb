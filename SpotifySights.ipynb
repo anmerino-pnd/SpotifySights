{
 "cells": [
  {
   "cell_type": "markdown",
   "metadata": {},
   "source": [
    "# SpotifySights"
   ]
  },
  {
   "cell_type": "code",
   "execution_count": 1,
   "metadata": {},
   "outputs": [],
   "source": [
    "# Libraries needed for the project\n",
    "import spotipy                                              # type: ignore\n",
    "import requests\n",
    "import pandas as pd\n",
    "import plotly.express as px\n",
    "import matplotlib.pyplot as plt\n",
    "from spotipy.oauth2 import SpotifyOAuth"
   ]
  },
  {
   "cell_type": "markdown",
   "metadata": {},
   "source": [
    "Since this is private information, I .gitignore my credentials, just remember to fill your credentials in the `credentials.txt` you've created and then run the code. Also, remember that these credentials are from the [Developer Spotify Dashboard](https://developer.spotify.com/dashboard)."
   ]
  },
  {
   "cell_type": "code",
   "execution_count": 2,
   "metadata": {},
   "outputs": [],
   "source": [
    "# Open the file in read mode\n",
    "with open('credentials.txt', 'r') as file:\n",
    "    # Read all lines from the file\n",
    "    lines = file.readlines()\n",
    "\n",
    "# Initialize variables to store credentials\n",
    "client_id = None\n",
    "client_secret = None\n",
    "\n",
    "# Iterate over the lines to find the credentials\n",
    "for line in lines:\n",
    "    # Split the line into parts using the equal sign as a separator\n",
    "    parts = line.split('=')\n",
    "\n",
    "    # Check if the line has at least two parts (variable name and value)\n",
    "    if len(parts) == 2:\n",
    "        # Get the variable name and value by removing whitespace\n",
    "        variable_name = parts[0].strip()\n",
    "        value = parts[1].strip()\n",
    "\n",
    "        # Compare the variable name and store the corresponding value\n",
    "        if variable_name == 'client_id':\n",
    "            client_id = value.strip('\"')\n",
    "        elif variable_name == 'client_secret':\n",
    "            client_secret = value.strip('\"')\n",
    "        else:\n",
    "            print(f'Unknown variable {variable_name}')"
   ]
  },
  {
   "cell_type": "code",
   "execution_count": 3,
   "metadata": {},
   "outputs": [],
   "source": [
    "# Function to get the Spotify API token\n",
    "def spotify(client_id:str, client_secret:str, scope:str=None):\n",
    "    sp = spotipy.Spotify(auth_manager=SpotifyOAuth(client_id= client_id,\n",
    "                                                client_secret=client_secret,\n",
    "                                                redirect_uri=\"http://localhost:8888/callback\",\n",
    "                                                scope=scope))\n",
    "    return sp"
   ]
  },
  {
   "cell_type": "markdown",
   "metadata": {},
   "source": [
    "Check if the code below runs well, sometimes there might be issues with the token, and because of that it can be a little too complicated to work with the API. But don't worry, you can get all the help you need either in [stackoverflow](https://stackoverflow.com/questions/tagged/spotify) or [medium](https://medium.com/search?q=spotify+api+python) (this one is the best in my opinion)."
   ]
  },
  {
   "cell_type": "code",
   "execution_count": 4,
   "metadata": {},
   "outputs": [
    {
     "data": {
      "text/plain": [
       "{'display_name': 'Angel Panda',\n",
       " 'external_urls': {'spotify': 'https://open.spotify.com/user/12165545125'},\n",
       " 'href': 'https://api.spotify.com/v1/users/12165545125',\n",
       " 'id': '12165545125',\n",
       " 'images': [{'url': 'https://scontent-ord5-1.xx.fbcdn.net/v/t39.30808-1/367459657_2338569392993162_3452082202277657577_n.jpg?stp=c6.0.50.50a_cp0_dst-jpg_p50x50&_nc_cat=106&ccb=1-7&_nc_sid=5f2048&_nc_ohc=wgMcNbiqeQQAX97Rebp&_nc_ht=scontent-ord5-1.xx&edm=AP4hL3IEAAAA&oh=00_AfDrjSXVQB0RiM8gfJX5cwiQ7FaIyEW8E4t5BiEWI4vi2Q&oe=655A9D7F',\n",
       "   'height': 64,\n",
       "   'width': 64},\n",
       "  {'url': 'https://scontent-ord5-1.xx.fbcdn.net/v/t39.30808-1/367459657_2338569392993162_3452082202277657577_n.jpg?stp=c36.0.320.320a_dst-jpg_p320x320&_nc_cat=106&ccb=1-7&_nc_sid=5f2048&_nc_ohc=wgMcNbiqeQQAX97Rebp&_nc_ht=scontent-ord5-1.xx&edm=AP4hL3IEAAAA&oh=00_AfBTdMYcF2Dl4aA1NVGzWqFS1wgjHQrZz5GB-DGEQuwanA&oe=655A9D7F',\n",
       "   'height': 300,\n",
       "   'width': 300}],\n",
       " 'type': 'user',\n",
       " 'uri': 'spotify:user:12165545125',\n",
       " 'followers': {'href': None, 'total': 37}}"
      ]
     },
     "execution_count": 4,
     "metadata": {},
     "output_type": "execute_result"
    }
   ],
   "source": [
    "sp = spotify(client_id, client_secret)\n",
    "sp.me()"
   ]
  },
  {
   "cell_type": "markdown",
   "metadata": {},
   "source": [
    "Now, we'll get the information we want from our account. If you want to get other type of information or data, please check out the [spotipy documentation](https://spotipy.readthedocs.io/en/2.22.1/), and also the lists of [scopes](https://developer.spotify.com/documentation/web-api/concepts/scopes)."
   ]
  },
  {
   "cell_type": "code",
   "execution_count": 8,
   "metadata": {},
   "outputs": [],
   "source": [
    "# This scope shows you the last 20 tracks you've saved\n",
    "scope = \"user-library-read\"\n",
    "\n",
    "sp = spotify(client_id, client_secret, scope)\n",
    "\n",
    "results = sp.current_user_saved_tracks()\n",
    "\n",
    "# Extract track information into a DataFrame\n",
    "tracks_data = []\n",
    "for idx, item in enumerate(results['items']):\n",
    "    track = item['track']\n",
    "    track_data = {\n",
    "        'Artist': track['artists'][0]['name'],\n",
    "        'Track': track['name']\n",
    "    }\n",
    "    tracks_data.append(track_data)\n",
    "\n",
    "# Create DataFrame\n",
    "tracks = pd.DataFrame(tracks_data)"
   ]
  },
  {
   "cell_type": "code",
   "execution_count": 9,
   "metadata": {},
   "outputs": [
    {
     "data": {
      "application/vnd.plotly.v1+json": {
       "config": {
        "plotlyServerURL": "https://plot.ly"
       },
       "data": [
        {
         "branchvalues": "total",
         "domain": {
          "x": [
           0,
           1
          ],
          "y": [
           0,
           1
          ]
         },
         "hovertemplate": "labels=%{label}<br>count=%{value}<br>parent=%{parent}<br>id=%{id}<extra></extra>",
         "ids": [
          "My Saved Tracks/Arctic Monkeys/D Is for Dangerous",
          "My Saved Tracks/Snoh Aalegra/DO 4 LOVE",
          "My Saved Tracks/King Gnu/Don't Stop the Clocks",
          "My Saved Tracks/Joe Hisaishi/Evening Wind",
          "My Saved Tracks/IVYSON/Girassol - Acústico",
          "My Saved Tracks/Frank Ocean/In My Room",
          "My Saved Tracks/JKRS/It's a Fine Day",
          "My Saved Tracks/MoonMoon/L'oiseau bleu",
          "My Saved Tracks/Pedro Mizutani/Melhor Se Acostumar",
          "My Saved Tracks/KAROL G/OKI DOKI",
          "My Saved Tracks/Little Simz/Phases",
          "My Saved Tracks/Shikki/Sans toi",
          "My Saved Tracks/Shikki/Sous le ciel de Paris",
          "My Saved Tracks/Cesária Evora/Sódade",
          "My Saved Tracks/rum.gold/Thicker Than Water",
          "My Saved Tracks/rum.gold/Waiting For (feat. Jamila Woods)",
          "My Saved Tracks/Junior H/Y LLORO",
          "My Saved Tracks/Colde/Your Dog Loves You (Feat. Crush)",
          "My Saved Tracks/Elijah Who/i'm tired of feeling this way",
          "My Saved Tracks/Yaya Bey/mama loves her son",
          "My Saved Tracks/Arctic Monkeys",
          "My Saved Tracks/Cesária Evora",
          "My Saved Tracks/Colde",
          "My Saved Tracks/Elijah Who",
          "My Saved Tracks/Frank Ocean",
          "My Saved Tracks/IVYSON",
          "My Saved Tracks/JKRS",
          "My Saved Tracks/Joe Hisaishi",
          "My Saved Tracks/Junior H",
          "My Saved Tracks/KAROL G",
          "My Saved Tracks/King Gnu",
          "My Saved Tracks/Little Simz",
          "My Saved Tracks/MoonMoon",
          "My Saved Tracks/Pedro Mizutani",
          "My Saved Tracks/Shikki",
          "My Saved Tracks/Snoh Aalegra",
          "My Saved Tracks/Yaya Bey",
          "My Saved Tracks/rum.gold",
          "My Saved Tracks"
         ],
         "insidetextfont": {
          "size": 14
         },
         "labels": [
          "D Is for Dangerous",
          "DO 4 LOVE",
          "Don't Stop the Clocks",
          "Evening Wind",
          "Girassol - Acústico",
          "In My Room",
          "It's a Fine Day",
          "L'oiseau bleu",
          "Melhor Se Acostumar",
          "OKI DOKI",
          "Phases",
          "Sans toi",
          "Sous le ciel de Paris",
          "Sódade",
          "Thicker Than Water",
          "Waiting For (feat. Jamila Woods)",
          "Y LLORO",
          "Your Dog Loves You (Feat. Crush)",
          "i'm tired of feeling this way",
          "mama loves her son",
          "Arctic Monkeys",
          "Cesária Evora",
          "Colde",
          "Elijah Who",
          "Frank Ocean",
          "IVYSON",
          "JKRS",
          "Joe Hisaishi",
          "Junior H",
          "KAROL G",
          "King Gnu",
          "Little Simz",
          "MoonMoon",
          "Pedro Mizutani",
          "Shikki",
          "Snoh Aalegra",
          "Yaya Bey",
          "rum.gold",
          "My Saved Tracks"
         ],
         "name": "",
         "parents": [
          "My Saved Tracks/Arctic Monkeys",
          "My Saved Tracks/Snoh Aalegra",
          "My Saved Tracks/King Gnu",
          "My Saved Tracks/Joe Hisaishi",
          "My Saved Tracks/IVYSON",
          "My Saved Tracks/Frank Ocean",
          "My Saved Tracks/JKRS",
          "My Saved Tracks/MoonMoon",
          "My Saved Tracks/Pedro Mizutani",
          "My Saved Tracks/KAROL G",
          "My Saved Tracks/Little Simz",
          "My Saved Tracks/Shikki",
          "My Saved Tracks/Shikki",
          "My Saved Tracks/Cesária Evora",
          "My Saved Tracks/rum.gold",
          "My Saved Tracks/rum.gold",
          "My Saved Tracks/Junior H",
          "My Saved Tracks/Colde",
          "My Saved Tracks/Elijah Who",
          "My Saved Tracks/Yaya Bey",
          "My Saved Tracks",
          "My Saved Tracks",
          "My Saved Tracks",
          "My Saved Tracks",
          "My Saved Tracks",
          "My Saved Tracks",
          "My Saved Tracks",
          "My Saved Tracks",
          "My Saved Tracks",
          "My Saved Tracks",
          "My Saved Tracks",
          "My Saved Tracks",
          "My Saved Tracks",
          "My Saved Tracks",
          "My Saved Tracks",
          "My Saved Tracks",
          "My Saved Tracks",
          "My Saved Tracks",
          ""
         ],
         "textposition": "middle center",
         "type": "treemap",
         "values": [
          1,
          1,
          1,
          1,
          1,
          1,
          1,
          1,
          1,
          1,
          1,
          1,
          1,
          1,
          1,
          1,
          1,
          1,
          1,
          1,
          1,
          1,
          1,
          1,
          1,
          1,
          1,
          1,
          1,
          1,
          1,
          1,
          1,
          1,
          2,
          1,
          1,
          2,
          20
         ]
        }
       ],
       "layout": {
        "colorway": [
         "#f6b520",
         "#f0cc80",
         "#0c8c4c",
         "#3f8c44",
         "#eae9e5",
         "#424236"
        ],
        "legend": {
         "tracegroupgap": 0
        },
        "margin": {
         "b": 0,
         "l": 0,
         "r": 0,
         "t": 0
        },
        "template": {
         "data": {
          "bar": [
           {
            "error_x": {
             "color": "#2a3f5f"
            },
            "error_y": {
             "color": "#2a3f5f"
            },
            "marker": {
             "line": {
              "color": "#E5ECF6",
              "width": 0.5
             },
             "pattern": {
              "fillmode": "overlay",
              "size": 10,
              "solidity": 0.2
             }
            },
            "type": "bar"
           }
          ],
          "barpolar": [
           {
            "marker": {
             "line": {
              "color": "#E5ECF6",
              "width": 0.5
             },
             "pattern": {
              "fillmode": "overlay",
              "size": 10,
              "solidity": 0.2
             }
            },
            "type": "barpolar"
           }
          ],
          "carpet": [
           {
            "aaxis": {
             "endlinecolor": "#2a3f5f",
             "gridcolor": "white",
             "linecolor": "white",
             "minorgridcolor": "white",
             "startlinecolor": "#2a3f5f"
            },
            "baxis": {
             "endlinecolor": "#2a3f5f",
             "gridcolor": "white",
             "linecolor": "white",
             "minorgridcolor": "white",
             "startlinecolor": "#2a3f5f"
            },
            "type": "carpet"
           }
          ],
          "choropleth": [
           {
            "colorbar": {
             "outlinewidth": 0,
             "ticks": ""
            },
            "type": "choropleth"
           }
          ],
          "contour": [
           {
            "colorbar": {
             "outlinewidth": 0,
             "ticks": ""
            },
            "colorscale": [
             [
              0,
              "#0d0887"
             ],
             [
              0.1111111111111111,
              "#46039f"
             ],
             [
              0.2222222222222222,
              "#7201a8"
             ],
             [
              0.3333333333333333,
              "#9c179e"
             ],
             [
              0.4444444444444444,
              "#bd3786"
             ],
             [
              0.5555555555555556,
              "#d8576b"
             ],
             [
              0.6666666666666666,
              "#ed7953"
             ],
             [
              0.7777777777777778,
              "#fb9f3a"
             ],
             [
              0.8888888888888888,
              "#fdca26"
             ],
             [
              1,
              "#f0f921"
             ]
            ],
            "type": "contour"
           }
          ],
          "contourcarpet": [
           {
            "colorbar": {
             "outlinewidth": 0,
             "ticks": ""
            },
            "type": "contourcarpet"
           }
          ],
          "heatmap": [
           {
            "colorbar": {
             "outlinewidth": 0,
             "ticks": ""
            },
            "colorscale": [
             [
              0,
              "#0d0887"
             ],
             [
              0.1111111111111111,
              "#46039f"
             ],
             [
              0.2222222222222222,
              "#7201a8"
             ],
             [
              0.3333333333333333,
              "#9c179e"
             ],
             [
              0.4444444444444444,
              "#bd3786"
             ],
             [
              0.5555555555555556,
              "#d8576b"
             ],
             [
              0.6666666666666666,
              "#ed7953"
             ],
             [
              0.7777777777777778,
              "#fb9f3a"
             ],
             [
              0.8888888888888888,
              "#fdca26"
             ],
             [
              1,
              "#f0f921"
             ]
            ],
            "type": "heatmap"
           }
          ],
          "heatmapgl": [
           {
            "colorbar": {
             "outlinewidth": 0,
             "ticks": ""
            },
            "colorscale": [
             [
              0,
              "#0d0887"
             ],
             [
              0.1111111111111111,
              "#46039f"
             ],
             [
              0.2222222222222222,
              "#7201a8"
             ],
             [
              0.3333333333333333,
              "#9c179e"
             ],
             [
              0.4444444444444444,
              "#bd3786"
             ],
             [
              0.5555555555555556,
              "#d8576b"
             ],
             [
              0.6666666666666666,
              "#ed7953"
             ],
             [
              0.7777777777777778,
              "#fb9f3a"
             ],
             [
              0.8888888888888888,
              "#fdca26"
             ],
             [
              1,
              "#f0f921"
             ]
            ],
            "type": "heatmapgl"
           }
          ],
          "histogram": [
           {
            "marker": {
             "pattern": {
              "fillmode": "overlay",
              "size": 10,
              "solidity": 0.2
             }
            },
            "type": "histogram"
           }
          ],
          "histogram2d": [
           {
            "colorbar": {
             "outlinewidth": 0,
             "ticks": ""
            },
            "colorscale": [
             [
              0,
              "#0d0887"
             ],
             [
              0.1111111111111111,
              "#46039f"
             ],
             [
              0.2222222222222222,
              "#7201a8"
             ],
             [
              0.3333333333333333,
              "#9c179e"
             ],
             [
              0.4444444444444444,
              "#bd3786"
             ],
             [
              0.5555555555555556,
              "#d8576b"
             ],
             [
              0.6666666666666666,
              "#ed7953"
             ],
             [
              0.7777777777777778,
              "#fb9f3a"
             ],
             [
              0.8888888888888888,
              "#fdca26"
             ],
             [
              1,
              "#f0f921"
             ]
            ],
            "type": "histogram2d"
           }
          ],
          "histogram2dcontour": [
           {
            "colorbar": {
             "outlinewidth": 0,
             "ticks": ""
            },
            "colorscale": [
             [
              0,
              "#0d0887"
             ],
             [
              0.1111111111111111,
              "#46039f"
             ],
             [
              0.2222222222222222,
              "#7201a8"
             ],
             [
              0.3333333333333333,
              "#9c179e"
             ],
             [
              0.4444444444444444,
              "#bd3786"
             ],
             [
              0.5555555555555556,
              "#d8576b"
             ],
             [
              0.6666666666666666,
              "#ed7953"
             ],
             [
              0.7777777777777778,
              "#fb9f3a"
             ],
             [
              0.8888888888888888,
              "#fdca26"
             ],
             [
              1,
              "#f0f921"
             ]
            ],
            "type": "histogram2dcontour"
           }
          ],
          "mesh3d": [
           {
            "colorbar": {
             "outlinewidth": 0,
             "ticks": ""
            },
            "type": "mesh3d"
           }
          ],
          "parcoords": [
           {
            "line": {
             "colorbar": {
              "outlinewidth": 0,
              "ticks": ""
             }
            },
            "type": "parcoords"
           }
          ],
          "pie": [
           {
            "automargin": true,
            "type": "pie"
           }
          ],
          "scatter": [
           {
            "fillpattern": {
             "fillmode": "overlay",
             "size": 10,
             "solidity": 0.2
            },
            "type": "scatter"
           }
          ],
          "scatter3d": [
           {
            "line": {
             "colorbar": {
              "outlinewidth": 0,
              "ticks": ""
             }
            },
            "marker": {
             "colorbar": {
              "outlinewidth": 0,
              "ticks": ""
             }
            },
            "type": "scatter3d"
           }
          ],
          "scattercarpet": [
           {
            "marker": {
             "colorbar": {
              "outlinewidth": 0,
              "ticks": ""
             }
            },
            "type": "scattercarpet"
           }
          ],
          "scattergeo": [
           {
            "marker": {
             "colorbar": {
              "outlinewidth": 0,
              "ticks": ""
             }
            },
            "type": "scattergeo"
           }
          ],
          "scattergl": [
           {
            "marker": {
             "colorbar": {
              "outlinewidth": 0,
              "ticks": ""
             }
            },
            "type": "scattergl"
           }
          ],
          "scattermapbox": [
           {
            "marker": {
             "colorbar": {
              "outlinewidth": 0,
              "ticks": ""
             }
            },
            "type": "scattermapbox"
           }
          ],
          "scatterpolar": [
           {
            "marker": {
             "colorbar": {
              "outlinewidth": 0,
              "ticks": ""
             }
            },
            "type": "scatterpolar"
           }
          ],
          "scatterpolargl": [
           {
            "marker": {
             "colorbar": {
              "outlinewidth": 0,
              "ticks": ""
             }
            },
            "type": "scatterpolargl"
           }
          ],
          "scatterternary": [
           {
            "marker": {
             "colorbar": {
              "outlinewidth": 0,
              "ticks": ""
             }
            },
            "type": "scatterternary"
           }
          ],
          "surface": [
           {
            "colorbar": {
             "outlinewidth": 0,
             "ticks": ""
            },
            "colorscale": [
             [
              0,
              "#0d0887"
             ],
             [
              0.1111111111111111,
              "#46039f"
             ],
             [
              0.2222222222222222,
              "#7201a8"
             ],
             [
              0.3333333333333333,
              "#9c179e"
             ],
             [
              0.4444444444444444,
              "#bd3786"
             ],
             [
              0.5555555555555556,
              "#d8576b"
             ],
             [
              0.6666666666666666,
              "#ed7953"
             ],
             [
              0.7777777777777778,
              "#fb9f3a"
             ],
             [
              0.8888888888888888,
              "#fdca26"
             ],
             [
              1,
              "#f0f921"
             ]
            ],
            "type": "surface"
           }
          ],
          "table": [
           {
            "cells": {
             "fill": {
              "color": "#EBF0F8"
             },
             "line": {
              "color": "white"
             }
            },
            "header": {
             "fill": {
              "color": "#C8D4E3"
             },
             "line": {
              "color": "white"
             }
            },
            "type": "table"
           }
          ]
         },
         "layout": {
          "annotationdefaults": {
           "arrowcolor": "#2a3f5f",
           "arrowhead": 0,
           "arrowwidth": 1
          },
          "autotypenumbers": "strict",
          "coloraxis": {
           "colorbar": {
            "outlinewidth": 0,
            "ticks": ""
           }
          },
          "colorscale": {
           "diverging": [
            [
             0,
             "#8e0152"
            ],
            [
             0.1,
             "#c51b7d"
            ],
            [
             0.2,
             "#de77ae"
            ],
            [
             0.3,
             "#f1b6da"
            ],
            [
             0.4,
             "#fde0ef"
            ],
            [
             0.5,
             "#f7f7f7"
            ],
            [
             0.6,
             "#e6f5d0"
            ],
            [
             0.7,
             "#b8e186"
            ],
            [
             0.8,
             "#7fbc41"
            ],
            [
             0.9,
             "#4d9221"
            ],
            [
             1,
             "#276419"
            ]
           ],
           "sequential": [
            [
             0,
             "#0d0887"
            ],
            [
             0.1111111111111111,
             "#46039f"
            ],
            [
             0.2222222222222222,
             "#7201a8"
            ],
            [
             0.3333333333333333,
             "#9c179e"
            ],
            [
             0.4444444444444444,
             "#bd3786"
            ],
            [
             0.5555555555555556,
             "#d8576b"
            ],
            [
             0.6666666666666666,
             "#ed7953"
            ],
            [
             0.7777777777777778,
             "#fb9f3a"
            ],
            [
             0.8888888888888888,
             "#fdca26"
            ],
            [
             1,
             "#f0f921"
            ]
           ],
           "sequentialminus": [
            [
             0,
             "#0d0887"
            ],
            [
             0.1111111111111111,
             "#46039f"
            ],
            [
             0.2222222222222222,
             "#7201a8"
            ],
            [
             0.3333333333333333,
             "#9c179e"
            ],
            [
             0.4444444444444444,
             "#bd3786"
            ],
            [
             0.5555555555555556,
             "#d8576b"
            ],
            [
             0.6666666666666666,
             "#ed7953"
            ],
            [
             0.7777777777777778,
             "#fb9f3a"
            ],
            [
             0.8888888888888888,
             "#fdca26"
            ],
            [
             1,
             "#f0f921"
            ]
           ]
          },
          "colorway": [
           "#636efa",
           "#EF553B",
           "#00cc96",
           "#ab63fa",
           "#FFA15A",
           "#19d3f3",
           "#FF6692",
           "#B6E880",
           "#FF97FF",
           "#FECB52"
          ],
          "font": {
           "color": "#2a3f5f"
          },
          "geo": {
           "bgcolor": "white",
           "lakecolor": "white",
           "landcolor": "#E5ECF6",
           "showlakes": true,
           "showland": true,
           "subunitcolor": "white"
          },
          "hoverlabel": {
           "align": "left"
          },
          "hovermode": "closest",
          "mapbox": {
           "style": "light"
          },
          "paper_bgcolor": "white",
          "plot_bgcolor": "#E5ECF6",
          "polar": {
           "angularaxis": {
            "gridcolor": "white",
            "linecolor": "white",
            "ticks": ""
           },
           "bgcolor": "#E5ECF6",
           "radialaxis": {
            "gridcolor": "white",
            "linecolor": "white",
            "ticks": ""
           }
          },
          "scene": {
           "xaxis": {
            "backgroundcolor": "#E5ECF6",
            "gridcolor": "white",
            "gridwidth": 2,
            "linecolor": "white",
            "showbackground": true,
            "ticks": "",
            "zerolinecolor": "white"
           },
           "yaxis": {
            "backgroundcolor": "#E5ECF6",
            "gridcolor": "white",
            "gridwidth": 2,
            "linecolor": "white",
            "showbackground": true,
            "ticks": "",
            "zerolinecolor": "white"
           },
           "zaxis": {
            "backgroundcolor": "#E5ECF6",
            "gridcolor": "white",
            "gridwidth": 2,
            "linecolor": "white",
            "showbackground": true,
            "ticks": "",
            "zerolinecolor": "white"
           }
          },
          "shapedefaults": {
           "line": {
            "color": "#2a3f5f"
           }
          },
          "ternary": {
           "aaxis": {
            "gridcolor": "white",
            "linecolor": "white",
            "ticks": ""
           },
           "baxis": {
            "gridcolor": "white",
            "linecolor": "white",
            "ticks": ""
           },
           "bgcolor": "#E5ECF6",
           "caxis": {
            "gridcolor": "white",
            "linecolor": "white",
            "ticks": ""
           }
          },
          "title": {
           "x": 0.05
          },
          "xaxis": {
           "automargin": true,
           "gridcolor": "white",
           "linecolor": "white",
           "ticks": "",
           "title": {
            "standoff": 15
           },
           "zerolinecolor": "white",
           "zerolinewidth": 2
          },
          "yaxis": {
           "automargin": true,
           "gridcolor": "white",
           "linecolor": "white",
           "ticks": "",
           "title": {
            "standoff": 15
           },
           "zerolinecolor": "white",
           "zerolinewidth": 2
          }
         }
        }
       }
      }
     },
     "metadata": {},
     "output_type": "display_data"
    }
   ],
   "source": [
    "fig = px.treemap(tracks, path=[px.Constant('My Saved Tracks'),'Artist','Track'])\n",
    "fig.update_traces(insidetextfont=dict(size=14),\n",
    "                  textposition='middle center')\n",
    "fig.update_layout(colorway=['#f6b520', '#f0cc80', '#0c8c4c', '#3f8c44', '#eae9e5', '#424236'],\n",
    "                  margin=dict(t=0, l=0, r=0, b=0))\n",
    "fig.show()\n",
    "fig.write_image('figures/MySavedTracks.png', engine='kaleido', scale=5)"
   ]
  },
  {
   "cell_type": "code",
   "execution_count": 10,
   "metadata": {},
   "outputs": [],
   "source": [
    "# This scope shows you the top 50 artists you've listened depending on the time range\n",
    "scope = 'user-top-read'\n",
    "ranges = ['short_term', 'medium_term', 'long_term']\n",
    "\n",
    "sp = spotify(client_id, client_secret, scope)\n",
    "\n",
    "# Initialize an empty list to store top artists data\n",
    "top_artists_data = []\n",
    "\n",
    "# Retrieve and display top artists for different time ranges\n",
    "for sp_range in ['short_term', 'medium_term', 'long_term']:\n",
    "\n",
    "    # Retrieve top artists for the specified time range\n",
    "    results = sp.current_user_top_artists(time_range=sp_range, limit=50)\n",
    "\n",
    "    # Extract and append artist information to the list\n",
    "    for i, item in enumerate(results['items']):\n",
    "        artist_data = {\n",
    "            'Time_Range': sp_range,\n",
    "            'Artist': item['name'],\n",
    "            'Genres': item['genres']\n",
    "        }\n",
    "        top_artists_data.append(artist_data)\n",
    "\n",
    "# Create a DataFrame from the list of top artists data\n",
    "top_artists = pd.DataFrame(top_artists_data)"
   ]
  },
  {
   "cell_type": "code",
   "execution_count": 11,
   "metadata": {},
   "outputs": [
    {
     "data": {
      "application/vnd.plotly.v1+json": {
       "config": {
        "plotlyServerURL": "https://plot.ly"
       },
       "data": [
        {
         "branchvalues": "total",
         "domain": {
          "x": [
           0,
           1
          ],
          "y": [
           0,
           1
          ]
         },
         "hovertemplate": "labels=%{label}<br>count=%{value}<br>parent=%{parent}<br>id=%{id}<extra></extra>",
         "ids": [
          "My Top Artists/long_term/Arctic Monkeys",
          "My Top Artists/medium_term/Arctic Monkeys",
          "My Top Artists/long_term/BROCKHAMPTON",
          "My Top Artists/long_term/Bad Bunny",
          "My Top Artists/medium_term/Bad Bunny",
          "My Top Artists/short_term/Bad Bunny",
          "My Top Artists/long_term/Gesu No Kiwami Otome",
          "My Top Artists/short_term/Guitarricadelafuente",
          "My Top Artists/long_term/Jaden",
          "My Top Artists/medium_term/Jaden",
          "My Top Artists/short_term/Jaden",
          "My Top Artists/long_term/Joe Hisaishi",
          "My Top Artists/medium_term/Joe Hisaishi",
          "My Top Artists/short_term/Joe Hisaishi",
          "My Top Artists/long_term/Junior H",
          "My Top Artists/medium_term/Junior H",
          "My Top Artists/short_term/Junior H",
          "My Top Artists/short_term/Kaky",
          "My Top Artists/short_term/Little Simz",
          "My Top Artists/medium_term/Luidji",
          "My Top Artists/medium_term/Metro Boomin",
          "My Top Artists/long_term/Mora",
          "My Top Artists/medium_term/Mora",
          "My Top Artists/short_term/Natanael Cano",
          "My Top Artists/long_term/Tainy",
          "My Top Artists/medium_term/Tainy",
          "My Top Artists/long_term/indigo la End",
          "My Top Artists/medium_term/indigo la End",
          "My Top Artists/short_term/indigo la End",
          "My Top Artists/short_term/rum.gold",
          "My Top Artists/long_term",
          "My Top Artists/medium_term",
          "My Top Artists/short_term",
          "My Top Artists"
         ],
         "insidetextfont": {
          "size": 14
         },
         "labels": [
          "Arctic Monkeys",
          "Arctic Monkeys",
          "BROCKHAMPTON",
          "Bad Bunny",
          "Bad Bunny",
          "Bad Bunny",
          "Gesu No Kiwami Otome",
          "Guitarricadelafuente",
          "Jaden",
          "Jaden",
          "Jaden",
          "Joe Hisaishi",
          "Joe Hisaishi",
          "Joe Hisaishi",
          "Junior H",
          "Junior H",
          "Junior H",
          "Kaky",
          "Little Simz",
          "Luidji",
          "Metro Boomin",
          "Mora",
          "Mora",
          "Natanael Cano",
          "Tainy",
          "Tainy",
          "indigo la End",
          "indigo la End",
          "indigo la End",
          "rum.gold",
          "long_term",
          "medium_term",
          "short_term",
          "My Top Artists"
         ],
         "name": "",
         "parents": [
          "My Top Artists/long_term",
          "My Top Artists/medium_term",
          "My Top Artists/long_term",
          "My Top Artists/long_term",
          "My Top Artists/medium_term",
          "My Top Artists/short_term",
          "My Top Artists/long_term",
          "My Top Artists/short_term",
          "My Top Artists/long_term",
          "My Top Artists/medium_term",
          "My Top Artists/short_term",
          "My Top Artists/long_term",
          "My Top Artists/medium_term",
          "My Top Artists/short_term",
          "My Top Artists/long_term",
          "My Top Artists/medium_term",
          "My Top Artists/short_term",
          "My Top Artists/short_term",
          "My Top Artists/short_term",
          "My Top Artists/medium_term",
          "My Top Artists/medium_term",
          "My Top Artists/long_term",
          "My Top Artists/medium_term",
          "My Top Artists/short_term",
          "My Top Artists/long_term",
          "My Top Artists/medium_term",
          "My Top Artists/long_term",
          "My Top Artists/medium_term",
          "My Top Artists/short_term",
          "My Top Artists/short_term",
          "My Top Artists",
          "My Top Artists",
          "My Top Artists",
          ""
         ],
         "textposition": "middle center",
         "type": "treemap",
         "values": [
          1,
          1,
          1,
          1,
          1,
          1,
          1,
          1,
          1,
          1,
          1,
          1,
          1,
          1,
          1,
          1,
          1,
          1,
          1,
          1,
          1,
          1,
          1,
          1,
          1,
          1,
          1,
          1,
          1,
          1,
          10,
          10,
          10,
          30
         ]
        }
       ],
       "layout": {
        "colorway": [
         "#f6b520",
         "#f0cc80",
         "#0c8c4c",
         "#3f8c44",
         "#eae9e5",
         "#424236"
        ],
        "legend": {
         "tracegroupgap": 0
        },
        "margin": {
         "b": 0,
         "l": 0,
         "r": 0,
         "t": 0
        },
        "template": {
         "data": {
          "bar": [
           {
            "error_x": {
             "color": "#2a3f5f"
            },
            "error_y": {
             "color": "#2a3f5f"
            },
            "marker": {
             "line": {
              "color": "#E5ECF6",
              "width": 0.5
             },
             "pattern": {
              "fillmode": "overlay",
              "size": 10,
              "solidity": 0.2
             }
            },
            "type": "bar"
           }
          ],
          "barpolar": [
           {
            "marker": {
             "line": {
              "color": "#E5ECF6",
              "width": 0.5
             },
             "pattern": {
              "fillmode": "overlay",
              "size": 10,
              "solidity": 0.2
             }
            },
            "type": "barpolar"
           }
          ],
          "carpet": [
           {
            "aaxis": {
             "endlinecolor": "#2a3f5f",
             "gridcolor": "white",
             "linecolor": "white",
             "minorgridcolor": "white",
             "startlinecolor": "#2a3f5f"
            },
            "baxis": {
             "endlinecolor": "#2a3f5f",
             "gridcolor": "white",
             "linecolor": "white",
             "minorgridcolor": "white",
             "startlinecolor": "#2a3f5f"
            },
            "type": "carpet"
           }
          ],
          "choropleth": [
           {
            "colorbar": {
             "outlinewidth": 0,
             "ticks": ""
            },
            "type": "choropleth"
           }
          ],
          "contour": [
           {
            "colorbar": {
             "outlinewidth": 0,
             "ticks": ""
            },
            "colorscale": [
             [
              0,
              "#0d0887"
             ],
             [
              0.1111111111111111,
              "#46039f"
             ],
             [
              0.2222222222222222,
              "#7201a8"
             ],
             [
              0.3333333333333333,
              "#9c179e"
             ],
             [
              0.4444444444444444,
              "#bd3786"
             ],
             [
              0.5555555555555556,
              "#d8576b"
             ],
             [
              0.6666666666666666,
              "#ed7953"
             ],
             [
              0.7777777777777778,
              "#fb9f3a"
             ],
             [
              0.8888888888888888,
              "#fdca26"
             ],
             [
              1,
              "#f0f921"
             ]
            ],
            "type": "contour"
           }
          ],
          "contourcarpet": [
           {
            "colorbar": {
             "outlinewidth": 0,
             "ticks": ""
            },
            "type": "contourcarpet"
           }
          ],
          "heatmap": [
           {
            "colorbar": {
             "outlinewidth": 0,
             "ticks": ""
            },
            "colorscale": [
             [
              0,
              "#0d0887"
             ],
             [
              0.1111111111111111,
              "#46039f"
             ],
             [
              0.2222222222222222,
              "#7201a8"
             ],
             [
              0.3333333333333333,
              "#9c179e"
             ],
             [
              0.4444444444444444,
              "#bd3786"
             ],
             [
              0.5555555555555556,
              "#d8576b"
             ],
             [
              0.6666666666666666,
              "#ed7953"
             ],
             [
              0.7777777777777778,
              "#fb9f3a"
             ],
             [
              0.8888888888888888,
              "#fdca26"
             ],
             [
              1,
              "#f0f921"
             ]
            ],
            "type": "heatmap"
           }
          ],
          "heatmapgl": [
           {
            "colorbar": {
             "outlinewidth": 0,
             "ticks": ""
            },
            "colorscale": [
             [
              0,
              "#0d0887"
             ],
             [
              0.1111111111111111,
              "#46039f"
             ],
             [
              0.2222222222222222,
              "#7201a8"
             ],
             [
              0.3333333333333333,
              "#9c179e"
             ],
             [
              0.4444444444444444,
              "#bd3786"
             ],
             [
              0.5555555555555556,
              "#d8576b"
             ],
             [
              0.6666666666666666,
              "#ed7953"
             ],
             [
              0.7777777777777778,
              "#fb9f3a"
             ],
             [
              0.8888888888888888,
              "#fdca26"
             ],
             [
              1,
              "#f0f921"
             ]
            ],
            "type": "heatmapgl"
           }
          ],
          "histogram": [
           {
            "marker": {
             "pattern": {
              "fillmode": "overlay",
              "size": 10,
              "solidity": 0.2
             }
            },
            "type": "histogram"
           }
          ],
          "histogram2d": [
           {
            "colorbar": {
             "outlinewidth": 0,
             "ticks": ""
            },
            "colorscale": [
             [
              0,
              "#0d0887"
             ],
             [
              0.1111111111111111,
              "#46039f"
             ],
             [
              0.2222222222222222,
              "#7201a8"
             ],
             [
              0.3333333333333333,
              "#9c179e"
             ],
             [
              0.4444444444444444,
              "#bd3786"
             ],
             [
              0.5555555555555556,
              "#d8576b"
             ],
             [
              0.6666666666666666,
              "#ed7953"
             ],
             [
              0.7777777777777778,
              "#fb9f3a"
             ],
             [
              0.8888888888888888,
              "#fdca26"
             ],
             [
              1,
              "#f0f921"
             ]
            ],
            "type": "histogram2d"
           }
          ],
          "histogram2dcontour": [
           {
            "colorbar": {
             "outlinewidth": 0,
             "ticks": ""
            },
            "colorscale": [
             [
              0,
              "#0d0887"
             ],
             [
              0.1111111111111111,
              "#46039f"
             ],
             [
              0.2222222222222222,
              "#7201a8"
             ],
             [
              0.3333333333333333,
              "#9c179e"
             ],
             [
              0.4444444444444444,
              "#bd3786"
             ],
             [
              0.5555555555555556,
              "#d8576b"
             ],
             [
              0.6666666666666666,
              "#ed7953"
             ],
             [
              0.7777777777777778,
              "#fb9f3a"
             ],
             [
              0.8888888888888888,
              "#fdca26"
             ],
             [
              1,
              "#f0f921"
             ]
            ],
            "type": "histogram2dcontour"
           }
          ],
          "mesh3d": [
           {
            "colorbar": {
             "outlinewidth": 0,
             "ticks": ""
            },
            "type": "mesh3d"
           }
          ],
          "parcoords": [
           {
            "line": {
             "colorbar": {
              "outlinewidth": 0,
              "ticks": ""
             }
            },
            "type": "parcoords"
           }
          ],
          "pie": [
           {
            "automargin": true,
            "type": "pie"
           }
          ],
          "scatter": [
           {
            "fillpattern": {
             "fillmode": "overlay",
             "size": 10,
             "solidity": 0.2
            },
            "type": "scatter"
           }
          ],
          "scatter3d": [
           {
            "line": {
             "colorbar": {
              "outlinewidth": 0,
              "ticks": ""
             }
            },
            "marker": {
             "colorbar": {
              "outlinewidth": 0,
              "ticks": ""
             }
            },
            "type": "scatter3d"
           }
          ],
          "scattercarpet": [
           {
            "marker": {
             "colorbar": {
              "outlinewidth": 0,
              "ticks": ""
             }
            },
            "type": "scattercarpet"
           }
          ],
          "scattergeo": [
           {
            "marker": {
             "colorbar": {
              "outlinewidth": 0,
              "ticks": ""
             }
            },
            "type": "scattergeo"
           }
          ],
          "scattergl": [
           {
            "marker": {
             "colorbar": {
              "outlinewidth": 0,
              "ticks": ""
             }
            },
            "type": "scattergl"
           }
          ],
          "scattermapbox": [
           {
            "marker": {
             "colorbar": {
              "outlinewidth": 0,
              "ticks": ""
             }
            },
            "type": "scattermapbox"
           }
          ],
          "scatterpolar": [
           {
            "marker": {
             "colorbar": {
              "outlinewidth": 0,
              "ticks": ""
             }
            },
            "type": "scatterpolar"
           }
          ],
          "scatterpolargl": [
           {
            "marker": {
             "colorbar": {
              "outlinewidth": 0,
              "ticks": ""
             }
            },
            "type": "scatterpolargl"
           }
          ],
          "scatterternary": [
           {
            "marker": {
             "colorbar": {
              "outlinewidth": 0,
              "ticks": ""
             }
            },
            "type": "scatterternary"
           }
          ],
          "surface": [
           {
            "colorbar": {
             "outlinewidth": 0,
             "ticks": ""
            },
            "colorscale": [
             [
              0,
              "#0d0887"
             ],
             [
              0.1111111111111111,
              "#46039f"
             ],
             [
              0.2222222222222222,
              "#7201a8"
             ],
             [
              0.3333333333333333,
              "#9c179e"
             ],
             [
              0.4444444444444444,
              "#bd3786"
             ],
             [
              0.5555555555555556,
              "#d8576b"
             ],
             [
              0.6666666666666666,
              "#ed7953"
             ],
             [
              0.7777777777777778,
              "#fb9f3a"
             ],
             [
              0.8888888888888888,
              "#fdca26"
             ],
             [
              1,
              "#f0f921"
             ]
            ],
            "type": "surface"
           }
          ],
          "table": [
           {
            "cells": {
             "fill": {
              "color": "#EBF0F8"
             },
             "line": {
              "color": "white"
             }
            },
            "header": {
             "fill": {
              "color": "#C8D4E3"
             },
             "line": {
              "color": "white"
             }
            },
            "type": "table"
           }
          ]
         },
         "layout": {
          "annotationdefaults": {
           "arrowcolor": "#2a3f5f",
           "arrowhead": 0,
           "arrowwidth": 1
          },
          "autotypenumbers": "strict",
          "coloraxis": {
           "colorbar": {
            "outlinewidth": 0,
            "ticks": ""
           }
          },
          "colorscale": {
           "diverging": [
            [
             0,
             "#8e0152"
            ],
            [
             0.1,
             "#c51b7d"
            ],
            [
             0.2,
             "#de77ae"
            ],
            [
             0.3,
             "#f1b6da"
            ],
            [
             0.4,
             "#fde0ef"
            ],
            [
             0.5,
             "#f7f7f7"
            ],
            [
             0.6,
             "#e6f5d0"
            ],
            [
             0.7,
             "#b8e186"
            ],
            [
             0.8,
             "#7fbc41"
            ],
            [
             0.9,
             "#4d9221"
            ],
            [
             1,
             "#276419"
            ]
           ],
           "sequential": [
            [
             0,
             "#0d0887"
            ],
            [
             0.1111111111111111,
             "#46039f"
            ],
            [
             0.2222222222222222,
             "#7201a8"
            ],
            [
             0.3333333333333333,
             "#9c179e"
            ],
            [
             0.4444444444444444,
             "#bd3786"
            ],
            [
             0.5555555555555556,
             "#d8576b"
            ],
            [
             0.6666666666666666,
             "#ed7953"
            ],
            [
             0.7777777777777778,
             "#fb9f3a"
            ],
            [
             0.8888888888888888,
             "#fdca26"
            ],
            [
             1,
             "#f0f921"
            ]
           ],
           "sequentialminus": [
            [
             0,
             "#0d0887"
            ],
            [
             0.1111111111111111,
             "#46039f"
            ],
            [
             0.2222222222222222,
             "#7201a8"
            ],
            [
             0.3333333333333333,
             "#9c179e"
            ],
            [
             0.4444444444444444,
             "#bd3786"
            ],
            [
             0.5555555555555556,
             "#d8576b"
            ],
            [
             0.6666666666666666,
             "#ed7953"
            ],
            [
             0.7777777777777778,
             "#fb9f3a"
            ],
            [
             0.8888888888888888,
             "#fdca26"
            ],
            [
             1,
             "#f0f921"
            ]
           ]
          },
          "colorway": [
           "#636efa",
           "#EF553B",
           "#00cc96",
           "#ab63fa",
           "#FFA15A",
           "#19d3f3",
           "#FF6692",
           "#B6E880",
           "#FF97FF",
           "#FECB52"
          ],
          "font": {
           "color": "#2a3f5f"
          },
          "geo": {
           "bgcolor": "white",
           "lakecolor": "white",
           "landcolor": "#E5ECF6",
           "showlakes": true,
           "showland": true,
           "subunitcolor": "white"
          },
          "hoverlabel": {
           "align": "left"
          },
          "hovermode": "closest",
          "mapbox": {
           "style": "light"
          },
          "paper_bgcolor": "white",
          "plot_bgcolor": "#E5ECF6",
          "polar": {
           "angularaxis": {
            "gridcolor": "white",
            "linecolor": "white",
            "ticks": ""
           },
           "bgcolor": "#E5ECF6",
           "radialaxis": {
            "gridcolor": "white",
            "linecolor": "white",
            "ticks": ""
           }
          },
          "scene": {
           "xaxis": {
            "backgroundcolor": "#E5ECF6",
            "gridcolor": "white",
            "gridwidth": 2,
            "linecolor": "white",
            "showbackground": true,
            "ticks": "",
            "zerolinecolor": "white"
           },
           "yaxis": {
            "backgroundcolor": "#E5ECF6",
            "gridcolor": "white",
            "gridwidth": 2,
            "linecolor": "white",
            "showbackground": true,
            "ticks": "",
            "zerolinecolor": "white"
           },
           "zaxis": {
            "backgroundcolor": "#E5ECF6",
            "gridcolor": "white",
            "gridwidth": 2,
            "linecolor": "white",
            "showbackground": true,
            "ticks": "",
            "zerolinecolor": "white"
           }
          },
          "shapedefaults": {
           "line": {
            "color": "#2a3f5f"
           }
          },
          "ternary": {
           "aaxis": {
            "gridcolor": "white",
            "linecolor": "white",
            "ticks": ""
           },
           "baxis": {
            "gridcolor": "white",
            "linecolor": "white",
            "ticks": ""
           },
           "bgcolor": "#E5ECF6",
           "caxis": {
            "gridcolor": "white",
            "linecolor": "white",
            "ticks": ""
           }
          },
          "title": {
           "x": 0.05
          },
          "xaxis": {
           "automargin": true,
           "gridcolor": "white",
           "linecolor": "white",
           "ticks": "",
           "title": {
            "standoff": 15
           },
           "zerolinecolor": "white",
           "zerolinewidth": 2
          },
          "yaxis": {
           "automargin": true,
           "gridcolor": "white",
           "linecolor": "white",
           "ticks": "",
           "title": {
            "standoff": 15
           },
           "zerolinecolor": "white",
           "zerolinewidth": 2
          }
         }
        }
       }
      }
     },
     "metadata": {},
     "output_type": "display_data"
    }
   ],
   "source": [
    "# Display the top artists DataFrame\n",
    "fig = px.treemap(top_artists.groupby('Time_Range').head(10), path=[px.Constant('My Top Artists'),'Time_Range', 'Artist'])\n",
    "fig.update_traces(insidetextfont=dict(size=14),\n",
    "                  textposition='middle center')\n",
    "fig.update_layout(colorway=['#f6b520', '#f0cc80', '#0c8c4c', '#3f8c44', '#eae9e5', '#424236'],\n",
    "                  margin=dict(t=0, l=0, r=0, b=0))\n",
    "fig.show()\n",
    "fig.write_image('figures/MyTopArtists.png', engine='kaleido', scale=5)\n"
   ]
  },
  {
   "cell_type": "code",
   "execution_count": 12,
   "metadata": {},
   "outputs": [],
   "source": [
    "# We can also get the top genres\n",
    "Genres = top_artists['Genres'].explode().value_counts().to_frame().reset_index()\n",
    "Genres.columns = ['Genres', 'Count']\n",
    "Genres['Percentage'] = Genres['Count'] / Genres['Count'].sum() * 100"
   ]
  },
  {
   "cell_type": "code",
   "execution_count": 17,
   "metadata": {},
   "outputs": [
    {
     "data": {
      "application/vnd.plotly.v1+json": {
       "config": {
        "plotlyServerURL": "https://plot.ly"
       },
       "data": [
        {
         "branchvalues": "total",
         "customdata": [
          [
           0.49382716049382713
          ],
          [
           1.728395061728395
          ],
          [
           0.24691358024691357
          ],
          [
           1.2345679012345678
          ],
          [
           0.24691358024691357
          ],
          [
           0.49382716049382713
          ],
          [
           3.45679012345679
          ],
          [
           0.7407407407407408
          ],
          [
           0.7407407407407408
          ],
          [
           0.7407407407407408
          ],
          [
           0.24691358024691357
          ],
          [
           0.24691358024691357
          ],
          [
           0.49382716049382713
          ],
          [
           0.24691358024691357
          ],
          [
           0.24691358024691357
          ],
          [
           0.49382716049382713
          ],
          [
           0.49382716049382713
          ],
          [
           0.24691358024691357
          ],
          [
           0.7407407407407408
          ],
          [
           0.24691358024691357
          ],
          [
           1.728395061728395
          ],
          [
           0.9876543209876543
          ],
          [
           0.24691358024691357
          ],
          [
           0.49382716049382713
          ],
          [
           2.2222222222222223
          ],
          [
           2.4691358024691357
          ],
          [
           0.49382716049382713
          ],
          [
           0.7407407407407408
          ],
          [
           0.24691358024691357
          ],
          [
           0.9876543209876543
          ],
          [
           0.7407407407407408
          ],
          [
           0.7407407407407408
          ],
          [
           0.49382716049382713
          ],
          [
           0.49382716049382713
          ],
          [
           0.49382716049382713
          ],
          [
           0.7407407407407408
          ],
          [
           1.9753086419753085
          ],
          [
           0.49382716049382713
          ],
          [
           1.2345679012345678
          ],
          [
           0.49382716049382713
          ],
          [
           0.24691358024691357
          ],
          [
           0.9876543209876543
          ],
          [
           2.2222222222222223
          ],
          [
           0.24691358024691357
          ],
          [
           0.7407407407407408
          ],
          [
           1.4814814814814816
          ],
          [
           0.24691358024691357
          ],
          [
           0.24691358024691357
          ],
          [
           0.7407407407407408
          ],
          [
           0.9876543209876543
          ],
          [
           0.49382716049382713
          ],
          [
           0.49382716049382713
          ],
          [
           0.7407407407407408
          ],
          [
           2.2222222222222223
          ],
          [
           0.7407407407407408
          ],
          [
           0.24691358024691357
          ],
          [
           0.49382716049382713
          ],
          [
           0.24691358024691357
          ],
          [
           1.9753086419753085
          ],
          [
           0.24691358024691357
          ],
          [
           0.24691358024691357
          ],
          [
           1.4814814814814816
          ],
          [
           0.49382716049382713
          ],
          [
           1.728395061728395
          ],
          [
           1.728395061728395
          ],
          [
           1.2345679012345678
          ],
          [
           0.24691358024691357
          ],
          [
           1.4814814814814816
          ],
          [
           0.49382716049382713
          ],
          [
           0.24691358024691357
          ],
          [
           1.2345679012345678
          ],
          [
           0.7407407407407408
          ],
          [
           0.49382716049382713
          ],
          [
           0.24691358024691357
          ],
          [
           0.49382716049382713
          ],
          [
           0.7407407407407408
          ],
          [
           1.4814814814814816
          ],
          [
           0.49382716049382713
          ],
          [
           0.24691358024691357
          ],
          [
           0.7407407407407408
          ],
          [
           0.7407407407407408
          ],
          [
           0.24691358024691357
          ],
          [
           0.7407407407407408
          ],
          [
           3.950617283950617
          ],
          [
           0.24691358024691357
          ],
          [
           0.24691358024691357
          ],
          [
           0.24691358024691357
          ],
          [
           0.24691358024691357
          ],
          [
           0.24691358024691357
          ],
          [
           0.24691358024691357
          ],
          [
           0.24691358024691357
          ],
          [
           0.49382716049382713
          ],
          [
           3.950617283950617
          ],
          [
           0.7407407407407408
          ],
          [
           1.2345679012345678
          ],
          [
           0.24691358024691357
          ],
          [
           2.4691358024691357
          ],
          [
           0.24691358024691357
          ],
          [
           0.24691358024691357
          ],
          [
           0.7407407407407408
          ],
          [
           2.2222222222222223
          ],
          [
           0.49382716049382713
          ],
          [
           0.24691358024691357
          ],
          [
           0.24691358024691357
          ],
          [
           0.9876543209876543
          ],
          [
           0.9876543209876543
          ],
          [
           0.24691358024691357
          ],
          [
           0.49382716049382713
          ],
          [
           4.938271604938271
          ],
          [
           0.7407407407407408
          ],
          [
           0.24691358024691357
          ],
          [
           4.938271604938271
          ],
          [
           0.49382716049382713
          ],
          [
           0.24691358024691357
          ],
          [
           1.8503276939490931
          ]
         ],
         "domain": {
          "x": [
           0,
           1
          ],
          "y": [
           0,
           1
          ]
         },
         "hovertemplate": "labels=%{label}<br>Count=%{value}<br>parent=%{parent}<br>id=%{id}<br>%=%{color}<extra></extra>",
         "ids": [
          "My Top Genres/afrofuturism",
          "My Top Genres/alternative r&b",
          "My Top Genres/ambient lo-fi",
          "My Top Genres/anime",
          "My Top Genres/anime piano",
          "My Top Genres/anime rock",
          "My Top Genres/anime score",
          "My Top Genres/argentine hip hop",
          "My Top Genres/bolero",
          "My Top Genres/bolero mexicano",
          "My Top Genres/boom bap brasileiro",
          "My Top Genres/bossa nova",
          "My Top Genres/boy band",
          "My Top Genres/brazilian hip hop",
          "My Top Genres/brazilian jazz",
          "My Top Genres/british soundtrack",
          "My Top Genres/canadian contemporary r&b",
          "My Top Genres/cantautor",
          "My Top Genres/chicago rap",
          "My Top Genres/city pop",
          "My Top Genres/cloud rap francais",
          "My Top Genres/colombian pop",
          "My Top Genres/compositional ambient",
          "My Top Genres/conscious hip hop",
          "My Top Genres/corrido",
          "My Top Genres/corridos tumbados",
          "My Top Genres/emo",
          "My Top Genres/escape room",
          "My Top Genres/experimental r&b",
          "My Top Genres/french hip hop",
          "My Top Genres/french pop",
          "My Top Genres/garage rock",
          "My Top Genres/german indie",
          "My Top Genres/german pop",
          "My Top Genres/german rock",
          "My Top Genres/guadalajara indie",
          "My Top Genres/hip hop",
          "My Top Genres/indie r&b",
          "My Top Genres/indie rock mexicano",
          "My Top Genres/j-ambient",
          "My Top Genres/j-pixie",
          "My Top Genres/j-pop",
          "My Top Genres/j-rock",
          "My Top Genres/japanese alternative pop",
          "My Top Genres/japanese alternative rock",
          "My Top Genres/japanese classical",
          "My Top Genres/japanese contemporary classical",
          "My Top Genres/japanese indie folk",
          "My Top Genres/japanese indie pop",
          "My Top Genres/japanese piano",
          "My Top Genres/japanese r&b",
          "My Top Genres/japanese shoegaze",
          "My Top Genres/japanese soul",
          "My Top Genres/japanese soundtrack",
          "My Top Genres/japanese vgm",
          "My Top Genres/jazz mexicano",
          "My Top Genres/k-indie",
          "My Top Genres/latin afrobeat",
          "My Top Genres/latin alternative",
          "My Top Genres/latin arena pop",
          "My Top Genres/latin hip hop",
          "My Top Genres/latin rock",
          "My Top Genres/mariachi",
          "My Top Genres/mexican indie",
          "My Top Genres/mexican rock",
          "My Top Genres/modern rock",
          "My Top Genres/mpb",
          "My Top Genres/musica mexicana",
          "My Top Genres/nova mpb",
          "My Top Genres/nova musica maranhense",
          "My Top Genres/orchestral soundtrack",
          "My Top Genres/permanent wave",
          "My Top Genres/peruvian rock",
          "My Top Genres/pop",
          "My Top Genres/pop punk",
          "My Top Genres/pop rap",
          "My Top Genres/pop reggaeton",
          "My Top Genres/pop venezolano",
          "My Top Genres/post-teen pop",
          "My Top Genres/pov: indie",
          "My Top Genres/puerto rican pop",
          "My Top Genres/puerto rican rock",
          "My Top Genres/ranchera",
          "My Top Genres/rap",
          "My Top Genres/rap calme",
          "My Top Genres/rap conciencia",
          "My Top Genres/rap conscient",
          "My Top Genres/rap latina",
          "My Top Genres/rap liegeois",
          "My Top Genres/rap mineiro",
          "My Top Genres/rap politico",
          "My Top Genres/reggae peruano",
          "My Top Genres/reggaeton",
          "My Top Genres/reggaeton colombiano",
          "My Top Genres/rock",
          "My Top Genres/rock en espanol",
          "My Top Genres/sad sierreno",
          "My Top Genres/samba",
          "My Top Genres/scandinavian r&b",
          "My Top Genres/sheffield indie",
          "My Top Genres/sierreno",
          "My Top Genres/soundtrack",
          "My Top Genres/spanish hip hop",
          "My Top Genres/spanish indie pop",
          "My Top Genres/spanish pop",
          "My Top Genres/spanish rock",
          "My Top Genres/swedish soul",
          "My Top Genres/trap argentino",
          "My Top Genres/trap latino",
          "My Top Genres/trap queen",
          "My Top Genres/urbano espanol",
          "My Top Genres/urbano latino",
          "My Top Genres/west coast rap",
          "My Top Genres/yaoi",
          "My Top Genres"
         ],
         "insidetextfont": {
          "size": 14
         },
         "labels": [
          "afrofuturism",
          "alternative r&b",
          "ambient lo-fi",
          "anime",
          "anime piano",
          "anime rock",
          "anime score",
          "argentine hip hop",
          "bolero",
          "bolero mexicano",
          "boom bap brasileiro",
          "bossa nova",
          "boy band",
          "brazilian hip hop",
          "brazilian jazz",
          "british soundtrack",
          "canadian contemporary r&b",
          "cantautor",
          "chicago rap",
          "city pop",
          "cloud rap francais",
          "colombian pop",
          "compositional ambient",
          "conscious hip hop",
          "corrido",
          "corridos tumbados",
          "emo",
          "escape room",
          "experimental r&b",
          "french hip hop",
          "french pop",
          "garage rock",
          "german indie",
          "german pop",
          "german rock",
          "guadalajara indie",
          "hip hop",
          "indie r&b",
          "indie rock mexicano",
          "j-ambient",
          "j-pixie",
          "j-pop",
          "j-rock",
          "japanese alternative pop",
          "japanese alternative rock",
          "japanese classical",
          "japanese contemporary classical",
          "japanese indie folk",
          "japanese indie pop",
          "japanese piano",
          "japanese r&b",
          "japanese shoegaze",
          "japanese soul",
          "japanese soundtrack",
          "japanese vgm",
          "jazz mexicano",
          "k-indie",
          "latin afrobeat",
          "latin alternative",
          "latin arena pop",
          "latin hip hop",
          "latin rock",
          "mariachi",
          "mexican indie",
          "mexican rock",
          "modern rock",
          "mpb",
          "musica mexicana",
          "nova mpb",
          "nova musica maranhense",
          "orchestral soundtrack",
          "permanent wave",
          "peruvian rock",
          "pop",
          "pop punk",
          "pop rap",
          "pop reggaeton",
          "pop venezolano",
          "post-teen pop",
          "pov: indie",
          "puerto rican pop",
          "puerto rican rock",
          "ranchera",
          "rap",
          "rap calme",
          "rap conciencia",
          "rap conscient",
          "rap latina",
          "rap liegeois",
          "rap mineiro",
          "rap politico",
          "reggae peruano",
          "reggaeton",
          "reggaeton colombiano",
          "rock",
          "rock en espanol",
          "sad sierreno",
          "samba",
          "scandinavian r&b",
          "sheffield indie",
          "sierreno",
          "soundtrack",
          "spanish hip hop",
          "spanish indie pop",
          "spanish pop",
          "spanish rock",
          "swedish soul",
          "trap argentino",
          "trap latino",
          "trap queen",
          "urbano espanol",
          "urbano latino",
          "west coast rap",
          "yaoi",
          "My Top Genres"
         ],
         "marker": {
          "coloraxis": "coloraxis",
          "colors": [
           0.49382716049382713,
           1.728395061728395,
           0.24691358024691357,
           1.2345679012345678,
           0.24691358024691357,
           0.49382716049382713,
           3.45679012345679,
           0.7407407407407408,
           0.7407407407407408,
           0.7407407407407408,
           0.24691358024691357,
           0.24691358024691357,
           0.49382716049382713,
           0.24691358024691357,
           0.24691358024691357,
           0.49382716049382713,
           0.49382716049382713,
           0.24691358024691357,
           0.7407407407407408,
           0.24691358024691357,
           1.728395061728395,
           0.9876543209876543,
           0.24691358024691357,
           0.49382716049382713,
           2.2222222222222223,
           2.4691358024691357,
           0.49382716049382713,
           0.7407407407407408,
           0.24691358024691357,
           0.9876543209876543,
           0.7407407407407408,
           0.7407407407407408,
           0.49382716049382713,
           0.49382716049382713,
           0.49382716049382713,
           0.7407407407407408,
           1.9753086419753085,
           0.49382716049382713,
           1.2345679012345678,
           0.49382716049382713,
           0.24691358024691357,
           0.9876543209876543,
           2.2222222222222223,
           0.24691358024691357,
           0.7407407407407408,
           1.4814814814814816,
           0.24691358024691357,
           0.24691358024691357,
           0.7407407407407408,
           0.9876543209876543,
           0.49382716049382713,
           0.49382716049382713,
           0.7407407407407408,
           2.2222222222222223,
           0.7407407407407408,
           0.24691358024691357,
           0.49382716049382713,
           0.24691358024691357,
           1.9753086419753085,
           0.24691358024691357,
           0.24691358024691357,
           1.4814814814814816,
           0.49382716049382713,
           1.728395061728395,
           1.728395061728395,
           1.2345679012345678,
           0.24691358024691357,
           1.4814814814814816,
           0.49382716049382713,
           0.24691358024691357,
           1.2345679012345678,
           0.7407407407407408,
           0.49382716049382713,
           0.24691358024691357,
           0.49382716049382713,
           0.7407407407407408,
           1.4814814814814816,
           0.49382716049382713,
           0.24691358024691357,
           0.7407407407407408,
           0.7407407407407408,
           0.24691358024691357,
           0.7407407407407408,
           3.950617283950617,
           0.24691358024691357,
           0.24691358024691357,
           0.24691358024691357,
           0.24691358024691357,
           0.24691358024691357,
           0.24691358024691357,
           0.24691358024691357,
           0.49382716049382713,
           3.950617283950617,
           0.7407407407407408,
           1.2345679012345678,
           0.24691358024691357,
           2.4691358024691357,
           0.24691358024691357,
           0.24691358024691357,
           0.7407407407407408,
           2.2222222222222223,
           0.49382716049382713,
           0.24691358024691357,
           0.24691358024691357,
           0.9876543209876543,
           0.9876543209876543,
           0.24691358024691357,
           0.49382716049382713,
           4.938271604938271,
           0.7407407407407408,
           0.24691358024691357,
           4.938271604938271,
           0.49382716049382713,
           0.24691358024691357,
           1.8503276939490931
          ]
         },
         "name": "",
         "parents": [
          "My Top Genres",
          "My Top Genres",
          "My Top Genres",
          "My Top Genres",
          "My Top Genres",
          "My Top Genres",
          "My Top Genres",
          "My Top Genres",
          "My Top Genres",
          "My Top Genres",
          "My Top Genres",
          "My Top Genres",
          "My Top Genres",
          "My Top Genres",
          "My Top Genres",
          "My Top Genres",
          "My Top Genres",
          "My Top Genres",
          "My Top Genres",
          "My Top Genres",
          "My Top Genres",
          "My Top Genres",
          "My Top Genres",
          "My Top Genres",
          "My Top Genres",
          "My Top Genres",
          "My Top Genres",
          "My Top Genres",
          "My Top Genres",
          "My Top Genres",
          "My Top Genres",
          "My Top Genres",
          "My Top Genres",
          "My Top Genres",
          "My Top Genres",
          "My Top Genres",
          "My Top Genres",
          "My Top Genres",
          "My Top Genres",
          "My Top Genres",
          "My Top Genres",
          "My Top Genres",
          "My Top Genres",
          "My Top Genres",
          "My Top Genres",
          "My Top Genres",
          "My Top Genres",
          "My Top Genres",
          "My Top Genres",
          "My Top Genres",
          "My Top Genres",
          "My Top Genres",
          "My Top Genres",
          "My Top Genres",
          "My Top Genres",
          "My Top Genres",
          "My Top Genres",
          "My Top Genres",
          "My Top Genres",
          "My Top Genres",
          "My Top Genres",
          "My Top Genres",
          "My Top Genres",
          "My Top Genres",
          "My Top Genres",
          "My Top Genres",
          "My Top Genres",
          "My Top Genres",
          "My Top Genres",
          "My Top Genres",
          "My Top Genres",
          "My Top Genres",
          "My Top Genres",
          "My Top Genres",
          "My Top Genres",
          "My Top Genres",
          "My Top Genres",
          "My Top Genres",
          "My Top Genres",
          "My Top Genres",
          "My Top Genres",
          "My Top Genres",
          "My Top Genres",
          "My Top Genres",
          "My Top Genres",
          "My Top Genres",
          "My Top Genres",
          "My Top Genres",
          "My Top Genres",
          "My Top Genres",
          "My Top Genres",
          "My Top Genres",
          "My Top Genres",
          "My Top Genres",
          "My Top Genres",
          "My Top Genres",
          "My Top Genres",
          "My Top Genres",
          "My Top Genres",
          "My Top Genres",
          "My Top Genres",
          "My Top Genres",
          "My Top Genres",
          "My Top Genres",
          "My Top Genres",
          "My Top Genres",
          "My Top Genres",
          "My Top Genres",
          "My Top Genres",
          "My Top Genres",
          "My Top Genres",
          "My Top Genres",
          "My Top Genres",
          "My Top Genres",
          ""
         ],
         "textinfo": "label+percent parent",
         "textposition": "middle center",
         "type": "treemap",
         "values": [
          2,
          7,
          1,
          5,
          1,
          2,
          14,
          3,
          3,
          3,
          1,
          1,
          2,
          1,
          1,
          2,
          2,
          1,
          3,
          1,
          7,
          4,
          1,
          2,
          9,
          10,
          2,
          3,
          1,
          4,
          3,
          3,
          2,
          2,
          2,
          3,
          8,
          2,
          5,
          2,
          1,
          4,
          9,
          1,
          3,
          6,
          1,
          1,
          3,
          4,
          2,
          2,
          3,
          9,
          3,
          1,
          2,
          1,
          8,
          1,
          1,
          6,
          2,
          7,
          7,
          5,
          1,
          6,
          2,
          1,
          5,
          3,
          2,
          1,
          2,
          3,
          6,
          2,
          1,
          3,
          3,
          1,
          3,
          16,
          1,
          1,
          1,
          1,
          1,
          1,
          1,
          2,
          16,
          3,
          5,
          1,
          10,
          1,
          1,
          3,
          9,
          2,
          1,
          1,
          4,
          4,
          1,
          2,
          20,
          3,
          1,
          20,
          2,
          1,
          405
         ]
        }
       ],
       "layout": {
        "coloraxis": {
         "colorbar": {
          "title": {
           "text": "%"
          }
         },
         "colorscale": [
          [
           0,
           "rgb(247,252,245)"
          ],
          [
           0.125,
           "rgb(229,245,224)"
          ],
          [
           0.25,
           "rgb(199,233,192)"
          ],
          [
           0.375,
           "rgb(161,217,155)"
          ],
          [
           0.5,
           "rgb(116,196,118)"
          ],
          [
           0.625,
           "rgb(65,171,93)"
          ],
          [
           0.75,
           "rgb(35,139,69)"
          ],
          [
           0.875,
           "rgb(0,109,44)"
          ],
          [
           1,
           "rgb(0,68,27)"
          ]
         ]
        },
        "legend": {
         "tracegroupgap": 0
        },
        "margin": {
         "b": 0,
         "l": 0,
         "r": 0,
         "t": 0
        },
        "template": {
         "data": {
          "bar": [
           {
            "error_x": {
             "color": "#2a3f5f"
            },
            "error_y": {
             "color": "#2a3f5f"
            },
            "marker": {
             "line": {
              "color": "#E5ECF6",
              "width": 0.5
             },
             "pattern": {
              "fillmode": "overlay",
              "size": 10,
              "solidity": 0.2
             }
            },
            "type": "bar"
           }
          ],
          "barpolar": [
           {
            "marker": {
             "line": {
              "color": "#E5ECF6",
              "width": 0.5
             },
             "pattern": {
              "fillmode": "overlay",
              "size": 10,
              "solidity": 0.2
             }
            },
            "type": "barpolar"
           }
          ],
          "carpet": [
           {
            "aaxis": {
             "endlinecolor": "#2a3f5f",
             "gridcolor": "white",
             "linecolor": "white",
             "minorgridcolor": "white",
             "startlinecolor": "#2a3f5f"
            },
            "baxis": {
             "endlinecolor": "#2a3f5f",
             "gridcolor": "white",
             "linecolor": "white",
             "minorgridcolor": "white",
             "startlinecolor": "#2a3f5f"
            },
            "type": "carpet"
           }
          ],
          "choropleth": [
           {
            "colorbar": {
             "outlinewidth": 0,
             "ticks": ""
            },
            "type": "choropleth"
           }
          ],
          "contour": [
           {
            "colorbar": {
             "outlinewidth": 0,
             "ticks": ""
            },
            "colorscale": [
             [
              0,
              "#0d0887"
             ],
             [
              0.1111111111111111,
              "#46039f"
             ],
             [
              0.2222222222222222,
              "#7201a8"
             ],
             [
              0.3333333333333333,
              "#9c179e"
             ],
             [
              0.4444444444444444,
              "#bd3786"
             ],
             [
              0.5555555555555556,
              "#d8576b"
             ],
             [
              0.6666666666666666,
              "#ed7953"
             ],
             [
              0.7777777777777778,
              "#fb9f3a"
             ],
             [
              0.8888888888888888,
              "#fdca26"
             ],
             [
              1,
              "#f0f921"
             ]
            ],
            "type": "contour"
           }
          ],
          "contourcarpet": [
           {
            "colorbar": {
             "outlinewidth": 0,
             "ticks": ""
            },
            "type": "contourcarpet"
           }
          ],
          "heatmap": [
           {
            "colorbar": {
             "outlinewidth": 0,
             "ticks": ""
            },
            "colorscale": [
             [
              0,
              "#0d0887"
             ],
             [
              0.1111111111111111,
              "#46039f"
             ],
             [
              0.2222222222222222,
              "#7201a8"
             ],
             [
              0.3333333333333333,
              "#9c179e"
             ],
             [
              0.4444444444444444,
              "#bd3786"
             ],
             [
              0.5555555555555556,
              "#d8576b"
             ],
             [
              0.6666666666666666,
              "#ed7953"
             ],
             [
              0.7777777777777778,
              "#fb9f3a"
             ],
             [
              0.8888888888888888,
              "#fdca26"
             ],
             [
              1,
              "#f0f921"
             ]
            ],
            "type": "heatmap"
           }
          ],
          "heatmapgl": [
           {
            "colorbar": {
             "outlinewidth": 0,
             "ticks": ""
            },
            "colorscale": [
             [
              0,
              "#0d0887"
             ],
             [
              0.1111111111111111,
              "#46039f"
             ],
             [
              0.2222222222222222,
              "#7201a8"
             ],
             [
              0.3333333333333333,
              "#9c179e"
             ],
             [
              0.4444444444444444,
              "#bd3786"
             ],
             [
              0.5555555555555556,
              "#d8576b"
             ],
             [
              0.6666666666666666,
              "#ed7953"
             ],
             [
              0.7777777777777778,
              "#fb9f3a"
             ],
             [
              0.8888888888888888,
              "#fdca26"
             ],
             [
              1,
              "#f0f921"
             ]
            ],
            "type": "heatmapgl"
           }
          ],
          "histogram": [
           {
            "marker": {
             "pattern": {
              "fillmode": "overlay",
              "size": 10,
              "solidity": 0.2
             }
            },
            "type": "histogram"
           }
          ],
          "histogram2d": [
           {
            "colorbar": {
             "outlinewidth": 0,
             "ticks": ""
            },
            "colorscale": [
             [
              0,
              "#0d0887"
             ],
             [
              0.1111111111111111,
              "#46039f"
             ],
             [
              0.2222222222222222,
              "#7201a8"
             ],
             [
              0.3333333333333333,
              "#9c179e"
             ],
             [
              0.4444444444444444,
              "#bd3786"
             ],
             [
              0.5555555555555556,
              "#d8576b"
             ],
             [
              0.6666666666666666,
              "#ed7953"
             ],
             [
              0.7777777777777778,
              "#fb9f3a"
             ],
             [
              0.8888888888888888,
              "#fdca26"
             ],
             [
              1,
              "#f0f921"
             ]
            ],
            "type": "histogram2d"
           }
          ],
          "histogram2dcontour": [
           {
            "colorbar": {
             "outlinewidth": 0,
             "ticks": ""
            },
            "colorscale": [
             [
              0,
              "#0d0887"
             ],
             [
              0.1111111111111111,
              "#46039f"
             ],
             [
              0.2222222222222222,
              "#7201a8"
             ],
             [
              0.3333333333333333,
              "#9c179e"
             ],
             [
              0.4444444444444444,
              "#bd3786"
             ],
             [
              0.5555555555555556,
              "#d8576b"
             ],
             [
              0.6666666666666666,
              "#ed7953"
             ],
             [
              0.7777777777777778,
              "#fb9f3a"
             ],
             [
              0.8888888888888888,
              "#fdca26"
             ],
             [
              1,
              "#f0f921"
             ]
            ],
            "type": "histogram2dcontour"
           }
          ],
          "mesh3d": [
           {
            "colorbar": {
             "outlinewidth": 0,
             "ticks": ""
            },
            "type": "mesh3d"
           }
          ],
          "parcoords": [
           {
            "line": {
             "colorbar": {
              "outlinewidth": 0,
              "ticks": ""
             }
            },
            "type": "parcoords"
           }
          ],
          "pie": [
           {
            "automargin": true,
            "type": "pie"
           }
          ],
          "scatter": [
           {
            "fillpattern": {
             "fillmode": "overlay",
             "size": 10,
             "solidity": 0.2
            },
            "type": "scatter"
           }
          ],
          "scatter3d": [
           {
            "line": {
             "colorbar": {
              "outlinewidth": 0,
              "ticks": ""
             }
            },
            "marker": {
             "colorbar": {
              "outlinewidth": 0,
              "ticks": ""
             }
            },
            "type": "scatter3d"
           }
          ],
          "scattercarpet": [
           {
            "marker": {
             "colorbar": {
              "outlinewidth": 0,
              "ticks": ""
             }
            },
            "type": "scattercarpet"
           }
          ],
          "scattergeo": [
           {
            "marker": {
             "colorbar": {
              "outlinewidth": 0,
              "ticks": ""
             }
            },
            "type": "scattergeo"
           }
          ],
          "scattergl": [
           {
            "marker": {
             "colorbar": {
              "outlinewidth": 0,
              "ticks": ""
             }
            },
            "type": "scattergl"
           }
          ],
          "scattermapbox": [
           {
            "marker": {
             "colorbar": {
              "outlinewidth": 0,
              "ticks": ""
             }
            },
            "type": "scattermapbox"
           }
          ],
          "scatterpolar": [
           {
            "marker": {
             "colorbar": {
              "outlinewidth": 0,
              "ticks": ""
             }
            },
            "type": "scatterpolar"
           }
          ],
          "scatterpolargl": [
           {
            "marker": {
             "colorbar": {
              "outlinewidth": 0,
              "ticks": ""
             }
            },
            "type": "scatterpolargl"
           }
          ],
          "scatterternary": [
           {
            "marker": {
             "colorbar": {
              "outlinewidth": 0,
              "ticks": ""
             }
            },
            "type": "scatterternary"
           }
          ],
          "surface": [
           {
            "colorbar": {
             "outlinewidth": 0,
             "ticks": ""
            },
            "colorscale": [
             [
              0,
              "#0d0887"
             ],
             [
              0.1111111111111111,
              "#46039f"
             ],
             [
              0.2222222222222222,
              "#7201a8"
             ],
             [
              0.3333333333333333,
              "#9c179e"
             ],
             [
              0.4444444444444444,
              "#bd3786"
             ],
             [
              0.5555555555555556,
              "#d8576b"
             ],
             [
              0.6666666666666666,
              "#ed7953"
             ],
             [
              0.7777777777777778,
              "#fb9f3a"
             ],
             [
              0.8888888888888888,
              "#fdca26"
             ],
             [
              1,
              "#f0f921"
             ]
            ],
            "type": "surface"
           }
          ],
          "table": [
           {
            "cells": {
             "fill": {
              "color": "#EBF0F8"
             },
             "line": {
              "color": "white"
             }
            },
            "header": {
             "fill": {
              "color": "#C8D4E3"
             },
             "line": {
              "color": "white"
             }
            },
            "type": "table"
           }
          ]
         },
         "layout": {
          "annotationdefaults": {
           "arrowcolor": "#2a3f5f",
           "arrowhead": 0,
           "arrowwidth": 1
          },
          "autotypenumbers": "strict",
          "coloraxis": {
           "colorbar": {
            "outlinewidth": 0,
            "ticks": ""
           }
          },
          "colorscale": {
           "diverging": [
            [
             0,
             "#8e0152"
            ],
            [
             0.1,
             "#c51b7d"
            ],
            [
             0.2,
             "#de77ae"
            ],
            [
             0.3,
             "#f1b6da"
            ],
            [
             0.4,
             "#fde0ef"
            ],
            [
             0.5,
             "#f7f7f7"
            ],
            [
             0.6,
             "#e6f5d0"
            ],
            [
             0.7,
             "#b8e186"
            ],
            [
             0.8,
             "#7fbc41"
            ],
            [
             0.9,
             "#4d9221"
            ],
            [
             1,
             "#276419"
            ]
           ],
           "sequential": [
            [
             0,
             "#0d0887"
            ],
            [
             0.1111111111111111,
             "#46039f"
            ],
            [
             0.2222222222222222,
             "#7201a8"
            ],
            [
             0.3333333333333333,
             "#9c179e"
            ],
            [
             0.4444444444444444,
             "#bd3786"
            ],
            [
             0.5555555555555556,
             "#d8576b"
            ],
            [
             0.6666666666666666,
             "#ed7953"
            ],
            [
             0.7777777777777778,
             "#fb9f3a"
            ],
            [
             0.8888888888888888,
             "#fdca26"
            ],
            [
             1,
             "#f0f921"
            ]
           ],
           "sequentialminus": [
            [
             0,
             "#0d0887"
            ],
            [
             0.1111111111111111,
             "#46039f"
            ],
            [
             0.2222222222222222,
             "#7201a8"
            ],
            [
             0.3333333333333333,
             "#9c179e"
            ],
            [
             0.4444444444444444,
             "#bd3786"
            ],
            [
             0.5555555555555556,
             "#d8576b"
            ],
            [
             0.6666666666666666,
             "#ed7953"
            ],
            [
             0.7777777777777778,
             "#fb9f3a"
            ],
            [
             0.8888888888888888,
             "#fdca26"
            ],
            [
             1,
             "#f0f921"
            ]
           ]
          },
          "colorway": [
           "#636efa",
           "#EF553B",
           "#00cc96",
           "#ab63fa",
           "#FFA15A",
           "#19d3f3",
           "#FF6692",
           "#B6E880",
           "#FF97FF",
           "#FECB52"
          ],
          "font": {
           "color": "#2a3f5f"
          },
          "geo": {
           "bgcolor": "white",
           "lakecolor": "white",
           "landcolor": "#E5ECF6",
           "showlakes": true,
           "showland": true,
           "subunitcolor": "white"
          },
          "hoverlabel": {
           "align": "left"
          },
          "hovermode": "closest",
          "mapbox": {
           "style": "light"
          },
          "paper_bgcolor": "white",
          "plot_bgcolor": "#E5ECF6",
          "polar": {
           "angularaxis": {
            "gridcolor": "white",
            "linecolor": "white",
            "ticks": ""
           },
           "bgcolor": "#E5ECF6",
           "radialaxis": {
            "gridcolor": "white",
            "linecolor": "white",
            "ticks": ""
           }
          },
          "scene": {
           "xaxis": {
            "backgroundcolor": "#E5ECF6",
            "gridcolor": "white",
            "gridwidth": 2,
            "linecolor": "white",
            "showbackground": true,
            "ticks": "",
            "zerolinecolor": "white"
           },
           "yaxis": {
            "backgroundcolor": "#E5ECF6",
            "gridcolor": "white",
            "gridwidth": 2,
            "linecolor": "white",
            "showbackground": true,
            "ticks": "",
            "zerolinecolor": "white"
           },
           "zaxis": {
            "backgroundcolor": "#E5ECF6",
            "gridcolor": "white",
            "gridwidth": 2,
            "linecolor": "white",
            "showbackground": true,
            "ticks": "",
            "zerolinecolor": "white"
           }
          },
          "shapedefaults": {
           "line": {
            "color": "#2a3f5f"
           }
          },
          "ternary": {
           "aaxis": {
            "gridcolor": "white",
            "linecolor": "white",
            "ticks": ""
           },
           "baxis": {
            "gridcolor": "white",
            "linecolor": "white",
            "ticks": ""
           },
           "bgcolor": "#E5ECF6",
           "caxis": {
            "gridcolor": "white",
            "linecolor": "white",
            "ticks": ""
           }
          },
          "title": {
           "x": 0.05
          },
          "xaxis": {
           "automargin": true,
           "gridcolor": "white",
           "linecolor": "white",
           "ticks": "",
           "title": {
            "standoff": 15
           },
           "zerolinecolor": "white",
           "zerolinewidth": 2
          },
          "yaxis": {
           "automargin": true,
           "gridcolor": "white",
           "linecolor": "white",
           "ticks": "",
           "title": {
            "standoff": 15
           },
           "zerolinecolor": "white",
           "zerolinewidth": 2
          }
         }
        }
       }
      }
     },
     "metadata": {},
     "output_type": "display_data"
    }
   ],
   "source": [
    "# Display the top genres DataFrame\n",
    "fig = px.treemap(Genres, path=[px.Constant('My Top Genres'), 'Genres'],\n",
    "                 values='Count',\n",
    "                 color='Percentage',\n",
    "                 color_continuous_scale='greens',\n",
    "                 labels={'Percentage': '%'},\n",
    "                 )\n",
    "fig.update_traces(textinfo='label+percent parent',\n",
    "                  insidetextfont=dict(size=14),\n",
    "                  textposition='middle center')\n",
    "fig.update_layout(margin=dict(t=0, l=0, r=0, b=0))\n",
    "fig.show()\n",
    "fig.write_image('figures/MyTopGenres.png', engine='kaleido', scale=5)"
   ]
  },
  {
   "cell_type": "code",
   "execution_count": 14,
   "metadata": {},
   "outputs": [],
   "source": [
    "# This scope shows you the current user's top tracks\n",
    "scope = 'user-top-read'\n",
    "ranges = ['short_term', 'medium_term', 'long_term']\n",
    "\n",
    "sp = spotify(client_id, client_secret, scope)\n",
    "\n",
    "# Initialize an empty list to store top tracks data\n",
    "top_tracks_data = []\n",
    "\n",
    "# Retrieve and display top tracks for different time ranges\n",
    "for sp_range in ['short_term', 'medium_term', 'long_term']:\n",
    "\n",
    "    # Retrieve top tracks for the specified time range\n",
    "    results = sp.current_user_top_tracks(time_range=sp_range, limit=50)\n",
    "\n",
    "    # Extract and append track information to the list\n",
    "    for i, item in enumerate(results['items']):\n",
    "        track_data = {\n",
    "            'Time Range': sp_range,\n",
    "            'Track': item['name'],\n",
    "            'Artist': item['artists'][0]['name']\n",
    "        }\n",
    "        top_tracks_data.append(track_data)\n",
    "\n",
    "# Create a DataFrame from the list of top tracks data\n",
    "top_tracks = pd.DataFrame(top_tracks_data)\n"
   ]
  },
  {
   "cell_type": "code",
   "execution_count": 15,
   "metadata": {},
   "outputs": [
    {
     "data": {
      "application/vnd.plotly.v1+json": {
       "config": {
        "plotlyServerURL": "https://plot.ly"
       },
       "data": [
        {
         "branchvalues": "total",
         "domain": {
          "x": [
           0,
           1
          ],
          "y": [
           0,
           1
          ]
         },
         "hovertemplate": "labels=%{label}<br>count=%{value}<br>parent=%{parent}<br>id=%{id}<extra></extra>",
         "ids": [
          "My Top Tracks/medium_term/Tainy/11 Y ONCE",
          "My Top Tracks/short_term/Junior H/A TU NOMBRE",
          "My Top Tracks/long_term/Luidji/ALEXIS",
          "My Top Tracks/medium_term/Luidji/ALEXIS",
          "My Top Tracks/long_term/Metro Boomin/Annihilate (Spider-Man: Across the Spider-Verse) (Metro Boomin & Swae Lee, Lil Wayne, Offset)",
          "My Top Tracks/medium_term/Metro Boomin/Annihilate (Spider-Man: Across the Spider-Verse) (Metro Boomin & Swae Lee, Lil Wayne, Offset)",
          "My Top Tracks/short_term/Junior H/EN LA PEDA",
          "My Top Tracks/short_term/Junior H/LOKERON X AMOR",
          "My Top Tracks/long_term/Kaky/La tête pleine",
          "My Top Tracks/medium_term/Mora/MEDIA LUNA",
          "My Top Tracks/short_term/Junior H/MIENTRAS DUERMES",
          "My Top Tracks/short_term/Junior H/MILES DE ROSAS",
          "My Top Tracks/long_term/Tainy/MOJABI GHOST",
          "My Top Tracks/medium_term/Tainy/MOJABI GHOST",
          "My Top Tracks/long_term/Guitarricadelafuente/Mil y una noches",
          "My Top Tracks/long_term/Porter/Murciélago",
          "My Top Tracks/short_term/Junior H/OTRO AMOR",
          "My Top Tracks/short_term/Junior H/PARIS",
          "My Top Tracks/medium_term/Tainy/PASIEMPRE",
          "My Top Tracks/short_term/Junior H/PIÉNSALO",
          "My Top Tracks/short_term/Junior H/ROCKSTAR",
          "My Top Tracks/medium_term/Tainy/Sci-Fi",
          "My Top Tracks/short_term/Junior H/TRES BOTELLAS",
          "My Top Tracks/long_term/Kraftklub/Teil dieser Band",
          "My Top Tracks/medium_term/Tainy/Todavía",
          "My Top Tracks/long_term/Tainy/mañana",
          "My Top Tracks/medium_term/Tainy/mañana",
          "My Top Tracks/long_term/Tainy/obstáculo",
          "My Top Tracks/medium_term/Tainy/obstáculo",
          "My Top Tracks/long_term/indigo la End/想いきり",
          "My Top Tracks/long_term/Guitarricadelafuente",
          "My Top Tracks/short_term/Junior H",
          "My Top Tracks/long_term/Kaky",
          "My Top Tracks/long_term/Kraftklub",
          "My Top Tracks/long_term/Luidji",
          "My Top Tracks/medium_term/Luidji",
          "My Top Tracks/long_term/Metro Boomin",
          "My Top Tracks/medium_term/Metro Boomin",
          "My Top Tracks/medium_term/Mora",
          "My Top Tracks/long_term/Porter",
          "My Top Tracks/long_term/Tainy",
          "My Top Tracks/medium_term/Tainy",
          "My Top Tracks/long_term/indigo la End",
          "My Top Tracks/long_term",
          "My Top Tracks/medium_term",
          "My Top Tracks/short_term",
          "My Top Tracks"
         ],
         "insidetextfont": {
          "size": 14
         },
         "labels": [
          "11 Y ONCE",
          "A TU NOMBRE",
          "ALEXIS",
          "ALEXIS",
          "Annihilate (Spider-Man: Across the Spider-Verse) (Metro Boomin & Swae Lee, Lil Wayne, Offset)",
          "Annihilate (Spider-Man: Across the Spider-Verse) (Metro Boomin & Swae Lee, Lil Wayne, Offset)",
          "EN LA PEDA",
          "LOKERON X AMOR",
          "La tête pleine",
          "MEDIA LUNA",
          "MIENTRAS DUERMES",
          "MILES DE ROSAS",
          "MOJABI GHOST",
          "MOJABI GHOST",
          "Mil y una noches",
          "Murciélago",
          "OTRO AMOR",
          "PARIS",
          "PASIEMPRE",
          "PIÉNSALO",
          "ROCKSTAR",
          "Sci-Fi",
          "TRES BOTELLAS",
          "Teil dieser Band",
          "Todavía",
          "mañana",
          "mañana",
          "obstáculo",
          "obstáculo",
          "想いきり",
          "Guitarricadelafuente",
          "Junior H",
          "Kaky",
          "Kraftklub",
          "Luidji",
          "Luidji",
          "Metro Boomin",
          "Metro Boomin",
          "Mora",
          "Porter",
          "Tainy",
          "Tainy",
          "indigo la End",
          "long_term",
          "medium_term",
          "short_term",
          "My Top Tracks"
         ],
         "name": "",
         "parents": [
          "My Top Tracks/medium_term/Tainy",
          "My Top Tracks/short_term/Junior H",
          "My Top Tracks/long_term/Luidji",
          "My Top Tracks/medium_term/Luidji",
          "My Top Tracks/long_term/Metro Boomin",
          "My Top Tracks/medium_term/Metro Boomin",
          "My Top Tracks/short_term/Junior H",
          "My Top Tracks/short_term/Junior H",
          "My Top Tracks/long_term/Kaky",
          "My Top Tracks/medium_term/Mora",
          "My Top Tracks/short_term/Junior H",
          "My Top Tracks/short_term/Junior H",
          "My Top Tracks/long_term/Tainy",
          "My Top Tracks/medium_term/Tainy",
          "My Top Tracks/long_term/Guitarricadelafuente",
          "My Top Tracks/long_term/Porter",
          "My Top Tracks/short_term/Junior H",
          "My Top Tracks/short_term/Junior H",
          "My Top Tracks/medium_term/Tainy",
          "My Top Tracks/short_term/Junior H",
          "My Top Tracks/short_term/Junior H",
          "My Top Tracks/medium_term/Tainy",
          "My Top Tracks/short_term/Junior H",
          "My Top Tracks/long_term/Kraftklub",
          "My Top Tracks/medium_term/Tainy",
          "My Top Tracks/long_term/Tainy",
          "My Top Tracks/medium_term/Tainy",
          "My Top Tracks/long_term/Tainy",
          "My Top Tracks/medium_term/Tainy",
          "My Top Tracks/long_term/indigo la End",
          "My Top Tracks/long_term",
          "My Top Tracks/short_term",
          "My Top Tracks/long_term",
          "My Top Tracks/long_term",
          "My Top Tracks/long_term",
          "My Top Tracks/medium_term",
          "My Top Tracks/long_term",
          "My Top Tracks/medium_term",
          "My Top Tracks/medium_term",
          "My Top Tracks/long_term",
          "My Top Tracks/long_term",
          "My Top Tracks/medium_term",
          "My Top Tracks/long_term",
          "My Top Tracks",
          "My Top Tracks",
          "My Top Tracks",
          ""
         ],
         "textposition": "middle center",
         "type": "treemap",
         "values": [
          1,
          1,
          1,
          1,
          1,
          1,
          1,
          1,
          1,
          1,
          1,
          1,
          1,
          1,
          1,
          1,
          1,
          1,
          1,
          1,
          1,
          1,
          1,
          1,
          1,
          1,
          1,
          1,
          1,
          1,
          1,
          10,
          1,
          1,
          1,
          1,
          1,
          1,
          1,
          1,
          3,
          7,
          1,
          10,
          10,
          10,
          30
         ]
        }
       ],
       "layout": {
        "colorway": [
         "#f6b520",
         "#f0cc80",
         "#0c8c4c",
         "#3f8c44",
         "#eae9e5",
         "#424236"
        ],
        "legend": {
         "tracegroupgap": 0
        },
        "margin": {
         "b": 0,
         "l": 0,
         "r": 0,
         "t": 0
        },
        "template": {
         "data": {
          "bar": [
           {
            "error_x": {
             "color": "#2a3f5f"
            },
            "error_y": {
             "color": "#2a3f5f"
            },
            "marker": {
             "line": {
              "color": "#E5ECF6",
              "width": 0.5
             },
             "pattern": {
              "fillmode": "overlay",
              "size": 10,
              "solidity": 0.2
             }
            },
            "type": "bar"
           }
          ],
          "barpolar": [
           {
            "marker": {
             "line": {
              "color": "#E5ECF6",
              "width": 0.5
             },
             "pattern": {
              "fillmode": "overlay",
              "size": 10,
              "solidity": 0.2
             }
            },
            "type": "barpolar"
           }
          ],
          "carpet": [
           {
            "aaxis": {
             "endlinecolor": "#2a3f5f",
             "gridcolor": "white",
             "linecolor": "white",
             "minorgridcolor": "white",
             "startlinecolor": "#2a3f5f"
            },
            "baxis": {
             "endlinecolor": "#2a3f5f",
             "gridcolor": "white",
             "linecolor": "white",
             "minorgridcolor": "white",
             "startlinecolor": "#2a3f5f"
            },
            "type": "carpet"
           }
          ],
          "choropleth": [
           {
            "colorbar": {
             "outlinewidth": 0,
             "ticks": ""
            },
            "type": "choropleth"
           }
          ],
          "contour": [
           {
            "colorbar": {
             "outlinewidth": 0,
             "ticks": ""
            },
            "colorscale": [
             [
              0,
              "#0d0887"
             ],
             [
              0.1111111111111111,
              "#46039f"
             ],
             [
              0.2222222222222222,
              "#7201a8"
             ],
             [
              0.3333333333333333,
              "#9c179e"
             ],
             [
              0.4444444444444444,
              "#bd3786"
             ],
             [
              0.5555555555555556,
              "#d8576b"
             ],
             [
              0.6666666666666666,
              "#ed7953"
             ],
             [
              0.7777777777777778,
              "#fb9f3a"
             ],
             [
              0.8888888888888888,
              "#fdca26"
             ],
             [
              1,
              "#f0f921"
             ]
            ],
            "type": "contour"
           }
          ],
          "contourcarpet": [
           {
            "colorbar": {
             "outlinewidth": 0,
             "ticks": ""
            },
            "type": "contourcarpet"
           }
          ],
          "heatmap": [
           {
            "colorbar": {
             "outlinewidth": 0,
             "ticks": ""
            },
            "colorscale": [
             [
              0,
              "#0d0887"
             ],
             [
              0.1111111111111111,
              "#46039f"
             ],
             [
              0.2222222222222222,
              "#7201a8"
             ],
             [
              0.3333333333333333,
              "#9c179e"
             ],
             [
              0.4444444444444444,
              "#bd3786"
             ],
             [
              0.5555555555555556,
              "#d8576b"
             ],
             [
              0.6666666666666666,
              "#ed7953"
             ],
             [
              0.7777777777777778,
              "#fb9f3a"
             ],
             [
              0.8888888888888888,
              "#fdca26"
             ],
             [
              1,
              "#f0f921"
             ]
            ],
            "type": "heatmap"
           }
          ],
          "heatmapgl": [
           {
            "colorbar": {
             "outlinewidth": 0,
             "ticks": ""
            },
            "colorscale": [
             [
              0,
              "#0d0887"
             ],
             [
              0.1111111111111111,
              "#46039f"
             ],
             [
              0.2222222222222222,
              "#7201a8"
             ],
             [
              0.3333333333333333,
              "#9c179e"
             ],
             [
              0.4444444444444444,
              "#bd3786"
             ],
             [
              0.5555555555555556,
              "#d8576b"
             ],
             [
              0.6666666666666666,
              "#ed7953"
             ],
             [
              0.7777777777777778,
              "#fb9f3a"
             ],
             [
              0.8888888888888888,
              "#fdca26"
             ],
             [
              1,
              "#f0f921"
             ]
            ],
            "type": "heatmapgl"
           }
          ],
          "histogram": [
           {
            "marker": {
             "pattern": {
              "fillmode": "overlay",
              "size": 10,
              "solidity": 0.2
             }
            },
            "type": "histogram"
           }
          ],
          "histogram2d": [
           {
            "colorbar": {
             "outlinewidth": 0,
             "ticks": ""
            },
            "colorscale": [
             [
              0,
              "#0d0887"
             ],
             [
              0.1111111111111111,
              "#46039f"
             ],
             [
              0.2222222222222222,
              "#7201a8"
             ],
             [
              0.3333333333333333,
              "#9c179e"
             ],
             [
              0.4444444444444444,
              "#bd3786"
             ],
             [
              0.5555555555555556,
              "#d8576b"
             ],
             [
              0.6666666666666666,
              "#ed7953"
             ],
             [
              0.7777777777777778,
              "#fb9f3a"
             ],
             [
              0.8888888888888888,
              "#fdca26"
             ],
             [
              1,
              "#f0f921"
             ]
            ],
            "type": "histogram2d"
           }
          ],
          "histogram2dcontour": [
           {
            "colorbar": {
             "outlinewidth": 0,
             "ticks": ""
            },
            "colorscale": [
             [
              0,
              "#0d0887"
             ],
             [
              0.1111111111111111,
              "#46039f"
             ],
             [
              0.2222222222222222,
              "#7201a8"
             ],
             [
              0.3333333333333333,
              "#9c179e"
             ],
             [
              0.4444444444444444,
              "#bd3786"
             ],
             [
              0.5555555555555556,
              "#d8576b"
             ],
             [
              0.6666666666666666,
              "#ed7953"
             ],
             [
              0.7777777777777778,
              "#fb9f3a"
             ],
             [
              0.8888888888888888,
              "#fdca26"
             ],
             [
              1,
              "#f0f921"
             ]
            ],
            "type": "histogram2dcontour"
           }
          ],
          "mesh3d": [
           {
            "colorbar": {
             "outlinewidth": 0,
             "ticks": ""
            },
            "type": "mesh3d"
           }
          ],
          "parcoords": [
           {
            "line": {
             "colorbar": {
              "outlinewidth": 0,
              "ticks": ""
             }
            },
            "type": "parcoords"
           }
          ],
          "pie": [
           {
            "automargin": true,
            "type": "pie"
           }
          ],
          "scatter": [
           {
            "fillpattern": {
             "fillmode": "overlay",
             "size": 10,
             "solidity": 0.2
            },
            "type": "scatter"
           }
          ],
          "scatter3d": [
           {
            "line": {
             "colorbar": {
              "outlinewidth": 0,
              "ticks": ""
             }
            },
            "marker": {
             "colorbar": {
              "outlinewidth": 0,
              "ticks": ""
             }
            },
            "type": "scatter3d"
           }
          ],
          "scattercarpet": [
           {
            "marker": {
             "colorbar": {
              "outlinewidth": 0,
              "ticks": ""
             }
            },
            "type": "scattercarpet"
           }
          ],
          "scattergeo": [
           {
            "marker": {
             "colorbar": {
              "outlinewidth": 0,
              "ticks": ""
             }
            },
            "type": "scattergeo"
           }
          ],
          "scattergl": [
           {
            "marker": {
             "colorbar": {
              "outlinewidth": 0,
              "ticks": ""
             }
            },
            "type": "scattergl"
           }
          ],
          "scattermapbox": [
           {
            "marker": {
             "colorbar": {
              "outlinewidth": 0,
              "ticks": ""
             }
            },
            "type": "scattermapbox"
           }
          ],
          "scatterpolar": [
           {
            "marker": {
             "colorbar": {
              "outlinewidth": 0,
              "ticks": ""
             }
            },
            "type": "scatterpolar"
           }
          ],
          "scatterpolargl": [
           {
            "marker": {
             "colorbar": {
              "outlinewidth": 0,
              "ticks": ""
             }
            },
            "type": "scatterpolargl"
           }
          ],
          "scatterternary": [
           {
            "marker": {
             "colorbar": {
              "outlinewidth": 0,
              "ticks": ""
             }
            },
            "type": "scatterternary"
           }
          ],
          "surface": [
           {
            "colorbar": {
             "outlinewidth": 0,
             "ticks": ""
            },
            "colorscale": [
             [
              0,
              "#0d0887"
             ],
             [
              0.1111111111111111,
              "#46039f"
             ],
             [
              0.2222222222222222,
              "#7201a8"
             ],
             [
              0.3333333333333333,
              "#9c179e"
             ],
             [
              0.4444444444444444,
              "#bd3786"
             ],
             [
              0.5555555555555556,
              "#d8576b"
             ],
             [
              0.6666666666666666,
              "#ed7953"
             ],
             [
              0.7777777777777778,
              "#fb9f3a"
             ],
             [
              0.8888888888888888,
              "#fdca26"
             ],
             [
              1,
              "#f0f921"
             ]
            ],
            "type": "surface"
           }
          ],
          "table": [
           {
            "cells": {
             "fill": {
              "color": "#EBF0F8"
             },
             "line": {
              "color": "white"
             }
            },
            "header": {
             "fill": {
              "color": "#C8D4E3"
             },
             "line": {
              "color": "white"
             }
            },
            "type": "table"
           }
          ]
         },
         "layout": {
          "annotationdefaults": {
           "arrowcolor": "#2a3f5f",
           "arrowhead": 0,
           "arrowwidth": 1
          },
          "autotypenumbers": "strict",
          "coloraxis": {
           "colorbar": {
            "outlinewidth": 0,
            "ticks": ""
           }
          },
          "colorscale": {
           "diverging": [
            [
             0,
             "#8e0152"
            ],
            [
             0.1,
             "#c51b7d"
            ],
            [
             0.2,
             "#de77ae"
            ],
            [
             0.3,
             "#f1b6da"
            ],
            [
             0.4,
             "#fde0ef"
            ],
            [
             0.5,
             "#f7f7f7"
            ],
            [
             0.6,
             "#e6f5d0"
            ],
            [
             0.7,
             "#b8e186"
            ],
            [
             0.8,
             "#7fbc41"
            ],
            [
             0.9,
             "#4d9221"
            ],
            [
             1,
             "#276419"
            ]
           ],
           "sequential": [
            [
             0,
             "#0d0887"
            ],
            [
             0.1111111111111111,
             "#46039f"
            ],
            [
             0.2222222222222222,
             "#7201a8"
            ],
            [
             0.3333333333333333,
             "#9c179e"
            ],
            [
             0.4444444444444444,
             "#bd3786"
            ],
            [
             0.5555555555555556,
             "#d8576b"
            ],
            [
             0.6666666666666666,
             "#ed7953"
            ],
            [
             0.7777777777777778,
             "#fb9f3a"
            ],
            [
             0.8888888888888888,
             "#fdca26"
            ],
            [
             1,
             "#f0f921"
            ]
           ],
           "sequentialminus": [
            [
             0,
             "#0d0887"
            ],
            [
             0.1111111111111111,
             "#46039f"
            ],
            [
             0.2222222222222222,
             "#7201a8"
            ],
            [
             0.3333333333333333,
             "#9c179e"
            ],
            [
             0.4444444444444444,
             "#bd3786"
            ],
            [
             0.5555555555555556,
             "#d8576b"
            ],
            [
             0.6666666666666666,
             "#ed7953"
            ],
            [
             0.7777777777777778,
             "#fb9f3a"
            ],
            [
             0.8888888888888888,
             "#fdca26"
            ],
            [
             1,
             "#f0f921"
            ]
           ]
          },
          "colorway": [
           "#636efa",
           "#EF553B",
           "#00cc96",
           "#ab63fa",
           "#FFA15A",
           "#19d3f3",
           "#FF6692",
           "#B6E880",
           "#FF97FF",
           "#FECB52"
          ],
          "font": {
           "color": "#2a3f5f"
          },
          "geo": {
           "bgcolor": "white",
           "lakecolor": "white",
           "landcolor": "#E5ECF6",
           "showlakes": true,
           "showland": true,
           "subunitcolor": "white"
          },
          "hoverlabel": {
           "align": "left"
          },
          "hovermode": "closest",
          "mapbox": {
           "style": "light"
          },
          "paper_bgcolor": "white",
          "plot_bgcolor": "#E5ECF6",
          "polar": {
           "angularaxis": {
            "gridcolor": "white",
            "linecolor": "white",
            "ticks": ""
           },
           "bgcolor": "#E5ECF6",
           "radialaxis": {
            "gridcolor": "white",
            "linecolor": "white",
            "ticks": ""
           }
          },
          "scene": {
           "xaxis": {
            "backgroundcolor": "#E5ECF6",
            "gridcolor": "white",
            "gridwidth": 2,
            "linecolor": "white",
            "showbackground": true,
            "ticks": "",
            "zerolinecolor": "white"
           },
           "yaxis": {
            "backgroundcolor": "#E5ECF6",
            "gridcolor": "white",
            "gridwidth": 2,
            "linecolor": "white",
            "showbackground": true,
            "ticks": "",
            "zerolinecolor": "white"
           },
           "zaxis": {
            "backgroundcolor": "#E5ECF6",
            "gridcolor": "white",
            "gridwidth": 2,
            "linecolor": "white",
            "showbackground": true,
            "ticks": "",
            "zerolinecolor": "white"
           }
          },
          "shapedefaults": {
           "line": {
            "color": "#2a3f5f"
           }
          },
          "ternary": {
           "aaxis": {
            "gridcolor": "white",
            "linecolor": "white",
            "ticks": ""
           },
           "baxis": {
            "gridcolor": "white",
            "linecolor": "white",
            "ticks": ""
           },
           "bgcolor": "#E5ECF6",
           "caxis": {
            "gridcolor": "white",
            "linecolor": "white",
            "ticks": ""
           }
          },
          "title": {
           "x": 0.05
          },
          "xaxis": {
           "automargin": true,
           "gridcolor": "white",
           "linecolor": "white",
           "ticks": "",
           "title": {
            "standoff": 15
           },
           "zerolinecolor": "white",
           "zerolinewidth": 2
          },
          "yaxis": {
           "automargin": true,
           "gridcolor": "white",
           "linecolor": "white",
           "ticks": "",
           "title": {
            "standoff": 15
           },
           "zerolinecolor": "white",
           "zerolinewidth": 2
          }
         }
        }
       }
      }
     },
     "metadata": {},
     "output_type": "display_data"
    }
   ],
   "source": [
    "# Display the top tracks DataFrame\n",
    "fig = px.treemap(top_tracks.groupby('Time Range').head(10), path=[px.Constant('My Top Tracks'), 'Time Range', 'Artist', 'Track'])\n",
    "fig.update_traces(insidetextfont=dict(size=14),\n",
    "                  textposition='middle center')\n",
    "fig.update_layout(colorway=['#f6b520', '#f0cc80', '#0c8c4c', '#3f8c44', '#eae9e5', '#424236'],\n",
    "                  margin=dict(t=0, l=0, r=0, b=0))\n",
    "fig.show()\n",
    "fig.write_image('figures/MyTopTracks.png', engine='kaleido', scale=5)"
   ]
  },
  {
   "cell_type": "code",
   "execution_count": 16,
   "metadata": {},
   "outputs": [],
   "source": [
    "# This function takes a playlist id and returns a dataframe with the tracks and their audio features\n",
    "def call_playlist(playlist_id, cid, secret):\n",
    "    # generating the access token for the spotify api\n",
    "    # authentication base url\n",
    "    auth_url = 'https://accounts.spotify.com/api/token'\n",
    "    auth_response = requests.post(auth_url, {'grant_type': 'client_credentials',\n",
    "                                             'client_id': cid,\n",
    "                                             'client_secret': secret})\n",
    "    auth_response_data = auth_response.json()\n",
    "    # save the access token from the response data\n",
    "    access_token = auth_response_data['access_token']\n",
    "    \n",
    "    # defining headers used for authenticating all api calls\n",
    "    headers = {'Authorization': 'Bearer {token}'.format(token = access_token)}\n",
    "    \n",
    "    # setting the base url for the api call\n",
    "    base_url = 'https://api.spotify.com/v1/'\n",
    "    \n",
    "    # calling the api to get the tracks on the playlist\n",
    "    playlist_request = requests.get(base_url + 'playlists/' + playlist_id + '/tracks', headers = headers)\n",
    "    playlist = playlist_request.json()\n",
    "    # resetting playlist variable to parse out only the items (no additional playlist metadata)\n",
    "    playlist = playlist['items']\n",
    "    \n",
    "    # creating an empty list to append the primary data for each track to\n",
    "    tracks = []\n",
    "    \n",
    "    # iterating through each item and pulling out primary data\n",
    "    for track in playlist:\n",
    "        track_name = track['track']['name']\n",
    "        track_id = track['track']['id']\n",
    "        # parsing out the dictionary of song artists, iterating through each dict item, and appending each artist to an empty list\n",
    "        # this will ensure all artists associated with the song are provided the proper credit\n",
    "        artists = track['track']['artists']\n",
    "        track_artists = []\n",
    "        for artist in artists:\n",
    "            artist_name = artist['name']\n",
    "            track_artists.append(artist_name)\n",
    "        # pulling the rest of the data items that are available in this get request\n",
    "        popularity = track['track']['popularity']\n",
    "        explicit = track['track']['explicit']\n",
    "        # appending the defined variables to the empty tracks list - this will create a list of lists to turn into a dataframe\n",
    "        tracks.append([track_name, track_id, track_artists, popularity, explicit])\n",
    "    \n",
    "    # creating the tracks dataframe\n",
    "    tracks_columns = ['track_name', 'track_id', 'track_artists', 'popularity', 'explicit']\n",
    "    tracks_df = pd.DataFrame(tracks, columns = tracks_columns)\n",
    "    \n",
    "    # creating a list of track ids to retrieve features for using the spotify api\n",
    "    all_track_ids = tracks_df['track_id'].to_list()\n",
    "    track_ids = []\n",
    "\n",
    "    for t_id in all_track_ids:\n",
    "        if t_id != None:\n",
    "            track_ids.append(t_id)\n",
    "    \n",
    "    # creating an empty list to append the audio features for each song to\n",
    "    features = []\n",
    "    \n",
    "    # iterating through each track id and calling the api to pull the audio features for the track\n",
    "    for t_id in track_ids:\n",
    "        features_request = requests.get(base_url + 'audio-features/' + t_id, headers = headers)\n",
    "        audio_features = features_request.json()\n",
    "        features.append(audio_features)\n",
    "    \n",
    "    # creating a df and appending select data values for each set of audio features\n",
    "    features_columns = ['id', 'danceability', 'energy', 'key', 'loudness', 'mode', 'speechiness',\n",
    "                        'acousticness', 'instrumentalness', 'liveness', 'valence', 'tempo', 'duration_ms', 'time_signature']\n",
    "    features_df = pd.DataFrame(features, columns = features_columns)\n",
    "    \n",
    "    # joining the two dfs on the track id\n",
    "    playlist_df = tracks_df.merge(features_df, how = 'outer', left_on = 'track_id', right_on = 'id')\n",
    "    \n",
    "    # return playlist for viewing\n",
    "    return playlist_df"
   ]
  },
  {
   "cell_type": "code",
   "execution_count": 19,
   "metadata": {},
   "outputs": [],
   "source": [
    "# Example of the function\n",
    "playlist_id = '05wi7cd3ZWrVnxhfHk8SlF'\n",
    "\n",
    "playlist = call_playlist(playlist_id, client_id, client_secret)\n",
    "playlist.head(5)"
   ]
  },
  {
   "cell_type": "markdown",
   "metadata": {},
   "source": [
    "> I added this last function because I think this would be cool to analyze a playlist and try to see how effective it can be in a party. If we use a model and analyze its features, then we could be able to determine how this would guarantee that the music will have a positive effect in the people."
   ]
  },
  {
   "cell_type": "markdown",
   "metadata": {},
   "source": [
    "### References:\n",
    "- spotipy-dev/spotipy: A light weight Python library for the Spotify Web API. (2023, October 31). GitHub. https://github.com/spotipy-dev/spotipy.\n",
    "- Freidenburg, M. (2023, October 21). A Data Art Project: the Spotify July Top 50 | Medium. Medium; Medium. https://medium.com/@miafreidenburg/spotify-top-50-689a37c90b7c\n"
   ]
  }
 ],
 "metadata": {
  "kernelspec": {
   "display_name": "Python 3",
   "language": "python",
   "name": "python3"
  },
  "language_info": {
   "codemirror_mode": {
    "name": "ipython",
    "version": 3
   },
   "file_extension": ".py",
   "mimetype": "text/x-python",
   "name": "python",
   "nbconvert_exporter": "python",
   "pygments_lexer": "ipython3",
   "version": "3.10.11"
  }
 },
 "nbformat": 4,
 "nbformat_minor": 2
}
