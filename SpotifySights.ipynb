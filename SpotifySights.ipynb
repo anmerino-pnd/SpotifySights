{
 "cells": [
  {
   "cell_type": "markdown",
   "metadata": {},
   "source": [
    "# SpotifySights"
   ]
  },
  {
   "cell_type": "code",
   "execution_count": 1,
   "metadata": {},
   "outputs": [],
   "source": [
    "# Libraries needed for the project\n",
    "import json\n",
    "import base64\n",
    "import spotipy                                              # type: ignore                          \n",
    "import numpy as np\n",
    "import pandas as pd\n",
    "import seaborn as sns\n",
    "from requests import post, get"
   ]
  },
  {
   "cell_type": "markdown",
   "metadata": {},
   "source": [
    "### API credentials\n",
    "Remember that you can get the credentials creating an app in the [spotify developers web](https://developer.spotify.com/dashboard)."
   ]
  },
  {
   "cell_type": "code",
   "execution_count": 2,
   "metadata": {},
   "outputs": [],
   "source": [
    "# Spotify API credentials\n",
    "SPOTIPY_CLIENT_ID = \"4122a22d0e964aa79d115b85f384f661\"\n",
    "SPOTIPY_CLIENT_SECRET = \"07f933d0f9cc4dc58d0302c9227d6717\"\n"
   ]
  },
  {
   "cell_type": "code",
   "execution_count": 18,
   "metadata": {},
   "outputs": [],
   "source": [
    "# Function to get the token\n",
    "def token():\n",
    "    \"\"\" \n",
    "    Function to get the token for the Spotify API, without this the API won't work.\n",
    "    You don't have to change anything in this function.\n",
    "    \"\"\"\n",
    "    auth_string = f\"{SPOTIPY_CLIENT_ID}:{SPOTIPY_CLIENT_SECRET}\"\n",
    "    auth_bytes = auth_string.encode(\"utf-8\")\n",
    "    auth_encoded = base64.b64encode(auth_bytes)\n",
    "\n",
    "    url = \"https://accounts.spotify.com/api/token\"\n",
    "    headers = {\n",
    "        \"Authorization\": f\"Basic {auth_encoded.decode('utf-8')}\",\n",
    "        \"Content-Type\": \"application/x-www-form-urlencoded\"\n",
    "        }\n",
    "    data = {\"grant_type\": \"client_credentials\"}\n",
    "    result = post(url, headers=headers, data=data)\n",
    "    json_result = json.loads(result.content)\n",
    "    token = json_result[\"access_token\"]\n",
    "    return token\n",
    "\n",
    "# Function to get the authorization header\n",
    "def get_auth_header(token):\n",
    "    \"\"\"\n",
    "    Function to get the authorization header for the Spotify API.\n",
    "    You don't have to change anything in this function.\n",
    "    \"\"\"\n",
    "    return {\"Authorization\": \"Bearer \" + token}"
   ]
  },
  {
   "cell_type": "code",
   "execution_count": 19,
   "metadata": {},
   "outputs": [],
   "source": [
    "def my_profile():\n",
    "    \"\"\"\n",
    "    Function to get the profile of the user.\n",
    "    \"\"\"\n",
    "    token_ = token()\n",
    "    print(token_)\n",
    "    headers = get_auth_header(token_)\n",
    "    url = \"https://api.spotify.com/v1/me\"\n",
    "    result = get(url, headers=headers)\n",
    "    return json.loads(result.content)"
   ]
  },
  {
   "cell_type": "code",
   "execution_count": 20,
   "metadata": {},
   "outputs": [
    {
     "name": "stdout",
     "output_type": "stream",
     "text": [
      "BQBDfrIXrORjVd8P7plgPiT5er13YESkUld1DsaaGlS-aSaZUyAAi-bKWE3MbrmnHmTiK4appcWuhy7UM2wl98aEokP0mze3z0x2ljsrUoZZDyIknS8\n",
      "{'error': {'status': 401, 'message': 'Unauthorized.'}}\n"
     ]
    }
   ],
   "source": [
    "\n",
    "me = my_profile()\n",
    "print(me)"
   ]
  },
  {
   "cell_type": "code",
   "execution_count": null,
   "metadata": {},
   "outputs": [],
   "source": []
  }
 ],
 "metadata": {
  "kernelspec": {
   "display_name": "Python 3",
   "language": "python",
   "name": "python3"
  },
  "language_info": {
   "codemirror_mode": {
    "name": "ipython",
    "version": 3
   },
   "file_extension": ".py",
   "mimetype": "text/x-python",
   "name": "python",
   "nbconvert_exporter": "python",
   "pygments_lexer": "ipython3",
   "version": "3.10.11"
  }
 },
 "nbformat": 4,
 "nbformat_minor": 2
}
